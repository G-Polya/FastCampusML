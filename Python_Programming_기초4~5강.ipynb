{
  "nbformat": 4,
  "nbformat_minor": 0,
  "metadata": {
    "colab": {
      "name": "Python_Programming_기초4~5강.ipynb",
      "version": "0.3.2",
      "provenance": [],
      "collapsed_sections": [],
      "include_colab_link": true
    },
    "kernelspec": {
      "name": "python3",
      "display_name": "Python 3"
    }
  },
  "cells": [
    {
      "cell_type": "markdown",
      "metadata": {
        "id": "view-in-github",
        "colab_type": "text"
      },
      "source": [
        "<a href=\"https://colab.research.google.com/github/G-Polya/ML/blob/master/Python_Programming_%EA%B8%B0%EC%B4%884~5%EA%B0%95.ipynb\" target=\"_parent\"><img src=\"https://colab.research.google.com/assets/colab-badge.svg\" alt=\"Open In Colab\"/></a>"
      ]
    },
    {
      "cell_type": "markdown",
      "metadata": {
        "id": "0qB4U0_wP5wM",
        "colab_type": "text"
      },
      "source": [
        "## 컬렉션 타입의 이해\n",
        "\n",
        "### 리스트 & 튜플\n",
        "- 복수개의 값을 담을 수 있는 데이터 구조\n",
        "- 실생활에서 사용하는 리스트(학생 리스트, 성적 리스트 등등)과 동일한 의미로 이해\n",
        "- list - mutable(생성된 후에 변경 가능)\n",
        "- tuple - immutable(생성된 후에 변경 불가능)\n",
        "\n",
        "### 리스트 초기화\n",
        "- [] 안에 값을 담아서 생성\n",
        "- list() 함수로 생성\n",
        "- str.split()함수로 생성\n"
      ]
    },
    {
      "cell_type": "code",
      "metadata": {
        "id": "_4J6WBWtw_15",
        "colab_type": "code",
        "colab": {
          "base_uri": "https://localhost:8080/",
          "height": 35
        },
        "outputId": "1157583f-dfc7-4f9f-90f8-01ef4dca156c"
      },
      "source": [
        "a = []\n",
        "print(a)"
      ],
      "execution_count": 3,
      "outputs": [
        {
          "output_type": "stream",
          "text": [
            "[]\n"
          ],
          "name": "stdout"
        }
      ]
    },
    {
      "cell_type": "code",
      "metadata": {
        "id": "Qf2Q1GeOxLDa",
        "colab_type": "code",
        "colab": {
          "base_uri": "https://localhost:8080/",
          "height": 35
        },
        "outputId": "1fcfa4fd-00b2-45d4-acff-da7139d7c2db"
      },
      "source": [
        "a = [1,2,3,5,10]\n",
        "print(a)"
      ],
      "execution_count": 5,
      "outputs": [
        {
          "output_type": "stream",
          "text": [
            "[1, 2, 3, 5, 10]\n"
          ],
          "name": "stdout"
        }
      ]
    },
    {
      "cell_type": "code",
      "metadata": {
        "id": "7auySr2kxQLK",
        "colab_type": "code",
        "colab": {}
      },
      "source": [
        "a = ['korea', 'canada',1,23,[34,56]] # 원소가 5개인 리스트\n"
      ],
      "execution_count": 0,
      "outputs": []
    },
    {
      "cell_type": "markdown",
      "metadata": {
        "id": "VmNhUbErxBbl",
        "colab_type": "text"
      },
      "source": [
        "- list() 함수\n",
        " - 다른 데이터 타입을 리스트로 변환할 때도 사용"
      ]
    },
    {
      "cell_type": "code",
      "metadata": {
        "id": "6ILgV2GrxcBq",
        "colab_type": "code",
        "colab": {
          "base_uri": "https://localhost:8080/",
          "height": 35
        },
        "outputId": "8705772c-e8d5-42b5-a1d9-08dcc2cafdbe"
      },
      "source": [
        "a = 'hello world'\n",
        "b = list(a)\n",
        "print(b)"
      ],
      "execution_count": 8,
      "outputs": [
        {
          "output_type": "stream",
          "text": [
            "['h', 'e', 'l', 'l', 'o', ' ', 'w', 'o', 'r', 'l', 'd']\n"
          ],
          "name": "stdout"
        }
      ]
    },
    {
      "cell_type": "markdown",
      "metadata": {
        "id": "8qFOaR-mxfRr",
        "colab_type": "text"
      },
      "source": [
        "- string split함수\n",
        " - 구분자로 구분되는 리스트를 반환(빈번히 사용됨)"
      ]
    },
    {
      "cell_type": "code",
      "metadata": {
        "id": "B29sN-DpxyeS",
        "colab_type": "code",
        "colab": {
          "base_uri": "https://localhost:8080/",
          "height": 35
        },
        "outputId": "40006812-8815-4fdf-cf42-da543e849b32"
      },
      "source": [
        "a = 'hello world nice weather'\n",
        "b = a.split()\n",
        "\n",
        "print(b)"
      ],
      "execution_count": 9,
      "outputs": [
        {
          "output_type": "stream",
          "text": [
            "['hello', 'world', 'nice', 'weather']\n"
          ],
          "name": "stdout"
        }
      ]
    },
    {
      "cell_type": "markdown",
      "metadata": {
        "id": "0pSnOg83x1Qj",
        "colab_type": "text"
      },
      "source": [
        "### 리스트 indexing\n",
        "- 문자열의 인덱싱과 동일하게 동작\n",
        "- [] 연산자를 이용하여 항목 얻어오기\n",
        "- [i] - i번째 원소를 반환\n",
        "- i가 음수인 경우도 가능하여 마지막 원소가 -1로 하여 앞으로 갈때마다 1씩 감소함"
      ]
    },
    {
      "cell_type": "code",
      "metadata": {
        "id": "kslS0vY6yJ61",
        "colab_type": "code",
        "colab": {
          "base_uri": "https://localhost:8080/",
          "height": 53
        },
        "outputId": "f24e5ca7-dad0-4488-d197-4f8c4937f7f8"
      },
      "source": [
        "a = [1,2,3,4,5,6]\n",
        "print(a[2])\n",
        "print(a[5],a[-1])"
      ],
      "execution_count": 11,
      "outputs": [
        {
          "output_type": "stream",
          "text": [
            "3\n",
            "6 6\n"
          ],
          "name": "stdout"
        }
      ]
    },
    {
      "cell_type": "markdown",
      "metadata": {
        "id": "R1VBf0AWyMxa",
        "colab_type": "text"
      },
      "source": [
        "### 리스트 개별 아이템에 접근\n",
        "- 인덱스에 접근하여 값을 업데이트 가능 "
      ]
    },
    {
      "cell_type": "code",
      "metadata": {
        "id": "WwT8zTmmyfId",
        "colab_type": "code",
        "colab": {
          "base_uri": "https://localhost:8080/",
          "height": 89
        },
        "outputId": "755340ed-0384-4ca1-eb4d-612dbe87e5c8"
      },
      "source": [
        "# 문자열은 불변(immutable) 객체\n",
        "a = 'hello world'\n",
        "print(a[0])\n",
        "\n",
        "b = 'jello world'\n",
        "c = 'j' + a[1:]\n",
        "\n",
        "print(a.replace('h','j')) # replace함수는 a를 변화시키지 않고 새로운 문자열을 반환\n",
        "print(a)\n",
        "print(b,c)"
      ],
      "execution_count": 13,
      "outputs": [
        {
          "output_type": "stream",
          "text": [
            "h\n",
            "jello world\n",
            "hello world\n",
            "jello world jello world\n"
          ],
          "name": "stdout"
        }
      ]
    },
    {
      "cell_type": "code",
      "metadata": {
        "id": "43STl0VDzeF7",
        "colab_type": "code",
        "colab": {
          "base_uri": "https://localhost:8080/",
          "height": 35
        },
        "outputId": "5daf6294-6123-4e62-8633-acb8e4278f1e"
      },
      "source": [
        "#리스트는 mutable 객체\n",
        "a = [1,2,3,4,5]\n",
        "a[0] = 100\n",
        "\n",
        "print(a)"
      ],
      "execution_count": 14,
      "outputs": [
        {
          "output_type": "stream",
          "text": [
            "[100, 2, 3, 4, 5]\n"
          ],
          "name": "stdout"
        }
      ]
    },
    {
      "cell_type": "markdown",
      "metadata": {
        "id": "CfNRRmTez0rn",
        "colab_type": "text"
      },
      "source": [
        "### 리스트 slicing\n",
        "- 문자열 슬라이싱과 동일하게 동작\n",
        "- 슬라이싱의 결과 역시 list"
      ]
    },
    {
      "cell_type": "code",
      "metadata": {
        "id": "tNc3HRXt0DW6",
        "colab_type": "code",
        "colab": {
          "base_uri": "https://localhost:8080/",
          "height": 89
        },
        "outputId": "18230645-a3b8-4a46-f0b2-bb093ae2fc2b"
      },
      "source": [
        "a = [1,2,3,4,5,6,7,8]\n",
        "print(a[4:7])\n",
        "print(a[:7])\n",
        "print(a[3:])\n",
        "\n",
        "# slicing\n",
        "# start:end:increment\n",
        "\n",
        "a[1:7:2] # increment는 건너뛰는 숫자의 크기"
      ],
      "execution_count": 17,
      "outputs": [
        {
          "output_type": "stream",
          "text": [
            "[5, 6, 7]\n",
            "[1, 2, 3, 4, 5, 6, 7]\n",
            "[4, 5, 6, 7, 8]\n"
          ],
          "name": "stdout"
        },
        {
          "output_type": "execute_result",
          "data": {
            "text/plain": [
              "[2, 4, 6]"
            ]
          },
          "metadata": {
            "tags": []
          },
          "execution_count": 17
        }
      ]
    },
    {
      "cell_type": "markdown",
      "metadata": {
        "id": "W8-aLV_W0Gv6",
        "colab_type": "text"
      },
      "source": [
        "## list 멤버함수\n",
        "- 생성된 리스트 객체에 동작하는 함수\n",
        "\n",
        "\n",
        "- append()\n",
        " - 리스트의 끝에 항목을 추가함\n"
      ]
    },
    {
      "cell_type": "code",
      "metadata": {
        "id": "SKW_-ZeK1Ad1",
        "colab_type": "code",
        "colab": {
          "base_uri": "https://localhost:8080/",
          "height": 35
        },
        "outputId": "e9bb5520-19a3-43bf-876a-b2d8ebc7c214"
      },
      "source": [
        "a = [1,2,3,4,5]\n",
        "a.append(10)\n",
        "\n",
        "print(a)"
      ],
      "execution_count": 18,
      "outputs": [
        {
          "output_type": "stream",
          "text": [
            "[1, 2, 3, 4, 5, 10]\n"
          ],
          "name": "stdout"
        }
      ]
    },
    {
      "cell_type": "markdown",
      "metadata": {
        "id": "_fKT0pfx1JfK",
        "colab_type": "text"
      },
      "source": [
        "- extend()\n",
        " - 리스트를 연장\n",
        " - +=로도 가능함\n"
      ]
    },
    {
      "cell_type": "code",
      "metadata": {
        "id": "nclYFSkk1WT9",
        "colab_type": "code",
        "colab": {
          "base_uri": "https://localhost:8080/",
          "height": 35
        },
        "outputId": "56e6101e-1db8-404a-8d7a-b649d5633b94"
      },
      "source": [
        "a = [1,2,3,4,5]\n",
        "b =[6,7,8,9,10]\n",
        "\n",
        "# [ 1,2,3,4,5,6,7,8,9,10]\n",
        "\n",
        "# a.append(b)\n",
        "# print(a)\n",
        "# print(a[5])\n",
        "\n",
        "a.extend(b)\n",
        "print(a)\n"
      ],
      "execution_count": 23,
      "outputs": [
        {
          "output_type": "stream",
          "text": [
            "[1, 2, 3, 4, 5, 6, 7, 8, 9, 10]\n"
          ],
          "name": "stdout"
        }
      ]
    },
    {
      "cell_type": "markdown",
      "metadata": {
        "id": "cMQF3Kos1im6",
        "colab_type": "text"
      },
      "source": [
        "- insert()로 항목추가\n",
        " - 리스트의 원하는 위치에 추가 가능\n",
        " - 앞에 인덱스, 뒤에 아이템을 명시"
      ]
    },
    {
      "cell_type": "code",
      "metadata": {
        "id": "fobIefJz1_yG",
        "colab_type": "code",
        "colab": {
          "base_uri": "https://localhost:8080/",
          "height": 35
        },
        "outputId": "88957dbc-cf06-475c-dc81-42681281ffde"
      },
      "source": [
        "a = [1,3,4,5,6]\n",
        "a.insert(1, 40)\n",
        "\n",
        "print(a)"
      ],
      "execution_count": 25,
      "outputs": [
        {
          "output_type": "stream",
          "text": [
            "[1, 40, 3, 4, 5, 6]\n"
          ],
          "name": "stdout"
        }
      ]
    },
    {
      "cell_type": "markdown",
      "metadata": {
        "id": "ySOQW2Ln2ILi",
        "colab_type": "text"
      },
      "source": [
        "- remove()\n",
        " - 값으로 항목 삭제\n",
        " "
      ]
    },
    {
      "cell_type": "code",
      "metadata": {
        "id": "Pv8sOgH32Xay",
        "colab_type": "code",
        "colab": {
          "base_uri": "https://localhost:8080/",
          "height": 35
        },
        "outputId": "ce277a1e-0bda-4069-cbcd-1f68f3b0652a"
      },
      "source": [
        "a = [1,2,3,4,5]\n",
        "a.remove(2)\n",
        "\n",
        "print(a)"
      ],
      "execution_count": 28,
      "outputs": [
        {
          "output_type": "stream",
          "text": [
            "[1, 3, 4, 5]\n"
          ],
          "name": "stdout"
        }
      ]
    },
    {
      "cell_type": "markdown",
      "metadata": {
        "id": "OD7P9JIv2aii",
        "colab_type": "text"
      },
      "source": [
        "- pop()\n",
        "\n",
        " - 지우고자 하는 아이템을 반환 후, 삭제. 인덱스를 명시하지 않으면 가장 마지막에 해당하는 원소를 반환 후 삭제"
      ]
    },
    {
      "cell_type": "code",
      "metadata": {
        "id": "wo5T_w9e2xz5",
        "colab_type": "code",
        "colab": {
          "base_uri": "https://localhost:8080/",
          "height": 35
        },
        "outputId": "e90ac402-7180-48c3-cf86-e66f987b031c"
      },
      "source": [
        "a = [1,2,3,4,5]\n",
        "a.pop(1)\n",
        "\n",
        "print(a)"
      ],
      "execution_count": 31,
      "outputs": [
        {
          "output_type": "stream",
          "text": [
            "[1, 3, 4, 5]\n"
          ],
          "name": "stdout"
        }
      ]
    },
    {
      "cell_type": "markdown",
      "metadata": {
        "id": "Bd4ZBANF20cs",
        "colab_type": "text"
      },
      "source": [
        "- index()\n",
        " - 찾고자 하는 값의 인덱스 반환"
      ]
    },
    {
      "cell_type": "code",
      "metadata": {
        "id": "wzHBIbij3Kvo",
        "colab_type": "code",
        "colab": {
          "base_uri": "https://localhost:8080/",
          "height": 35
        },
        "outputId": "25c147f1-5e2c-4f83-8fd1-5abc585c2094"
      },
      "source": [
        "a = [2,6,7,9,10]\n",
        "a.index(9)"
      ],
      "execution_count": 32,
      "outputs": [
        {
          "output_type": "execute_result",
          "data": {
            "text/plain": [
              "3"
            ]
          },
          "metadata": {
            "tags": []
          },
          "execution_count": 32
        }
      ]
    },
    {
      "cell_type": "markdown",
      "metadata": {
        "id": "0XHnSoim3Npp",
        "colab_type": "text"
      },
      "source": [
        "- in 키워드\n",
        " - 리스트 내에 해당 값이 존재하는지 확인\n",
        " - value in [list]\n",
        " - True, False 중 한가지로 반환\n",
        " "
      ]
    },
    {
      "cell_type": "code",
      "metadata": {
        "id": "6ZYuhw9d3WYp",
        "colab_type": "code",
        "colab": {
          "base_uri": "https://localhost:8080/",
          "height": 35
        },
        "outputId": "4841db07-3bb8-4241-c1bf-a947a36e07dd"
      },
      "source": [
        "a = [1,2,3,4,5,10]\n",
        "b = 7\n",
        "\n",
        "c = b in a\n",
        "print(c)"
      ],
      "execution_count": 33,
      "outputs": [
        {
          "output_type": "stream",
          "text": [
            "False\n"
          ],
          "name": "stdout"
        }
      ]
    },
    {
      "cell_type": "markdown",
      "metadata": {
        "id": "GHO3Ze583bky",
        "colab_type": "text"
      },
      "source": [
        "- list 정렬\n",
        " - sort() -> 리스트 자체를 내부적으로 정렬\n",
        " - sorted() -> 리스트의 정렬된 복사본을 반환"
      ]
    },
    {
      "cell_type": "code",
      "metadata": {
        "id": "IYR9rpfR3rct",
        "colab_type": "code",
        "colab": {
          "base_uri": "https://localhost:8080/",
          "height": 53
        },
        "outputId": "7a943882-6485-46d9-d00c-69d3ae333b38"
      },
      "source": [
        "a = [9,10,7,19,1,2,20,21,7,8]\n",
        "a.sort(reverse = True) # reverse = True : 내림차순, reverse = False : 오름차순\n",
        "\n",
        "b = sorted(a,reverse = False)\n",
        "\n",
        "print(a)\n",
        "print(b)"
      ],
      "execution_count": 42,
      "outputs": [
        {
          "output_type": "stream",
          "text": [
            "[21, 20, 19, 10, 9, 8, 7, 7, 2, 1]\n",
            "[1, 2, 7, 7, 8, 9, 10, 19, 20, 21]\n"
          ],
          "name": "stdout"
        }
      ]
    },
    {
      "cell_type": "code",
      "metadata": {
        "id": "xnmvhOGh3vJS",
        "colab_type": "code",
        "colab": {}
      },
      "source": [
        "\n"
      ],
      "execution_count": 0,
      "outputs": []
    }
  ]
}