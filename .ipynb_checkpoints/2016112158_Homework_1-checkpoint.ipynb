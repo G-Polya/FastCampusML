{
 "cells": [
  {
   "cell_type": "code",
   "execution_count": null,
   "metadata": {},
   "outputs": [],
   "source": [
    "# 문제 1\n",
    "num_list2 = list(range(1, 1001))\n",
    "for i in num_list2:\n",
    "    if (i % 2 == 0) :\n",
    "        num_list2.remove(i)\n",
    "\n",
    "for i in num_list2:\n",
    "    if i % 3 == 0:\n",
    "        num_list2.remove(i)\n",
    "        \n",
    "print(num_list2)\n"
   ]
  },
  {
   "cell_type": "code",
   "execution_count": null,
   "metadata": {},
   "outputs": [],
   "source": [
    "# 문제 1\n",
    "num_list2 = list(range(1, 1001))\n",
    "for i in num_list2:\n",
    "    if (i % 2 == 0) or (i % 3 ==0) :\n",
    "        num_list2.remove(i)\n",
    "\n",
    "\n",
    "        \n",
    "print(num_list2) # 3의 배수그 remove되지 않는데 그 이유는...\n",
    "                 # or 연산에서 앞부분만 참이면 전체가 참이 되서 그런듯..이라고 추정\n"
   ]
  },
  {
   "cell_type": "code",
   "execution_count": null,
   "metadata": {},
   "outputs": [],
   "source": [
    "# 문제 1 numpy의 ndarray로 계산\n",
    "import numpy as np\n",
    "n_list = np.arange(1, 1001)\n",
    "\n",
    "n_list[((n_list % 2 !=0 ) & (n_list % 3 != 0))]"
   ]
  },
  {
   "cell_type": "code",
   "execution_count": null,
   "metadata": {},
   "outputs": [],
   "source": [
    "import random\n",
    "target = random.randrange(100)\n",
    "print(target)\n",
    "\n",
    "print('출력 화면: ')\n",
    "\n",
    "count = 0\n",
    "\n",
    "while(True):\n",
    "    trial = int(input('숫자를 맞춰보세요: '))\n",
    "    if target > trial: # target이 trial보다 크면 큼! 이라고 출력\n",
    "        count += 1\n",
    "        print('큼!')\n",
    "    elif target < trial: # 작으면 작음! 이라고 출력\n",
    "        count += 1\n",
    "        print('작음!')\n",
    "    else:\n",
    "        count+=1\n",
    "        print('정답!')\n",
    "        print(count,'번 만에 정답을 맞추셨습니다')\n",
    "        print('출력 화면')\n",
    "        quit = input('Quit(Y/N): ')\n",
    "        if quit == 'Y':\n",
    "            print('게임 종료')\n",
    "            break\n",
    "        elif quit == 'N':\n",
    "            print('계속합니다')\n",
    "            target = random.randrange(100)\n",
    "            print(target)\n",
    "            count = 0 \n",
    "            continue\n",
    "        \n"
   ]
  },
  {
   "cell_type": "code",
   "execution_count": null,
   "metadata": {},
   "outputs": [],
   "source": []
  }
 ],
 "metadata": {
  "kernelspec": {
   "display_name": "Python 3",
   "language": "python",
   "name": "python3"
  },
  "language_info": {
   "codemirror_mode": {
    "name": "ipython",
    "version": 3
   },
   "file_extension": ".py",
   "mimetype": "text/x-python",
   "name": "python",
   "nbconvert_exporter": "python",
   "pygments_lexer": "ipython3",
   "version": "3.7.3"
  }
 },
 "nbformat": 4,
 "nbformat_minor": 2
}
