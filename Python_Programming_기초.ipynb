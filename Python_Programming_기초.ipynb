{
  "nbformat": 4,
  "nbformat_minor": 0,
  "metadata": {
    "colab": {
      "name": "Python Programming 기초.ipynb",
      "version": "0.3.2",
      "provenance": [],
      "include_colab_link": true
    },
    "kernelspec": {
      "name": "python3",
      "display_name": "Python 3"
    }
  },
  "cells": [
    {
      "cell_type": "markdown",
      "metadata": {
        "id": "view-in-github",
        "colab_type": "text"
      },
      "source": [
        "<a href=\"https://colab.research.google.com/github/G-Polya/ML/blob/temp/Python_Programming_%EA%B8%B0%EC%B4%88.ipynb\" target=\"_parent\"><img src=\"https://colab.research.google.com/assets/colab-badge.svg\" alt=\"Open In Colab\"/></a>"
      ]
    },
    {
      "cell_type": "markdown",
      "metadata": {
        "id": "pFl_wuoCW-0f",
        "colab_type": "text"
      },
      "source": [
        "#파이썬 기본 데이터 타입\n",
        " - 정수 int\n",
        " - 실수 float\n",
        " - 문자열 str\n",
        " - 불리언 boolean\n",
        " \n",
        "# type함수\n",
        " - 해당 변수, 값의 타입(type)을 알고자 할 떄 사용\n",
        " "
      ]
    },
    {
      "cell_type": "code",
      "metadata": {
        "id": "BqMBY_MZXrCt",
        "colab_type": "code",
        "colab": {
          "base_uri": "https://localhost:8080/",
          "height": 35
        },
        "outputId": "ec4fb330-eefd-4801-fd54-e240df506938"
      },
      "source": [
        "a = 10\n",
        "b = 11.45\n",
        "\n",
        "type(b)"
      ],
      "execution_count": 1,
      "outputs": [
        {
          "output_type": "execute_result",
          "data": {
            "text/plain": [
              "float"
            ]
          },
          "metadata": {
            "tags": []
          },
          "execution_count": 1
        }
      ]
    },
    {
      "cell_type": "code",
      "metadata": {
        "id": "h_iSFmLqXttr",
        "colab_type": "code",
        "colab": {}
      },
      "source": [
        ""
      ],
      "execution_count": 0,
      "outputs": []
    }
  ]
}