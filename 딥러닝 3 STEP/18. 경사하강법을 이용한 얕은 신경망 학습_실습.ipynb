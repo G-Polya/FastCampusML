{
 "cells": [
  {
   "cell_type": "markdown",
   "metadata": {},
   "source": [
    "# 경사 하강법을 이용한 얕은 신경망 학습\n"
   ]
  },
  {
   "cell_type": "code",
   "execution_count": 1,
   "metadata": {},
   "outputs": [
    {
     "output_type": "execute_result",
     "data": {
      "text/plain": [
       "'2.3.0'"
      ]
     },
     "metadata": {},
     "execution_count": 1
    }
   ],
   "source": [
    "import tensorflow as tf\n",
    "import numpy as np\n",
    "tf.__version__"
   ]
  },
  {
   "cell_type": "markdown",
   "metadata": {},
   "source": [
    "## 하이퍼 파라미터 설정"
   ]
  },
  {
   "cell_type": "code",
   "execution_count": null,
   "metadata": {},
   "outputs": [],
   "source": [
    "EPOCHS = 1000"
   ]
  },
  {
   "cell_type": "markdown",
   "metadata": {},
   "source": [
    "## 네트워크 구조 정의\n",
    "### 얕은 신경망\n",
    "#### 입력 계층 : 2, 은닉 계층 : 128 (Sigmoid activation), 출력 계층 : 10 (Softmax activation)"
   ]
  },
  {
   "cell_type": "code",
   "execution_count": null,
   "metadata": {},
   "outputs": [],
   "source": [
    "class MyModel(tf.keras.Model):\n",
    "  def __init__(self):\n",
    "    super(MyModel, self).__init__()\n",
    "    self.d1 = tf.keras.layers.Dense(128, input_dim=2, activation=\"sigmoid\")\n",
    "    self.d2 = tf.keras.layers.Dense(10, activation=\"softmax\")\n",
    "\n",
    "\n",
    "  def call(self, x,training=None, mask=None):\n",
    "    x = self.d1(x)\n",
    "    return self.d2(x)"
   ]
  },
  {
   "cell_type": "markdown",
   "metadata": {},
   "source": [
    "## 학습 루프 정의"
   ]
  },
  {
   "cell_type": "code",
   "execution_count": null,
   "metadata": {},
   "outputs": [],
   "source": [
    "@tf.function\n",
    "def train_step(model, inputs, labels, loss_object, optimizer, train_loss, train_metric):\n",
    "  with tf.GradientTape() as tape:\n",
    "    predictions = model(inputs)\n",
    "    loss = loss_object(labels, predictions)\n",
    "  gradients = tape.gradient(loss, model.trainable_variables) # df(x)/dx\n",
    "  \n",
    "  optimizer.apply_gradients(zip(gradients, model.trainable_variables))\n",
    "  train_loss(loss)\n",
    "  train_metric(labels, predictions)\n"
   ]
  },
  {
   "cell_type": "markdown",
   "metadata": {},
   "source": [
    "## 데이터셋 생성, 전처리"
   ]
  },
  {
   "cell_type": "code",
   "execution_count": null,
   "metadata": {},
   "outputs": [],
   "source": [
    "np.random.seed(0)\n",
    "\n",
    "pts = list()\n",
    "labels = list()\n",
    "center_pts = np.random.uniform(-8.0, 8.0,(10,2))\n",
    "\n",
    "for label , center_pt in enumerate(center_pts):\n",
    "  for _ in range(100):\n",
    "    pts.append(center_pt + np.random.randn(*center_pt.shape))\n",
    "    labels.append(label)\n",
    "\n",
    "pts = np.stack(pts, axis=0).astype(np.float32)\n",
    "labels = np.stack(labels, axis=0)\n",
    "\n",
    "train_ds = tf.data.Dataset.from_tensor_slices(((pts, labels))).shuffle(10000).batch(32)\n",
    "\n"
   ]
  },
  {
   "cell_type": "markdown",
   "metadata": {},
   "source": [
    "## 모델 생성"
   ]
  },
  {
   "cell_type": "code",
   "execution_count": null,
   "metadata": {},
   "outputs": [],
   "source": [
    "model = MyModel()"
   ]
  },
  {
   "cell_type": "markdown",
   "metadata": {},
   "source": [
    "## 손실 함수 및 최적화 알고리즘 설정\n",
    "### CrossEntropy, Adam Optimizer"
   ]
  },
  {
   "cell_type": "code",
   "execution_count": null,
   "metadata": {},
   "outputs": [],
   "source": [
    "loss_object = tf.keras.losses.SparseCategoricalCrossentropy()\n",
    "optimizer = tf.keras.optimizers.Adam()"
   ]
  },
  {
   "cell_type": "markdown",
   "metadata": {},
   "source": [
    "## 평가 지표 설정\n",
    "### Accuracy"
   ]
  },
  {
   "cell_type": "code",
   "execution_count": null,
   "metadata": {},
   "outputs": [],
   "source": [
    "train_loss = tf.keras.metrics.Mean(name=\"train_loss\")\n",
    "train_accuracy = tf.keras.metrics.SparseCategoricalAccuracy(name=\"train_accuracy\")"
   ]
  },
  {
   "cell_type": "markdown",
   "metadata": {},
   "source": [
    "## 학습 루프"
   ]
  },
  {
   "cell_type": "code",
   "execution_count": null,
   "metadata": {},
   "outputs": [],
   "source": [
    "for epoch in range(EPOCHS):\n",
    "  for x, label in train_ds:\n",
    "    train_step(model, x, label, loss_object, optimizer, train_loss, train_accuracy)\n",
    "\n",
    "  template = \"Epoch {}, Loss: {}, Accuracy: {}\"\n",
    "  print(template.format(epoch, train_loss.result(), train_accuracy.result()*100))"
   ]
  },
  {
   "cell_type": "markdown",
   "metadata": {},
   "source": [
    "## 데이터셋 및 학습 파라미터 저장"
   ]
  },
  {
   "cell_type": "code",
   "execution_count": null,
   "metadata": {},
   "outputs": [],
   "source": [
    "np.savez_compressed(\"./dataset/ch2_dataset.npz\", inputs=pts, labels=labels)\n",
    "\n",
    "W_h, b_h = model.d1.get_weights()\n",
    "W_o, b_o = model.d2.get_weights()\n",
    "\n",
    "W_h = np.transpose(W_h)\n",
    "W_o = np.transpose(W_o)\n",
    "\n",
    "\n",
    "np.savez_compressed(\"./dataset/ch2_parameters.npz\", W_h=W_h, b_h=b_h, W_o=W_o, b_o=b_o)"
   ]
  }
 ],
 "metadata": {
  "kernelspec": {
   "name": "python3",
   "display_name": "Python 3.8.8 64-bit ('base': conda)"
  },
  "language_info": {
   "codemirror_mode": {
    "name": "ipython",
    "version": 3
   },
   "file_extension": ".py",
   "mimetype": "text/x-python",
   "name": "python",
   "nbconvert_exporter": "python",
   "pygments_lexer": "ipython3",
   "version": "3.8.8"
  },
  "interpreter": {
   "hash": "b3ba2566441a7c06988d0923437866b63cedc61552a5af99d1f4fb67d367b25f"
  }
 },
 "nbformat": 4,
 "nbformat_minor": 2
}