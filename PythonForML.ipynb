{
  "nbformat": 4,
  "nbformat_minor": 0,
  "metadata": {
    "colab": {
      "name": "PythonForML.ipynb",
      "version": "0.3.2",
      "provenance": [],
      "include_colab_link": true
    },
    "kernelspec": {
      "name": "python3",
      "display_name": "Python 3"
    },
    "accelerator": "GPU"
  },
  "cells": [
    {
      "cell_type": "markdown",
      "metadata": {
        "id": "view-in-github",
        "colab_type": "text"
      },
      "source": [
        "<a href=\"https://colab.research.google.com/github/G-Polya/PythonForML/blob/master/PythonForML.ipynb\" target=\"_parent\"><img src=\"https://colab.research.google.com/assets/colab-badge.svg\" alt=\"Open In Colab\"/></a>"
      ]
    },
    {
      "cell_type": "code",
      "metadata": {
        "id": "hJ8gJNBYE9Oo",
        "colab_type": "code",
        "outputId": "ebb5516e-f6c0-4872-9260-37be7384ee86",
        "colab": {
          "base_uri": "https://localhost:8080/",
          "height": 35
        }
      },
      "source": [
        "print('hello')"
      ],
      "execution_count": 0,
      "outputs": [
        {
          "output_type": "stream",
          "text": [
            "hello\n"
          ],
          "name": "stdout"
        }
      ]
    },
    {
      "cell_type": "code",
      "metadata": {
        "id": "YQzLd2ovF2K8",
        "colab_type": "code",
        "outputId": "9237b68c-6d99-44e9-9904-1c48e6087485",
        "colab": {
          "base_uri": "https://localhost:8080/",
          "height": 127
        }
      },
      "source": [
        "from google.colab import drive\n",
        "drive.mount('/content/drive')"
      ],
      "execution_count": 0,
      "outputs": [
        {
          "output_type": "stream",
          "text": [
            "Go to this URL in a browser: https://accounts.google.com/o/oauth2/auth?client_id=947318989803-6bn6qk8qdgf4n4g3pfee6491hc0brc4i.apps.googleusercontent.com&redirect_uri=urn%3Aietf%3Awg%3Aoauth%3A2.0%3Aoob&scope=email%20https%3A%2F%2Fwww.googleapis.com%2Fauth%2Fdocs.test%20https%3A%2F%2Fwww.googleapis.com%2Fauth%2Fdrive%20https%3A%2F%2Fwww.googleapis.com%2Fauth%2Fdrive.photos.readonly%20https%3A%2F%2Fwww.googleapis.com%2Fauth%2Fpeopleapi.readonly&response_type=code\n",
            "\n",
            "Enter your authorization code:\n",
            "··········\n",
            "Mounted at /content/drive\n"
          ],
          "name": "stdout"
        }
      ]
    },
    {
      "cell_type": "code",
      "metadata": {
        "id": "r-Nb8-oeFEo-",
        "colab_type": "code",
        "outputId": "1cd3804c-2835-4fa1-cdb7-b5427ad28444",
        "colab": {
          "base_uri": "https://localhost:8080/",
          "height": 35
        }
      },
      "source": [
        "# OS\n",
        "!cat /etc/issue,net"
      ],
      "execution_count": 0,
      "outputs": [
        {
          "output_type": "stream",
          "text": [
            "cat: /etc/issue,net: No such file or directory\n"
          ],
          "name": "stdout"
        }
      ]
    },
    {
      "cell_type": "markdown",
      "metadata": {
        "id": "cGjDxPBcGV1k",
        "colab_type": "text"
      },
      "source": [
        ""
      ]
    },
    {
      "cell_type": "code",
      "metadata": {
        "id": "-SH8CzgXGWU_",
        "colab_type": "code",
        "outputId": "a3634b42-2bc7-4ee8-b851-1b2c8498a8ed",
        "colab": {
          "base_uri": "https://localhost:8080/",
          "height": 305
        }
      },
      "source": [
        "!head /proc/cpuinfo\n",
        "!cat /etc/issue.net\n",
        "\n",
        "print('\\n')\n",
        "!head -n 3 /proc/meminfo"
      ],
      "execution_count": 0,
      "outputs": [
        {
          "output_type": "stream",
          "text": [
            "processor\t: 0\n",
            "vendor_id\t: GenuineIntel\n",
            "cpu family\t: 6\n",
            "model\t\t: 79\n",
            "model name\t: Intel(R) Xeon(R) CPU @ 2.20GHz\n",
            "stepping\t: 0\n",
            "microcode\t: 0x1\n",
            "cpu MHz\t\t: 2200.000\n",
            "cache size\t: 56320 KB\n",
            "physical id\t: 0\n",
            "Ubuntu 18.04.2 LTS\n",
            "\n",
            "\n",
            "MemTotal:       13335276 kB\n",
            "MemFree:        11230604 kB\n",
            "MemAvailable:   12658768 kB\n"
          ],
          "name": "stdout"
        }
      ]
    },
    {
      "cell_type": "code",
      "metadata": {
        "id": "Zs5qOlwMGuGr",
        "colab_type": "code",
        "outputId": "b3dda347-4b23-42bb-ea01-3c6c8bb4e4af",
        "colab": {
          "base_uri": "https://localhost:8080/",
          "height": 323
        }
      },
      "source": [
        "!nvidia-smi"
      ],
      "execution_count": 0,
      "outputs": [
        {
          "output_type": "stream",
          "text": [
            "Mon Aug 19 09:00:17 2019       \n",
            "+-----------------------------------------------------------------------------+\n",
            "| NVIDIA-SMI 418.67       Driver Version: 410.79       CUDA Version: 10.0     |\n",
            "|-------------------------------+----------------------+----------------------+\n",
            "| GPU  Name        Persistence-M| Bus-Id        Disp.A | Volatile Uncorr. ECC |\n",
            "| Fan  Temp  Perf  Pwr:Usage/Cap|         Memory-Usage | GPU-Util  Compute M. |\n",
            "|===============================+======================+======================|\n",
            "|   0  Tesla K80           Off  | 00000000:00:04.0 Off |                    0 |\n",
            "| N/A   33C    P8    32W / 149W |      0MiB / 11441MiB |      0%      Default |\n",
            "+-------------------------------+----------------------+----------------------+\n",
            "                                                                               \n",
            "+-----------------------------------------------------------------------------+\n",
            "| Processes:                                                       GPU Memory |\n",
            "|  GPU       PID   Type   Process name                             Usage      |\n",
            "|=============================================================================|\n",
            "|  No running processes found                                                 |\n",
            "+-----------------------------------------------------------------------------+\n"
          ],
          "name": "stdout"
        }
      ]
    },
    {
      "cell_type": "code",
      "metadata": {
        "id": "T2nd3WAZG_wD",
        "colab_type": "code",
        "outputId": "45a21cb3-a6c6-4e13-95d6-e3fe641e0af4",
        "colab": {
          "base_uri": "https://localhost:8080/",
          "height": 71
        }
      },
      "source": [
        "!mkdir -p '/content/drive/My Drive/test_colab'\n",
        "!ls -Fcal '/content/drive/My Drive/test_colab'"
      ],
      "execution_count": 0,
      "outputs": [
        {
          "output_type": "stream",
          "text": [
            "total 8\n",
            "drwxr-xr-x 2 root root 4096 Aug 19 09:03 ./\n",
            "drwxr-xr-x 3 root root 4096 Aug 19 09:03 ../\n"
          ],
          "name": "stdout"
        }
      ]
    },
    {
      "cell_type": "code",
      "metadata": {
        "id": "c7_2XWcJHse1",
        "colab_type": "code",
        "colab": {}
      },
      "source": [
        "import numpy as np\n",
        "import pandas as pd\n",
        "\n",
        "df = pd.DataFrame(np.random.rand(10,5))\n",
        "df.to_csv(\"/content/drive/My Drive/test_colab/df.csv\")"
      ],
      "execution_count": 0,
      "outputs": []
    },
    {
      "cell_type": "code",
      "metadata": {
        "id": "AcmH_tszH-rM",
        "colab_type": "code",
        "outputId": "39064c89-9520-4779-e083-875d198c2fa5",
        "colab": {
          "base_uri": "https://localhost:8080/",
          "height": 89
        }
      },
      "source": [
        "!ls -Fcal '/content/drive/My Drive/test_colab'"
      ],
      "execution_count": 0,
      "outputs": [
        {
          "output_type": "stream",
          "text": [
            "total 12\n",
            "drwxr-xr-x 2 root root 4096 Aug 19 09:05 ./\n",
            "drwxr-xr-x 3 root root 4096 Aug 19 09:03 ../\n",
            "-rw-r--r-- 1 root root  991 Aug 19 09:05 df.csv\n"
          ],
          "name": "stdout"
        }
      ]
    },
    {
      "cell_type": "code",
      "metadata": {
        "id": "unkyQ5DGIE5L",
        "colab_type": "code",
        "outputId": "cbc7baae-8f85-4713-da42-6b0ab26cd821",
        "colab": {
          "base_uri": "https://localhost:8080/",
          "height": 359
        }
      },
      "source": [
        "pd.read_csv(\"/content/drive/My Drive/test_colab/df.csv\")"
      ],
      "execution_count": 0,
      "outputs": [
        {
          "output_type": "execute_result",
          "data": {
            "text/html": [
              "<div>\n",
              "<style scoped>\n",
              "    .dataframe tbody tr th:only-of-type {\n",
              "        vertical-align: middle;\n",
              "    }\n",
              "\n",
              "    .dataframe tbody tr th {\n",
              "        vertical-align: top;\n",
              "    }\n",
              "\n",
              "    .dataframe thead th {\n",
              "        text-align: right;\n",
              "    }\n",
              "</style>\n",
              "<table border=\"1\" class=\"dataframe\">\n",
              "  <thead>\n",
              "    <tr style=\"text-align: right;\">\n",
              "      <th></th>\n",
              "      <th>Unnamed: 0</th>\n",
              "      <th>0</th>\n",
              "      <th>1</th>\n",
              "      <th>2</th>\n",
              "      <th>3</th>\n",
              "      <th>4</th>\n",
              "    </tr>\n",
              "  </thead>\n",
              "  <tbody>\n",
              "    <tr>\n",
              "      <th>0</th>\n",
              "      <td>0</td>\n",
              "      <td>0.596356</td>\n",
              "      <td>0.092177</td>\n",
              "      <td>0.400721</td>\n",
              "      <td>0.967658</td>\n",
              "      <td>0.249882</td>\n",
              "    </tr>\n",
              "    <tr>\n",
              "      <th>1</th>\n",
              "      <td>1</td>\n",
              "      <td>0.751439</td>\n",
              "      <td>0.648189</td>\n",
              "      <td>0.923606</td>\n",
              "      <td>0.098408</td>\n",
              "      <td>0.659058</td>\n",
              "    </tr>\n",
              "    <tr>\n",
              "      <th>2</th>\n",
              "      <td>2</td>\n",
              "      <td>0.728036</td>\n",
              "      <td>0.471144</td>\n",
              "      <td>0.262293</td>\n",
              "      <td>0.825750</td>\n",
              "      <td>0.207054</td>\n",
              "    </tr>\n",
              "    <tr>\n",
              "      <th>3</th>\n",
              "      <td>3</td>\n",
              "      <td>0.254371</td>\n",
              "      <td>0.940241</td>\n",
              "      <td>0.422159</td>\n",
              "      <td>0.015981</td>\n",
              "      <td>0.301749</td>\n",
              "    </tr>\n",
              "    <tr>\n",
              "      <th>4</th>\n",
              "      <td>4</td>\n",
              "      <td>0.370023</td>\n",
              "      <td>0.686209</td>\n",
              "      <td>0.690123</td>\n",
              "      <td>0.107845</td>\n",
              "      <td>0.263816</td>\n",
              "    </tr>\n",
              "    <tr>\n",
              "      <th>5</th>\n",
              "      <td>5</td>\n",
              "      <td>0.629995</td>\n",
              "      <td>0.908447</td>\n",
              "      <td>0.396478</td>\n",
              "      <td>0.525639</td>\n",
              "      <td>0.216691</td>\n",
              "    </tr>\n",
              "    <tr>\n",
              "      <th>6</th>\n",
              "      <td>6</td>\n",
              "      <td>0.877919</td>\n",
              "      <td>0.603113</td>\n",
              "      <td>0.921318</td>\n",
              "      <td>0.536682</td>\n",
              "      <td>0.156167</td>\n",
              "    </tr>\n",
              "    <tr>\n",
              "      <th>7</th>\n",
              "      <td>7</td>\n",
              "      <td>0.847609</td>\n",
              "      <td>0.619461</td>\n",
              "      <td>0.474825</td>\n",
              "      <td>0.942890</td>\n",
              "      <td>0.123559</td>\n",
              "    </tr>\n",
              "    <tr>\n",
              "      <th>8</th>\n",
              "      <td>8</td>\n",
              "      <td>0.413644</td>\n",
              "      <td>0.589444</td>\n",
              "      <td>0.716822</td>\n",
              "      <td>0.112833</td>\n",
              "      <td>0.994823</td>\n",
              "    </tr>\n",
              "    <tr>\n",
              "      <th>9</th>\n",
              "      <td>9</td>\n",
              "      <td>0.561695</td>\n",
              "      <td>0.902206</td>\n",
              "      <td>0.917026</td>\n",
              "      <td>0.250900</td>\n",
              "      <td>0.102739</td>\n",
              "    </tr>\n",
              "  </tbody>\n",
              "</table>\n",
              "</div>"
            ],
            "text/plain": [
              "   Unnamed: 0         0         1         2         3         4\n",
              "0           0  0.596356  0.092177  0.400721  0.967658  0.249882\n",
              "1           1  0.751439  0.648189  0.923606  0.098408  0.659058\n",
              "2           2  0.728036  0.471144  0.262293  0.825750  0.207054\n",
              "3           3  0.254371  0.940241  0.422159  0.015981  0.301749\n",
              "4           4  0.370023  0.686209  0.690123  0.107845  0.263816\n",
              "5           5  0.629995  0.908447  0.396478  0.525639  0.216691\n",
              "6           6  0.877919  0.603113  0.921318  0.536682  0.156167\n",
              "7           7  0.847609  0.619461  0.474825  0.942890  0.123559\n",
              "8           8  0.413644  0.589444  0.716822  0.112833  0.994823\n",
              "9           9  0.561695  0.902206  0.917026  0.250900  0.102739"
            ]
          },
          "metadata": {
            "tags": []
          },
          "execution_count": 9
        }
      ]
    }
  ]
}