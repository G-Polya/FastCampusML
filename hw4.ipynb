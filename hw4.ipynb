{
 "cells": [
  {
   "cell_type": "code",
   "execution_count": 1,
   "metadata": {},
   "outputs": [
    {
     "name": "stdout",
     "output_type": "stream",
     "text": [
      "(4, 9)\n",
      "[[0. 0. 0. 0.]\n",
      " [0. 0. 0. 0.]]\n",
      "input layer x :\n",
      "[[1.    1.    0.    0.    1.    0.    1.    0.    0.   ]\n",
      " [0.85  0.    0.625 0.45  0.225 0.25  0.7   0.3   0.125]\n",
      " [0.76  0.24  0.84  0.96  0.46  0.7   0.44  0.4   0.66 ]\n",
      " [1.    1.    1.    1.    1.    1.    1.    1.    1.   ]]\n",
      "[[0. 0. 0. 0. 0. 0. 0. 0. 0.]\n",
      " [0. 0. 0. 0. 0. 0. 0. 0. 0.]]\n",
      "hidden layer h : \n",
      "[[0.5 0.5 0.5 0.5 0.5 0.5 0.5 0.5 0.5]\n",
      " [0.5 0.5 0.5 0.5 0.5 0.5 0.5 0.5 0.5]\n",
      " [1.  1.  1.  1.  1.  1.  1.  1.  1. ]]\n",
      "(3, 9)\n",
      "[[0.2 0.2 0.2 0.2 0.2 0.2 0.2 0.2 0.2]\n",
      " [0.2 0.2 0.2 0.2 0.2 0.2 0.2 0.2 0.2]]\n",
      "[[0.549834 0.549834 0.549834 0.549834 0.549834 0.549834 0.549834 0.549834\n",
      "  0.549834]\n",
      " [0.549834 0.549834 0.549834 0.549834 0.549834 0.549834 0.549834 0.549834\n",
      "  0.549834]]\n",
      "(2, 9) (2, 9)\n",
      "[[0.549834 0.549834]\n",
      " [0.549834 0.549834]\n",
      " [0.549834 0.549834]\n",
      " [0.549834 0.549834]\n",
      " [0.549834 0.549834]\n",
      " [0.549834 0.549834]\n",
      " [0.549834 0.549834]\n",
      " [0.549834 0.549834]\n",
      " [0.549834 0.549834]]\n"
     ]
    }
   ],
   "source": [
    "import numpy as np\n",
    "\n",
    "def sigmoid(x):\n",
    "    return 1/(1+np.exp(-x))\n",
    "\n",
    "\n",
    "x = np.array([[1,0.85,0.76,1],\n",
    "              [1,0,0.24,1],\n",
    "              [0,0.625,0.84,1],\n",
    "              [0,0.45,0.96,1],\n",
    "              [1,0.225,0.46,1],\n",
    "              [0,0.25,0.7,1],\n",
    "              [1,0.7,0.44,1],\n",
    "              [0,0.3,0.4,1],\n",
    "              [0,0.125,0.66,1]])\n",
    "\n",
    "y = np.array([[1,0],\n",
    "             [0,1],\n",
    "             [1,0],\n",
    "             [1,0],\n",
    "             [0,1],\n",
    "             [0,1],\n",
    "             [1,0],\n",
    "             [0,1],\n",
    "             [1,0]])\n",
    "\n",
    "# x1 = sex , x2 = age, x3 = income, x4 = bias\n",
    "x= x.T\n",
    "print(x.shape)\n",
    "x_weight = np.zeros([2,4])\n",
    "print(x_weight)\n",
    "print(\"input layer x :\")\n",
    "print(x)\n",
    "h_weight = np.array([[0.1,0.1,0.1],\n",
    "                     [0.1,0.1,0.1]])\n",
    "\n",
    "\n",
    "\n",
    "# hidden layer\n",
    "z_x = x_weight.dot(x)\n",
    "print(z_x)\n",
    "print(\"hidden layer h : \")\n",
    "h = sigmoid(z_x)\n",
    "h = np.vstack((h,np.ones([1,9])))\n",
    "print(h)\n",
    "print(h.shape)\n",
    "\n",
    "\n",
    "# output layer\n",
    "z_h = h_weight.dot(h)\n",
    "print(z_h)\n",
    "o = sigmoid(z_h)\n",
    "print(o)\n",
    "print(z_h.shape,o.shape)\n",
    "print(o.T)"
   ]
  },
  {
   "cell_type": "code",
   "execution_count": 54,
   "metadata": {
    "scrolled": true
   },
   "outputs": [
    {
     "name": "stdout",
     "output_type": "stream",
     "text": [
      "h_delta: \n",
      "[[ 0.11142355 -0.13609303]\n",
      " [-0.13609303  0.11142355]\n",
      " [ 0.11142355 -0.13609303]\n",
      " [ 0.11142355 -0.13609303]\n",
      " [-0.13609303  0.11142355]\n",
      " [-0.13609303  0.11142355]\n",
      " [ 0.11142355 -0.13609303]\n",
      " [-0.13609303  0.11142355]\n",
      " [ 0.11142355 -0.13609303]]\n",
      "\n",
      "\n"
     ]
    }
   ],
   "source": [
    "print(\"h_delta: \")\n",
    "h_delta = (y.T-o)*(o)*(1-o)\n",
    "print(h_delta.T)\n",
    "print()\n",
    "\n",
    "print()"
   ]
  },
  {
   "cell_type": "code",
   "execution_count": 42,
   "metadata": {},
   "outputs": [
    {
     "data": {
      "text/plain": [
       "array([[ 0.11142355, -0.13609303],\n",
       "       [-0.13609303,  0.11142355],\n",
       "       [ 0.11142355, -0.13609303],\n",
       "       [ 0.11142355, -0.13609303],\n",
       "       [-0.13609303,  0.11142355],\n",
       "       [-0.13609303,  0.11142355],\n",
       "       [ 0.11142355, -0.13609303],\n",
       "       [-0.13609303,  0.11142355],\n",
       "       [ 0.11142355, -0.13609303]])"
      ]
     },
     "execution_count": 42,
     "metadata": {},
     "output_type": "execute_result"
    }
   ],
   "source": [
    "x_delta=(y-o)*o*(1-o)\n",
    "x_delta"
   ]
  },
  {
   "cell_type": "code",
   "execution_count": 34,
   "metadata": {},
   "outputs": [
    {
     "data": {
      "text/plain": [
       "array([[0.1, 0.1],\n",
       "       [0.1, 0.1]])"
      ]
     },
     "execution_count": 34,
     "metadata": {},
     "output_type": "execute_result"
    }
   ],
   "source": [
    "h_weight[:,:2]"
   ]
  },
  {
   "cell_type": "code",
   "execution_count": 39,
   "metadata": {},
   "outputs": [
    {
     "data": {
      "text/plain": [
       "array([[0.5, 0.5],\n",
       "       [0.5, 0.5],\n",
       "       [0.5, 0.5],\n",
       "       [0.5, 0.5],\n",
       "       [0.5, 0.5],\n",
       "       [0.5, 0.5],\n",
       "       [0.5, 0.5],\n",
       "       [0.5, 0.5],\n",
       "       [0.5, 0.5]])"
      ]
     },
     "execution_count": 39,
     "metadata": {},
     "output_type": "execute_result"
    }
   ],
   "source": [
    "h[0:2].T"
   ]
  },
  {
   "cell_type": "code",
   "execution_count": 40,
   "metadata": {},
   "outputs": [
    {
     "data": {
      "text/plain": [
       "array([[-0.00061674, -0.00061674],\n",
       "       [-0.00061674, -0.00061674],\n",
       "       [-0.00061674, -0.00061674],\n",
       "       [-0.00061674, -0.00061674],\n",
       "       [-0.00061674, -0.00061674],\n",
       "       [-0.00061674, -0.00061674],\n",
       "       [-0.00061674, -0.00061674],\n",
       "       [-0.00061674, -0.00061674],\n",
       "       [-0.00061674, -0.00061674]])"
      ]
     },
     "execution_count": 40,
     "metadata": {},
     "output_type": "execute_result"
    }
   ],
   "source": [
    "x_delta.dot(h_weight[:,:2])*h[0:2].T*(1-h[0:2].T)"
   ]
  },
  {
   "cell_type": "code",
   "execution_count": 58,
   "metadata": {},
   "outputs": [
    {
     "data": {
      "text/plain": [
       "-0.1114235461366134"
      ]
     },
     "execution_count": 58,
     "metadata": {},
     "output_type": "execute_result"
    }
   ],
   "source": [
    "o = sigmoid(0.2)\n",
    "-(1-o)*o*(1-o)"
   ]
  },
  {
   "cell_type": "code",
   "execution_count": 59,
   "metadata": {},
   "outputs": [
    {
     "data": {
      "text/plain": [
       "-0.05571674299600001"
      ]
     },
     "execution_count": 59,
     "metadata": {},
     "output_type": "execute_result"
    }
   ],
   "source": [
    "-(1-0.5498)*0.5498*(1-0.5498) *0.5"
   ]
  },
  {
   "cell_type": "code",
   "execution_count": 12,
   "metadata": {},
   "outputs": [
    {
     "data": {
      "text/plain": [
       "-0.000616737010965829"
      ]
     },
     "execution_count": 12,
     "metadata": {},
     "output_type": "execute_result"
    }
   ],
   "source": [
    "((1-o)*o*(1-o)*0.1+(0-o)*o*(1-o)*0.1)*0.5*0.5*1"
   ]
  },
  {
   "cell_type": "code",
   "execution_count": 62,
   "metadata": {},
   "outputs": [
    {
     "data": {
      "text/plain": [
       "array([[0.1, 0.1, 0.1],\n",
       "       [0.1, 0.1, 0.1]])"
      ]
     },
     "execution_count": 62,
     "metadata": {},
     "output_type": "execute_result"
    }
   ],
   "source": [
    "h_weight"
   ]
  },
  {
   "cell_type": "code",
   "execution_count": 64,
   "metadata": {},
   "outputs": [
    {
     "data": {
      "text/plain": [
       "array([[ 0.05571177, -0.06804651],\n",
       "       [-0.06804651,  0.05571177],\n",
       "       [ 0.05571177, -0.06804651],\n",
       "       [ 0.05571177, -0.06804651],\n",
       "       [-0.06804651,  0.05571177],\n",
       "       [-0.06804651,  0.05571177],\n",
       "       [ 0.05571177, -0.06804651],\n",
       "       [-0.06804651,  0.05571177],\n",
       "       [ 0.05571177, -0.06804651]])"
      ]
     },
     "execution_count": 64,
     "metadata": {},
     "output_type": "execute_result"
    }
   ],
   "source": [
    "h_delta.T*h.T[:,:2]"
   ]
  },
  {
   "cell_type": "code",
   "execution_count": 47,
   "metadata": {},
   "outputs": [
    {
     "ename": "ValueError",
     "evalue": "operands could not be broadcast together with shapes (2,3) (9,2) ",
     "output_type": "error",
     "traceback": [
      "\u001b[1;31m---------------------------------------------------------------------------\u001b[0m",
      "\u001b[1;31mValueError\u001b[0m                                Traceback (most recent call last)",
      "\u001b[1;32m<ipython-input-47-7517cdba9a11>\u001b[0m in \u001b[0;36m<module>\u001b[1;34m\u001b[0m\n\u001b[1;32m----> 1\u001b[1;33m \u001b[0mh_weight\u001b[0m \u001b[1;33m*\u001b[0m \u001b[0mh_delta\u001b[0m\u001b[1;33m.\u001b[0m\u001b[0mT\u001b[0m\u001b[1;33m\u001b[0m\u001b[1;33m\u001b[0m\u001b[0m\n\u001b[0m",
      "\u001b[1;31mValueError\u001b[0m: operands could not be broadcast together with shapes (2,3) (9,2) "
     ]
    }
   ],
   "source": []
  },
  {
   "cell_type": "code",
   "execution_count": null,
   "metadata": {},
   "outputs": [],
   "source": []
  }
 ],
 "metadata": {
  "kernelspec": {
   "display_name": "Python 3",
   "language": "python",
   "name": "python3"
  },
  "language_info": {
   "codemirror_mode": {
    "name": "ipython",
    "version": 3
   },
   "file_extension": ".py",
   "mimetype": "text/x-python",
   "name": "python",
   "nbconvert_exporter": "python",
   "pygments_lexer": "ipython3",
   "version": "3.7.3"
  }
 },
 "nbformat": 4,
 "nbformat_minor": 2
}
