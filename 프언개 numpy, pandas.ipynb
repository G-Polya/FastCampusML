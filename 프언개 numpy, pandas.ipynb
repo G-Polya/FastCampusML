{
 "cells": [
  {
   "cell_type": "code",
   "execution_count": 1,
   "metadata": {},
   "outputs": [],
   "source": [
    "import numpy as np"
   ]
  },
  {
   "cell_type": "code",
   "execution_count": 2,
   "metadata": {},
   "outputs": [
    {
     "name": "stdout",
     "output_type": "stream",
     "text": [
      "[0 1 2 3 4 5 6 7 8 9]\n",
      "(10,)\n"
     ]
    }
   ],
   "source": [
    "a1 = np.arange(10)\n",
    "print(a1)\n",
    "print(a1.shape)"
   ]
  },
  {
   "cell_type": "code",
   "execution_count": 3,
   "metadata": {},
   "outputs": [
    {
     "name": "stdout",
     "output_type": "stream",
     "text": [
      "[0 2 4 6 8]\n"
     ]
    }
   ],
   "source": [
    "a2 = np.arange(0,10,2)\n",
    "print(a2)"
   ]
  },
  {
   "cell_type": "code",
   "execution_count": 4,
   "metadata": {},
   "outputs": [
    {
     "name": "stdout",
     "output_type": "stream",
     "text": [
      "[0. 0. 0. 0. 0.]\n",
      "(5,)\n"
     ]
    }
   ],
   "source": [
    "a3 = np.zeros(5)\n",
    "print(a3)\n",
    "print(a3.shape)"
   ]
  },
  {
   "cell_type": "code",
   "execution_count": 5,
   "metadata": {},
   "outputs": [
    {
     "name": "stdout",
     "output_type": "stream",
     "text": [
      "(2, 3)\n"
     ]
    }
   ],
   "source": [
    "a4 = np.zeros((2,3))\n",
    "print(a4.shape)"
   ]
  },
  {
   "cell_type": "code",
   "execution_count": 6,
   "metadata": {},
   "outputs": [
    {
     "name": "stdout",
     "output_type": "stream",
     "text": [
      "[[0. 0. 0.]\n",
      " [0. 0. 0.]]\n"
     ]
    }
   ],
   "source": [
    "print(a4)"
   ]
  },
  {
   "cell_type": "code",
   "execution_count": 7,
   "metadata": {},
   "outputs": [
    {
     "name": "stdout",
     "output_type": "stream",
     "text": [
      "[[8 8 8]\n",
      " [8 8 8]]\n"
     ]
    }
   ],
   "source": [
    "a5 = np.full((2,3),8)\n",
    "print(a5)"
   ]
  },
  {
   "cell_type": "code",
   "execution_count": 8,
   "metadata": {},
   "outputs": [
    {
     "name": "stdout",
     "output_type": "stream",
     "text": [
      "[[1. 0. 0. 0.]\n",
      " [0. 1. 0. 0.]\n",
      " [0. 0. 1. 0.]\n",
      " [0. 0. 0. 1.]]\n"
     ]
    }
   ],
   "source": [
    "a6 = np.eye(4)\n",
    "print(a6)"
   ]
  },
  {
   "cell_type": "code",
   "execution_count": 9,
   "metadata": {},
   "outputs": [
    {
     "data": {
      "text/plain": [
       "array([[0.59792885, 0.06925272, 0.26689578, 0.79529206],\n",
       "       [0.70682085, 0.02288107, 0.16189939, 0.95693769]])"
      ]
     },
     "execution_count": 9,
     "metadata": {},
     "output_type": "execute_result"
    }
   ],
   "source": [
    "a7 = np.random.random((2,4))\n",
    "a7"
   ]
  },
  {
   "cell_type": "code",
   "execution_count": 10,
   "metadata": {},
   "outputs": [
    {
     "name": "stdout",
     "output_type": "stream",
     "text": [
      "[1 2 3 4 5]\n"
     ]
    }
   ],
   "source": [
    "list1 = [1,2,3,4,5]\n",
    "r1 = np.array(list1)\n",
    "print(r1)"
   ]
  },
  {
   "cell_type": "code",
   "execution_count": 11,
   "metadata": {},
   "outputs": [
    {
     "name": "stdout",
     "output_type": "stream",
     "text": [
      "1\n",
      "2\n",
      "[[1 2 3 4 5]\n",
      " [6 7 8 9 0]]\n"
     ]
    }
   ],
   "source": [
    "print(r1[0])\n",
    "print(r1[1])\n",
    "list2 = [6,7,8,9,0]\n",
    "r2 = np.array([list1,list2])\n",
    "print(r2)"
   ]
  },
  {
   "cell_type": "code",
   "execution_count": 12,
   "metadata": {},
   "outputs": [
    {
     "name": "stdout",
     "output_type": "stream",
     "text": [
      "(2, 5)\n",
      "1\n",
      "2\n",
      "6\n",
      "[3 5]\n"
     ]
    }
   ],
   "source": [
    "print(r2.shape)\n",
    "print(r2[0,0])\n",
    "print(r2[0,1])\n",
    "print(r2[1,0])\n",
    "list1 = [1,2,3,4,5]\n",
    "r1 = np.array(list1)\n",
    "print(r1[[2,4]])"
   ]
  },
  {
   "cell_type": "code",
   "execution_count": 13,
   "metadata": {},
   "outputs": [
    {
     "name": "stdout",
     "output_type": "stream",
     "text": [
      "[False False  True  True  True]\n",
      "[3 4 5]\n",
      "[ 0  1  2  3  4  5  6  7  8  9 10 11 12 13 14 15 16 17 18 19]\n",
      "[ 1  3  5  7  9 11 13 15 17 19]\n"
     ]
    }
   ],
   "source": [
    "print(r1 > 2)\n",
    "print(r1[r1>2])\n",
    "nums = np.arange(20)\n",
    "print(nums)\n",
    "odd_nums = nums[nums % 2 != 0]\n",
    "print(odd_nums)"
   ]
  },
  {
   "cell_type": "code",
   "execution_count": 14,
   "metadata": {},
   "outputs": [
    {
     "name": "stdout",
     "output_type": "stream",
     "text": [
      "[[ 58  64]\n",
      " [139 154]]\n"
     ]
    }
   ],
   "source": [
    "x2 = np.array([[1,2,3],\n",
    "               [4,5,6]])\n",
    "y2 = np.array([[7,8],[9,10],[11,12]])\n",
    "print(np.dot(x2,y2))"
   ]
  },
  {
   "cell_type": "code",
   "execution_count": 15,
   "metadata": {},
   "outputs": [
    {
     "name": "stdout",
     "output_type": "stream",
     "text": [
      "[[1 2 3]\n",
      " [4 5 6]\n",
      " [7 8 9]]\n",
      "[ 1  3  6 10 15 21 28 36 45]\n",
      "[[ 1  2  3]\n",
      " [ 5  7  9]\n",
      " [12 15 18]]\n",
      "[[ 1  3  6]\n",
      " [ 4  9 15]\n",
      " [ 7 15 24]]\n"
     ]
    }
   ],
   "source": [
    "a = np.array([(1,2,3),(4,5,6),(7,8,9)])\n",
    "print(a)\n",
    "\n",
    "print(a.cumsum())\n",
    "print(a.cumsum(axis=0))\n",
    "print(a.cumsum(axis = 1))"
   ]
  },
  {
   "cell_type": "code",
   "execution_count": 16,
   "metadata": {},
   "outputs": [
    {
     "name": "stdout",
     "output_type": "stream",
     "text": [
      "[34 12 37  5 13]\n",
      "[ 5 12 13 34 37] <class 'numpy.ndarray'>\n",
      "[ 5 12 13 34 37] <class 'numpy.ndarray'>\n"
     ]
    }
   ],
   "source": [
    "ages =np.array([34,12,37,5,13])\n",
    "\n",
    "sorted_ages = np.sort(ages)\n",
    "print(ages)\n",
    "print(sorted_ages,type(sorted_ages))\n",
    "\n",
    "ages.sort()\n",
    "print(ages,type(ages))"
   ]
  },
  {
   "cell_type": "code",
   "execution_count": 17,
   "metadata": {},
   "outputs": [
    {
     "name": "stdout",
     "output_type": "stream",
     "text": [
      "[[1 2 3 4 5]\n",
      " [4 5 6 7 8]\n",
      " [9 8 7 6 5]]\n",
      "[[4 5 6]\n",
      " [9 8 7]]\n"
     ]
    }
   ],
   "source": [
    "a = np.array([[1,2,3,4,5],\n",
    "              [4,5,6,7,8],\n",
    "              [9,8,7,6,5]])\n",
    "print(a)\n",
    "\n",
    "b1 = a[1:3,:3]\n",
    "print(b1)"
   ]
  },
  {
   "cell_type": "code",
   "execution_count": 18,
   "metadata": {},
   "outputs": [
    {
     "name": "stdout",
     "output_type": "stream",
     "text": [
      "[[7 8]\n",
      " [6 5]]\n"
     ]
    }
   ],
   "source": [
    "b2 = a[-2:,-2:]\n",
    "print(b2)"
   ]
  },
  {
   "cell_type": "code",
   "execution_count": 19,
   "metadata": {},
   "outputs": [
    {
     "name": "stdout",
     "output_type": "stream",
     "text": [
      "[[6 7 8]\n",
      " [7 6 5]]\n"
     ]
    }
   ],
   "source": [
    "b3 = a[1:,2:]\n",
    "print(b3)"
   ]
  },
  {
   "cell_type": "code",
   "execution_count": 20,
   "metadata": {},
   "outputs": [
    {
     "name": "stdout",
     "output_type": "stream",
     "text": [
      "[[1 2 3 4 5]\n",
      " [4 5 6 7 8]\n",
      " [9 8 7 6 5]]\n",
      "[[ 6  7 88]\n",
      " [ 7  6  5]]\n",
      "[[ 1  2  3  4  5]\n",
      " [ 4  5  6  7 88]\n",
      " [ 9  8  7  6  5]]\n"
     ]
    }
   ],
   "source": [
    "b3 = a.copy()\n",
    "print(b3)\n",
    "\n",
    "b4 = a[1:,2:]\n",
    "b4[0,2] = 88\n",
    "print(b4)\n",
    "print(a)"
   ]
  },
  {
   "cell_type": "code",
   "execution_count": 21,
   "metadata": {},
   "outputs": [
    {
     "name": "stdout",
     "output_type": "stream",
     "text": [
      "[[9 8 7 6 5]]\n",
      "(1, 5)\n"
     ]
    }
   ],
   "source": [
    "b4 = a[2:,:]\n",
    "print(b4)\n",
    "print(b4.shape)"
   ]
  },
  {
   "cell_type": "code",
   "execution_count": 22,
   "metadata": {},
   "outputs": [
    {
     "name": "stdout",
     "output_type": "stream",
     "text": [
      "[6 5]\n",
      "[28.88888889 14.51836889 23.046875  ]\n",
      "Overweight :  ['Ann']\n",
      "Underweight :  ['Joe']\n",
      "Healty :  ['Mark']\n"
     ]
    }
   ],
   "source": [
    "x = np.array([2,3])\n",
    "y = np.array([4,2])\n",
    "z = x + y \n",
    "print(z)\n",
    "\n",
    "names = np.array([\"Ann\",\"Joe\",\"Mark\"])\n",
    "heights = np.array([1.5,1.78,1.6])\n",
    "weights = np.array([65,46,59])\n",
    "\n",
    "bmi = weights/heights ** 2\n",
    "print(bmi)\n",
    "\n",
    "print(\"Overweight : \",names[bmi>25])\n",
    "print(\"Underweight : \",names[bmi< 18.5])\n",
    "print(\"Healty : \",names[(bmi>= 18.5) & (bmi <= 25)])"
   ]
  },
  {
   "cell_type": "code",
   "execution_count": 23,
   "metadata": {},
   "outputs": [
    {
     "name": "stdout",
     "output_type": "stream",
     "text": [
      "0    1\n",
      "1    2\n",
      "2    3\n",
      "3    4\n",
      "4    5\n",
      "dtype: int64\n",
      "a    1\n",
      "b    2\n",
      "c    3\n",
      "d    4\n",
      "c    5\n",
      "dtype: int64\n",
      "3\n",
      "3\n",
      "4\n",
      "4\n",
      "c    3\n",
      "d    4\n",
      "c    5\n",
      "dtype: int64\n",
      "c    3\n",
      "d    4\n",
      "c    5\n",
      "dtype: int64\n"
     ]
    }
   ],
   "source": [
    "import pandas as pd\n",
    "series = pd.Series([1,2,3,4,5])\n",
    "print(series)\n",
    "\n",
    "series = pd.Series([1,2,3,4,5],index=['a','b','c','d','c'])\n",
    "print(series)\n",
    "\n",
    "print(series[2])\n",
    "print(series.iloc[2])\n",
    "\n",
    "print(series[\"d\"])\n",
    "print(series.loc[\"d\"])\n",
    "\n",
    "print(series[2:])\n",
    "print(series.iloc[2:])"
   ]
  },
  {
   "cell_type": "code",
   "execution_count": 24,
   "metadata": {},
   "outputs": [
    {
     "name": "stdout",
     "output_type": "stream",
     "text": [
      "DatetimeIndex(['2019-05-25', '2019-05-26', '2019-05-27', '2019-05-28',\n",
      "               '2019-05-29', '2019-05-30', '2019-05-31', '2019-06-01',\n",
      "               '2019-06-02', '2019-06-03', '2019-06-04', '2019-06-05'],\n",
      "              dtype='datetime64[ns]', freq='D')\n",
      "2019-05-25     1\n",
      "2019-05-26     2\n",
      "2019-05-27     3\n",
      "2019-05-28     4\n",
      "2019-05-29     5\n",
      "2019-05-30     6\n",
      "2019-05-31     7\n",
      "2019-06-01     8\n",
      "2019-06-02     9\n",
      "2019-06-03    10\n",
      "2019-06-04    11\n",
      "2019-06-05    12\n",
      "Freq: D, dtype: int64\n"
     ]
    }
   ],
   "source": [
    "dates1 = pd.date_range(\"20190525\",periods = 12)\n",
    "print(dates1)\n",
    "\n",
    "series = pd.Series([1,2,3,4,5,6,7,8,9,10,11,12])\n",
    "series.index = dates1\n",
    "print(series)"
   ]
  },
  {
   "cell_type": "code",
   "execution_count": 25,
   "metadata": {},
   "outputs": [
    {
     "name": "stdout",
     "output_type": "stream",
     "text": [
      "          A         B         C         D\n",
      "0  0.939120 -0.510468  0.777742  0.338561\n",
      "1  1.175150 -1.944394 -0.555647 -0.029986\n",
      "2 -2.145523 -0.444826 -0.323754  0.447627\n",
      "3  1.044843  0.351954 -0.696066  1.042764\n",
      "4  0.845787  0.103135  0.067072  0.073396\n",
      "5  1.348623 -0.252894  1.278587 -0.221836\n",
      "6  0.696398  1.335609 -0.060052  0.392696\n",
      "7 -0.341848 -1.014179 -0.799671 -1.022143\n",
      "8  0.980386  2.128926 -2.593222 -0.052735\n",
      "9 -1.083067  0.643600 -0.242875 -0.471142\n"
     ]
    }
   ],
   "source": [
    "df = pd.DataFrame(np.random.randn(10,4),columns=list(\"ABCD\"))\n",
    "print(df)\n",
    "\n",
    "df.to_csv(\"data.csv\",index = False)"
   ]
  },
  {
   "cell_type": "code",
   "execution_count": 27,
   "metadata": {},
   "outputs": [
    {
     "name": "stdout",
     "output_type": "stream",
     "text": [
      "                   A         B         C         D\n",
      "2019-05-25  0.939120 -0.510468  0.777742  0.338561\n",
      "2019-05-26  1.175150 -1.944394 -0.555647 -0.029986\n",
      "2019-05-27 -2.145523 -0.444826 -0.323754  0.447627\n",
      "2019-05-28  1.044843  0.351954 -0.696066  1.042764\n",
      "2019-05-29  0.845787  0.103135  0.067072  0.073396\n",
      "2019-05-30  1.348623 -0.252894  1.278587 -0.221836\n",
      "2019-05-31  0.696398  1.335609 -0.060052  0.392696\n",
      "2019-06-01 -0.341848 -1.014179 -0.799671 -1.022143\n",
      "2019-06-02  0.980386  2.128926 -2.593222 -0.052735\n",
      "2019-06-03 -1.083067  0.643600 -0.242875 -0.471142\n",
      "DatetimeIndex(['2019-05-25', '2019-05-26', '2019-05-27', '2019-05-28',\n",
      "               '2019-05-29', '2019-05-30', '2019-05-31', '2019-06-01',\n",
      "               '2019-06-02', '2019-06-03'],\n",
      "              dtype='datetime64[ns]', freq='D')\n",
      "[[ 0.9391204  -0.51046772  0.77774232  0.33856075]\n",
      " [ 1.17514984 -1.9443939  -0.5556469  -0.02998618]\n",
      " [-2.14552265 -0.44482599 -0.32375405  0.44762682]\n",
      " [ 1.0448434   0.35195367 -0.69606598  1.04276389]\n",
      " [ 0.84578702  0.10313463  0.0670719   0.0733957 ]\n",
      " [ 1.34862284 -0.25289363  1.27858652 -0.22183591]\n",
      " [ 0.69639781  1.33560946 -0.06005236  0.39269642]\n",
      " [-0.34184802 -1.01417939 -0.79967135 -1.02214283]\n",
      " [ 0.98038599  2.12892649 -2.59322189 -0.05273528]\n",
      " [-1.08306667  0.64360008 -0.24287505 -0.47114177]]\n"
     ]
    }
   ],
   "source": [
    "df = pd.read_csv(\"data.csv\")\n",
    "days = pd.date_range(\"20190525\",periods = 10)\n",
    "df.index = days\n",
    "print(df)\n",
    "print(df.index)\n",
    "print(df.values)"
   ]
  },
  {
   "cell_type": "code",
   "execution_count": 28,
   "metadata": {},
   "outputs": [
    {
     "name": "stdout",
     "output_type": "stream",
     "text": [
      "               A          B          C          D\n",
      "count  10.000000  10.000000  10.000000  10.000000\n",
      "mean    0.345987   0.039646  -0.314789   0.049720\n",
      "std     1.156190   1.163368   1.031621   0.563409\n",
      "min    -2.145523  -1.944394  -2.593222  -1.022143\n",
      "25%    -0.082287  -0.494057  -0.660961  -0.179561\n",
      "50%     0.892454  -0.074880  -0.283315   0.021705\n",
      "75%     1.028729   0.570688   0.035291   0.379163\n",
      "max     1.348623   2.128926   1.278587   1.042764\n",
      "A    0.345987\n",
      "B    0.039646\n",
      "C   -0.314789\n",
      "D    0.049720\n",
      "dtype: float64\n",
      "2019-05-25    0.386239\n",
      "2019-05-26   -0.338719\n",
      "2019-05-27   -0.616619\n",
      "2019-05-28    0.435874\n",
      "2019-05-29    0.272347\n",
      "2019-05-30    0.538120\n",
      "2019-05-31    0.591163\n",
      "2019-06-01   -0.794460\n",
      "2019-06-02    0.115839\n",
      "2019-06-03   -0.288371\n",
      "Freq: D, dtype: float64\n",
      "                   A         B         C         D\n",
      "2019-05-25  0.939120 -0.510468  0.777742  0.338561\n",
      "2019-05-26  1.175150 -1.944394 -0.555647 -0.029986\n",
      "2019-05-27 -2.145523 -0.444826 -0.323754  0.447627\n",
      "2019-05-28  1.044843  0.351954 -0.696066  1.042764\n",
      "2019-05-29  0.845787  0.103135  0.067072  0.073396\n",
      "                   A         B         C         D\n",
      "2019-05-30  1.348623 -0.252894  1.278587 -0.221836\n",
      "2019-05-31  0.696398  1.335609 -0.060052  0.392696\n",
      "2019-06-01 -0.341848 -1.014179 -0.799671 -1.022143\n",
      "2019-06-02  0.980386  2.128926 -2.593222 -0.052735\n",
      "2019-06-03 -1.083067  0.643600 -0.242875 -0.471142\n"
     ]
    }
   ],
   "source": [
    "print(df.describe())\n",
    "print(df.mean(0))\n",
    "print(df.mean(1))\n",
    "print(df.head())\n",
    "print(df.tail())\n"
   ]
  },
  {
   "cell_type": "code",
   "execution_count": 29,
   "metadata": {},
   "outputs": [
    {
     "name": "stdout",
     "output_type": "stream",
     "text": [
      "2019-05-25    0.939120\n",
      "2019-05-26    1.175150\n",
      "2019-05-27   -2.145523\n",
      "2019-05-28    1.044843\n",
      "2019-05-29    0.845787\n",
      "2019-05-30    1.348623\n",
      "2019-05-31    0.696398\n",
      "2019-06-01   -0.341848\n",
      "2019-06-02    0.980386\n",
      "2019-06-03   -1.083067\n",
      "Freq: D, Name: A, dtype: float64\n",
      "2019-05-25    0.939120\n",
      "2019-05-26    1.175150\n",
      "2019-05-27   -2.145523\n",
      "2019-05-28    1.044843\n",
      "2019-05-29    0.845787\n",
      "2019-05-30    1.348623\n",
      "2019-05-31    0.696398\n",
      "2019-06-01   -0.341848\n",
      "2019-06-02    0.980386\n",
      "2019-06-03   -1.083067\n",
      "Freq: D, Name: A, dtype: float64\n"
     ]
    }
   ],
   "source": [
    "print(df[\"A\"])\n",
    "print(df.A)"
   ]
  },
  {
   "cell_type": "code",
   "execution_count": 31,
   "metadata": {},
   "outputs": [
    {
     "name": "stdout",
     "output_type": "stream",
     "text": [
      "                   A         B\n",
      "2019-05-25  0.939120 -0.510468\n",
      "2019-05-26  1.175150 -1.944394\n",
      "2019-05-27 -2.145523 -0.444826\n",
      "2019-05-28  1.044843  0.351954\n",
      "2019-05-29  0.845787  0.103135\n",
      "2019-05-30  1.348623 -0.252894\n",
      "2019-05-31  0.696398  1.335609\n",
      "2019-06-01 -0.341848 -1.014179\n",
      "2019-06-02  0.980386  2.128926\n",
      "2019-06-03 -1.083067  0.643600\n",
      "                   A         B         C         D\n",
      "2019-05-27 -2.145523 -0.444826 -0.323754  0.447627\n",
      "2019-05-28  1.044843  0.351954 -0.696066  1.042764\n",
      "                   A         B         C         D\n",
      "2019-05-27 -2.145523 -0.444826 -0.323754  0.447627\n",
      "2019-05-28  1.044843  0.351954 -0.696066  1.042764\n",
      "                   A         B         C         D\n",
      "2019-05-28  1.044843  0.351954 -0.696066  1.042764\n",
      "2019-05-29  0.845787  0.103135  0.067072  0.073396\n",
      "2019-05-31  0.696398  1.335609 -0.060052  0.392696\n",
      "2019-06-02  0.980386  2.128926 -2.593222 -0.052735\n"
     ]
    }
   ],
   "source": [
    "print(df[[\"A\",\"B\"]])\n",
    "print(df[2:4])\n",
    "print(df.iloc[2:4])\n",
    "\n",
    "\n",
    "print(df[(df.A >0) & (df.B>0)])"
   ]
  },
  {
   "cell_type": "code",
   "execution_count": 34,
   "metadata": {},
   "outputs": [
    {
     "name": "stdout",
     "output_type": "stream",
     "text": [
      "              name  year  reports\n",
      "Singapore    Janet  2012        6\n",
      "China          Nad  2012       13\n",
      "Japan      Timothy  2013       14\n",
      "Sweden        June  2014        1\n",
      "Norway         Amy  2014        7\n",
      "\n",
      "              name  year  reports     school\n",
      "Singapore    Janet  2012        6  Cambridge\n",
      "China          Nad  2012       13     Oxford\n",
      "Japan      Timothy  2013       14     Oxford\n",
      "Sweden        June  2014        1  Cambridge\n",
      "Norway         Amy  2014        7     Oxford\n"
     ]
    }
   ],
   "source": [
    "data = {\"name\" : [\"Janet\",\"Nad\",\"Timothy\",\"June\",\"Amy\"],\n",
    "       \"year\" : [2012,2012,2013,2014,2014],\n",
    "       \"reports\" : [6,13,14,1,7]}\n",
    "\n",
    "df = pd.DataFrame(data, index = [\"Singapore\",\"China\",\"Japan\",\"Sweden\",\"Norway\"])\n",
    "\n",
    "print(df)\n",
    "print()\n",
    "schools = np.array([\"Cambridge\",\"Oxford\",\"Oxford\",\"Cambridge\",\"Oxford\"])\n",
    "df[\"school\"] = schools\n",
    "print(df)"
   ]
  },
  {
   "cell_type": "code",
   "execution_count": 36,
   "metadata": {},
   "outputs": [
    {
     "name": "stdout",
     "output_type": "stream",
     "text": [
      "            name  year  reports     school\n",
      "Singapore  Janet  2012        6  Cambridge\n",
      "Sweden      June  2014        1  Cambridge\n",
      "Norway       Amy  2014        7     Oxford\n"
     ]
    }
   ],
   "source": [
    "print(df.drop([\"China\",\"Japan\"]))"
   ]
  },
  {
   "cell_type": "code",
   "execution_count": 38,
   "metadata": {},
   "outputs": [
    {
     "name": "stdout",
     "output_type": "stream",
     "text": [
      "              name  year  reports     school\n",
      "Singapore    Janet  2012        6  Cambridge\n",
      "Japan      Timothy  2013       14     Oxford\n",
      "Sweden        June  2014        1  Cambridge\n",
      "Norway         Amy  2014        7     Oxford\n"
     ]
    }
   ],
   "source": [
    "print(df[df.name != \"Nad\"])"
   ]
  },
  {
   "cell_type": "code",
   "execution_count": 41,
   "metadata": {},
   "outputs": [
    {
     "name": "stdout",
     "output_type": "stream",
     "text": [
      "              name  year     school\n",
      "Singapore    Janet  2012  Cambridge\n",
      "China          Nad  2012     Oxford\n",
      "Japan      Timothy  2013     Oxford\n",
      "Sweden        June  2014  Cambridge\n",
      "Norway         Amy  2014     Oxford\n"
     ]
    }
   ],
   "source": [
    "print(df.drop(\"reports\", axis = 1))"
   ]
  },
  {
   "cell_type": "code",
   "execution_count": null,
   "metadata": {},
   "outputs": [],
   "source": []
  }
 ],
 "metadata": {
  "kernelspec": {
   "display_name": "Python 3",
   "language": "python",
   "name": "python3"
  },
  "language_info": {
   "codemirror_mode": {
    "name": "ipython",
    "version": 3
   },
   "file_extension": ".py",
   "mimetype": "text/x-python",
   "name": "python",
   "nbconvert_exporter": "python",
   "pygments_lexer": "ipython3",
   "version": "3.7.3"
  }
 },
 "nbformat": 4,
 "nbformat_minor": 2
}
