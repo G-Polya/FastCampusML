{
 "cells": [
  {
   "cell_type": "markdown",
   "metadata": {},
   "source": [
    "# PyTorch: Evaluating"
   ]
  },
  {
   "cell_type": "markdown",
   "metadata": {},
   "source": [
    "https://github.com/pytorch/examples/tree/master/mnist"
   ]
  },
  {
   "cell_type": "code",
   "execution_count": 1,
   "metadata": {},
   "outputs": [],
   "source": [
    "import os\n",
    "from glob import glob\n",
    "\n",
    "import torch\n",
    "import torch.nn as nn\n",
    "import torch.nn.functional as F\n",
    "import torch.optim as optim\n",
    "from torchvision import datasets, transforms\n",
    "\n",
    "import numpy as np"
   ]
  },
  {
   "cell_type": "code",
   "execution_count": 2,
   "metadata": {},
   "outputs": [],
   "source": [
    "seed = 1\n",
    "\n",
    "lr = 0.001\n",
    "momentum = 0.5\n",
    "\n",
    "batch_size = 64\n",
    "test_batch_size = 64\n",
    "\n",
    "epochs = 1\n",
    "no_cuda = False\n",
    "log_interval = 100"
   ]
  },
  {
   "cell_type": "markdown",
   "metadata": {},
   "source": [
    "# Model"
   ]
  },
  {
   "cell_type": "code",
   "execution_count": 3,
   "metadata": {},
   "outputs": [],
   "source": [
    "class Net(nn.Module):\n",
    "    def __init__(self):\n",
    "        super(Net, self).__init__()\n",
    "        self.conv1 = nn.Conv2d(1, 20, 5, 1)\n",
    "        self.conv2 = nn.Conv2d(20, 50, 5, 1)\n",
    "        self.fc1 = nn.Linear(4*4*50, 500)\n",
    "        self.fc2 = nn.Linear(500, 10)\n",
    "\n",
    "    def forward(self, x):\n",
    "        x = F.relu(self.conv1(x))\n",
    "        x = F.max_pool2d(x, 2, 2)\n",
    "        x = F.relu(self.conv2(x))\n",
    "        x = F.max_pool2d(x, 2, 2)\n",
    "        x = x.view(-1, 4*4*50)\n",
    "        x = F.relu(self.fc1(x))\n",
    "        x = self.fc2(x)\n",
    "        return F.log_softmax(x, dim=1)"
   ]
  },
  {
   "cell_type": "markdown",
   "metadata": {},
   "source": [
    "# Preprocess"
   ]
  },
  {
   "cell_type": "code",
   "execution_count": 4,
   "metadata": {
    "scrolled": false
   },
   "outputs": [
    {
     "name": "stdout",
     "output_type": "stream",
     "text": [
      "Downloading http://yann.lecun.com/exdb/mnist/train-images-idx3-ubyte.gz to ../dataset\\MNIST\\raw\\train-images-idx3-ubyte.gz\n"
     ]
    },
    {
     "name": "stderr",
     "output_type": "stream",
     "text": [
      "100%|███████████████████████████████████████████████████████████████████▉| 9895936/9912422 [00:10<00:00, 898198.31it/s]"
     ]
    },
    {
     "name": "stdout",
     "output_type": "stream",
     "text": [
      "Extracting ../dataset\\MNIST\\raw\\train-images-idx3-ubyte.gz to ../dataset\\MNIST\\raw\n",
      "Downloading http://yann.lecun.com/exdb/mnist/train-labels-idx1-ubyte.gz to ../dataset\\MNIST\\raw\\train-labels-idx1-ubyte.gz\n"
     ]
    },
    {
     "name": "stderr",
     "output_type": "stream",
     "text": [
      "\n",
      "0it [00:00, ?it/s]\n",
      "  0%|                                                                                        | 0/28881 [00:00<?, ?it/s]\n",
      " 57%|█████████████████████████████████████████▍                               | 16384/28881 [00:00<00:00, 77929.94it/s]\n",
      "32768it [00:00, 51892.33it/s]                                                                                          "
     ]
    },
    {
     "name": "stdout",
     "output_type": "stream",
     "text": [
      "Extracting ../dataset\\MNIST\\raw\\train-labels-idx1-ubyte.gz to ../dataset\\MNIST\\raw\n",
      "Downloading http://yann.lecun.com/exdb/mnist/t10k-images-idx3-ubyte.gz to ../dataset\\MNIST\\raw\\t10k-images-idx3-ubyte.gz\n"
     ]
    },
    {
     "name": "stderr",
     "output_type": "stream",
     "text": [
      "\n",
      "0it [00:00, ?it/s]\n",
      "  0%|                                                                                      | 0/1648877 [00:00<?, ?it/s]\n",
      "  1%|▋                                                                      | 16384/1648877 [00:00<00:21, 75680.66it/s]\n",
      "  3%|██                                                                     | 49152/1648877 [00:00<00:17, 90273.40it/s]\n",
      "  6%|████▏                                                                 | 98304/1648877 [00:01<00:13, 110921.49it/s]\n",
      " 13%|████████▉                                                            | 212992/1648877 [00:01<00:09, 145939.97it/s]\n",
      " 21%|██████████████▍                                                      | 344064/1648877 [00:01<00:06, 189796.74it/s]\n",
      " 31%|█████████████████████▎                                               | 507904/1648877 [00:01<00:04, 245689.67it/s]\n",
      " 41%|████████████████████████████▍                                        | 679936/1648877 [00:01<00:03, 310393.18it/s]\n",
      " 52%|███████████████████████████████████▉                                 | 860160/1648877 [00:01<00:01, 408624.94it/s]\n",
      " 58%|███████████████████████████████████████▊                             | 950272/1648877 [00:02<00:01, 470338.51it/s]\n",
      " 64%|███████████████████████████████████████████▌                        | 1056768/1648877 [00:02<00:01, 491341.61it/s]\n",
      " 76%|███████████████████████████████████████████████████▋                | 1253376/1648877 [00:02<00:00, 631714.29it/s]\n",
      " 83%|████████████████████████████████████████████████████████▍           | 1368064/1648877 [00:02<00:00, 675386.62it/s]\n",
      " 89%|████████████████████████████████████████████████████████████▊       | 1474560/1648877 [00:02<00:00, 665044.28it/s]\n",
      "1654784it [00:02, 593432.85it/s]                                                                                       "
     ]
    },
    {
     "name": "stdout",
     "output_type": "stream",
     "text": [
      "Extracting ../dataset\\MNIST\\raw\\t10k-images-idx3-ubyte.gz to ../dataset\\MNIST\\raw\n",
      "Downloading http://yann.lecun.com/exdb/mnist/t10k-labels-idx1-ubyte.gz to ../dataset\\MNIST\\raw\\t10k-labels-idx1-ubyte.gz\n"
     ]
    },
    {
     "name": "stderr",
     "output_type": "stream",
     "text": [
      "\n",
      "0it [00:00, ?it/s]\n",
      "  0%|                                                                                         | 0/4542 [00:00<?, ?it/s]\n",
      "8192it [00:00, 20400.52it/s]                                                                                           "
     ]
    },
    {
     "name": "stdout",
     "output_type": "stream",
     "text": [
      "Extracting ../dataset\\MNIST\\raw\\t10k-labels-idx1-ubyte.gz to ../dataset\\MNIST\\raw\n",
      "Processing...\n",
      "Done!\n"
     ]
    },
    {
     "data": {
      "text/plain": [
       "Dataset MNIST\n",
       "    Number of datapoints: 60000\n",
       "    Root location: ../dataset\n",
       "    Split: Train\n",
       "    StandardTransform\n",
       "Transform: Compose(\n",
       "               ToTensor()\n",
       "               Normalize(mean=(0.1307,), std=(0.3081,))\n",
       "           )"
      ]
     },
     "execution_count": 4,
     "metadata": {},
     "output_type": "execute_result"
    }
   ],
   "source": [
    "datasets.MNIST('../dataset', train=True, download=True,\n",
    "               transform=transforms.Compose([\n",
    "                   transforms.ToTensor(),\n",
    "                   transforms.Normalize((0.1307,), (0.3081,))\n",
    "               ]))"
   ]
  },
  {
   "cell_type": "code",
   "execution_count": 5,
   "metadata": {
    "scrolled": false
   },
   "outputs": [
    {
     "name": "stdout",
     "output_type": "stream",
     "text": [
      "Downloading http://yann.lecun.com/exdb/mnist/train-images-idx3-ubyte.gz to ../data\\MNIST\\raw\\train-images-idx3-ubyte.gz\n"
     ]
    },
    {
     "name": "stderr",
     "output_type": "stream",
     "text": [
      "\n",
      "0it [00:00, ?it/s]\n",
      "  0%|                                                                                      | 0/9912422 [00:00<?, ?it/s]\n",
      "  0%|                                                                       | 16384/9912422 [00:00<02:11, 75478.00it/s]\n",
      "  0%|▎                                                                      | 49152/9912422 [00:00<01:49, 89698.47it/s]\n",
      "  1%|▋                                                                     | 98304/9912422 [00:01<01:28, 110919.72it/s]\n",
      "  2%|█▍                                                                   | 212992/9912422 [00:01<01:06, 145851.98it/s]\n",
      "  3%|██▍                                                                  | 344064/9912422 [00:01<00:50, 189277.88it/s]\n",
      "  5%|███▌                                                                 | 507904/9912422 [00:01<00:38, 244542.33it/s]\n",
      "  7%|████▋                                                                | 679936/9912422 [00:01<00:29, 311388.12it/s]\n",
      "  9%|█████▉                                                               | 860160/9912422 [00:02<00:23, 387099.04it/s]\n",
      " 11%|███████▏                                                            | 1048576/9912422 [00:02<00:18, 468816.82it/s]\n",
      " 13%|████████▌                                                           | 1245184/9912422 [00:02<00:15, 552961.96it/s]\n",
      " 15%|█████████▉                                                          | 1449984/9912422 [00:02<00:13, 641717.49it/s]\n",
      " 17%|███████████▍                                                        | 1671168/9912422 [00:02<00:11, 730822.01it/s]\n",
      " 19%|█████████████                                                       | 1900544/9912422 [00:03<00:09, 813590.74it/s]\n",
      " 22%|██████████████▋                                                     | 2138112/9912422 [00:03<00:08, 918345.37it/s]\n",
      " 24%|████████████████                                                   | 2383872/9912422 [00:03<00:06, 1128113.63it/s]\n",
      " 26%|█████████████████▏                                                 | 2539520/9912422 [00:03<00:07, 1007578.53it/s]\n",
      " 27%|██████████████████▎                                                 | 2670592/9912422 [00:03<00:07, 923954.27it/s]\n",
      " 30%|███████████████████▊                                               | 2932736/9912422 [00:03<00:06, 1146014.76it/s]\n",
      " 31%|█████████████████████▏                                              | 3096576/9912422 [00:04<00:08, 792288.45it/s]\n",
      " 34%|███████████████████████                                            | 3416064/9912422 [00:04<00:06, 1002616.11it/s]\n",
      " 36%|████████████████████████▎                                          | 3588096/9912422 [00:04<00:05, 1135390.42it/s]\n",
      " 38%|█████████████████████████▍                                         | 3760128/9912422 [00:04<00:05, 1045543.48it/s]\n",
      " 39%|██████████████████████████▊                                         | 3907584/9912422 [00:04<00:06, 995676.76it/s]\n",
      " 41%|███████████████████████████▌                                       | 4071424/9912422 [00:04<00:05, 1052217.23it/s]\n",
      " 43%|████████████████████████████▌                                      | 4218880/9912422 [00:05<00:04, 1149140.77it/s]\n",
      " 44%|█████████████████████████████▍                                     | 4358144/9912422 [00:05<00:05, 1057681.31it/s]\n",
      " 46%|██████████████████████████████▊                                    | 4554752/9912422 [00:05<00:04, 1071719.42it/s]\n",
      " 48%|████████████████████████████████▍                                  | 4792320/9912422 [00:05<00:04, 1277170.22it/s]\n",
      " 50%|█████████████████████████████████▍                                 | 4947968/9912422 [00:05<00:04, 1154759.21it/s]\n",
      " 51%|██████████████████████████████████▍                                | 5087232/9912422 [00:05<00:04, 1055249.47it/s]\n",
      " 54%|███████████████████████████████████▉                               | 5316608/9912422 [00:05<00:03, 1164217.86it/s]\n",
      " 55%|█████████████████████████████████████                              | 5488640/9912422 [00:06<00:03, 1274324.18it/s]\n",
      " 57%|██████████████████████████████████████                             | 5636096/9912422 [00:06<00:03, 1150845.18it/s]\n",
      " 59%|███████████████████████████████████████▌                           | 5849088/9912422 [00:06<00:03, 1307166.09it/s]\n",
      " 60%|████████████████████████████████████████▌                          | 5996544/9912422 [00:06<00:03, 1293386.30it/s]\n",
      " 62%|█████████████████████████████████████████▌                         | 6144000/9912422 [00:06<00:03, 1151533.14it/s]\n",
      " 65%|███████████████████████████████████████████▏                       | 6397952/9912422 [00:06<00:02, 1319073.69it/s]\n",
      " 66%|████████████████████████████████████████████▎                      | 6553600/9912422 [00:06<00:02, 1299434.30it/s]\n",
      " 68%|█████████████████████████████████████████████▎                     | 6701056/9912422 [00:06<00:02, 1170015.77it/s]\n",
      " 70%|███████████████████████████████████████████████                    | 6963200/9912422 [00:07<00:02, 1295779.75it/s]\n",
      " 72%|████████████████████████████████████████████████▎                  | 7143424/9912422 [00:07<00:01, 1409045.36it/s]\n",
      " 74%|█████████████████████████████████████████████████▎                 | 7299072/9912422 [00:07<00:02, 1242745.67it/s]\n",
      " 76%|██████████████████████████████████████████████████▉                | 7536640/9912422 [00:07<00:01, 1403575.98it/s]\n",
      " 78%|███████████████████████████████████████████████████▉               | 7692288/9912422 [00:07<00:01, 1380777.51it/s]\n",
      " 79%|█████████████████████████████████████████████████████              | 7847936/9912422 [00:07<00:01, 1242704.37it/s]\n",
      " 82%|██████████████████████████████████████████████████████▊            | 8110080/9912422 [00:07<00:01, 1472606.90it/s]\n",
      " 84%|███████████████████████████████████████████████████████▉           | 8282112/9912422 [00:08<00:01, 1352061.14it/s]\n",
      " 85%|█████████████████████████████████████████████████████████          | 8437760/9912422 [00:08<00:01, 1234171.50it/s]\n",
      " 88%|██████████████████████████████████████████████████████████▋        | 8691712/9912422 [00:08<00:00, 1456399.48it/s]\n",
      " 90%|███████████████████████████████████████████████████████████▉       | 8871936/9912422 [00:08<00:00, 1336127.40it/s]\n",
      " 91%|█████████████████████████████████████████████████████████████      | 9027584/9912422 [00:08<00:00, 1240008.23it/s]\n",
      " 94%|██████████████████████████████████████████████████████████████▊    | 9289728/9912422 [00:08<00:00, 1417329.25it/s]\n",
      " 95%|███████████████████████████████████████████████████████████████▉   | 9453568/9912422 [00:08<00:00, 1343657.86it/s]\n",
      " 97%|████████████████████████████████████████████████████████████████▉  | 9609216/9912422 [00:08<00:00, 1269941.47it/s]\n",
      "100%|██████████████████████████████████████████████████████████████████▋| 9871360/9912422 [00:09<00:00, 1425007.65it/s]"
     ]
    },
    {
     "name": "stdout",
     "output_type": "stream",
     "text": [
      "Extracting ../data\\MNIST\\raw\\train-images-idx3-ubyte.gz to ../data\\MNIST\\raw\n",
      "Downloading http://yann.lecun.com/exdb/mnist/train-labels-idx1-ubyte.gz to ../data\\MNIST\\raw\\train-labels-idx1-ubyte.gz\n"
     ]
    },
    {
     "name": "stderr",
     "output_type": "stream",
     "text": [
      "\n",
      "\n",
      "0it [00:00, ?it/s]\n",
      "\n",
      "  0%|                                                                                        | 0/28881 [00:00<?, ?it/s]\n",
      "\n",
      " 57%|█████████████████████████████████████████▍                               | 16384/28881 [00:00<00:00, 79371.99it/s]\n",
      "\n",
      "32768it [00:00, 52514.94it/s]                                                                                          "
     ]
    },
    {
     "name": "stdout",
     "output_type": "stream",
     "text": [
      "Extracting ../data\\MNIST\\raw\\train-labels-idx1-ubyte.gz to ../data\\MNIST\\raw\n",
      "Downloading http://yann.lecun.com/exdb/mnist/t10k-images-idx3-ubyte.gz to ../data\\MNIST\\raw\\t10k-images-idx3-ubyte.gz\n"
     ]
    },
    {
     "name": "stderr",
     "output_type": "stream",
     "text": [
      "\n",
      "\n",
      "0it [00:00, ?it/s]\n",
      "\n",
      "  0%|                                                                                      | 0/1648877 [00:00<?, ?it/s]\n",
      "\n",
      "  1%|▋                                                                      | 16384/1648877 [00:00<00:20, 77836.20it/s]\n",
      "\n",
      "  3%|██                                                                     | 49152/1648877 [00:00<00:17, 91777.62it/s]\n",
      "\n",
      "  6%|████▏                                                                 | 98304/1648877 [00:01<00:13, 112643.51it/s]\n",
      "\n",
      " 13%|████████▉                                                            | 212992/1648877 [00:01<00:09, 147773.49it/s]\n",
      "\n",
      " 21%|██████████████▍                                                      | 344064/1648877 [00:01<00:06, 191474.01it/s]\n",
      "\n",
      " 33%|██████████████████████▉                                              | 548864/1648877 [00:01<00:04, 253613.82it/s]\n",
      "\n",
      " 47%|████████████████████████████████▏                                    | 770048/1648877 [00:01<00:02, 330065.81it/s]\n",
      "\n",
      " 61%|█████████████████████████████████████████▌                          | 1007616/1648877 [00:02<00:01, 421094.71it/s]\n",
      "\n",
      " 76%|███████████████████████████████████████████████████▎                | 1245184/1648877 [00:02<00:00, 523871.57it/s]\n",
      "\n",
      " 91%|█████████████████████████████████████████████████████████████▊      | 1499136/1648877 [00:02<00:00, 678885.49it/s]\n",
      "\n",
      " 99%|███████████████████████████████████████████████████████████████████▌| 1638400/1648877 [00:02<00:00, 768115.20it/s]\n",
      "\n",
      "1654784it [00:02, 660965.69it/s]                                                                                       "
     ]
    },
    {
     "name": "stdout",
     "output_type": "stream",
     "text": [
      "Extracting ../data\\MNIST\\raw\\t10k-images-idx3-ubyte.gz to ../data\\MNIST\\raw\n",
      "Downloading http://yann.lecun.com/exdb/mnist/t10k-labels-idx1-ubyte.gz to ../data\\MNIST\\raw\\t10k-labels-idx1-ubyte.gz\n"
     ]
    },
    {
     "name": "stderr",
     "output_type": "stream",
     "text": [
      "\n",
      "\n",
      "0it [00:00, ?it/s]\n",
      "\n",
      "  0%|                                                                                         | 0/4542 [00:00<?, ?it/s]\n",
      "\n",
      "8192it [00:00, 20226.78it/s]                                                                                           "
     ]
    },
    {
     "name": "stdout",
     "output_type": "stream",
     "text": [
      "Extracting ../data\\MNIST\\raw\\t10k-labels-idx1-ubyte.gz to ../data\\MNIST\\raw\n",
      "Processing...\n",
      "Done!\n"
     ]
    }
   ],
   "source": [
    "torch.manual_seed(seed)\n",
    "\n",
    "use_cuda = not no_cuda and torch.cuda.is_available()\n",
    "device = torch.device(\"cuda\" if use_cuda else \"cpu\")\n",
    "\n",
    "kwargs = {'num_workers': 1, 'pin_memory': True} if use_cuda else {}\n",
    "\n",
    "\n",
    "\n",
    "train_loader = torch.utils.data.DataLoader(\n",
    "    datasets.MNIST('../data', train=True, download=True,\n",
    "                   transform=transforms.Compose([\n",
    "                       transforms.ToTensor(),\n",
    "                       transforms.Normalize((0.1307,), (0.3081,))\n",
    "                   ])),\n",
    "    batch_size=batch_size, shuffle=True, **kwargs)\n",
    "\n",
    "\n",
    "\n",
    "\n",
    "test_loader = torch.utils.data.DataLoader(\n",
    "    datasets.MNIST('../data', train=False, transform=transforms.Compose([\n",
    "                       transforms.ToTensor(),\n",
    "                       transforms.Normalize((0.1307,), (0.3081,))\n",
    "                   ])),\n",
    "    batch_size=test_batch_size, shuffle=True, **kwargs)"
   ]
  },
  {
   "cell_type": "markdown",
   "metadata": {},
   "source": [
    "# Optimization"
   ]
  },
  {
   "cell_type": "code",
   "execution_count": 6,
   "metadata": {},
   "outputs": [
    {
     "name": "stderr",
     "output_type": "stream",
     "text": [
      "\r",
      "9920512it [00:30, 898198.31it/s]                                                                                       "
     ]
    }
   ],
   "source": [
    "model = Net().to(device)\n",
    "optimizer = optim.SGD(model.parameters(), lr=lr, momentum=momentum)"
   ]
  },
  {
   "cell_type": "code",
   "execution_count": 7,
   "metadata": {},
   "outputs": [],
   "source": [
    "params = list(model.parameters())"
   ]
  },
  {
   "cell_type": "code",
   "execution_count": 8,
   "metadata": {},
   "outputs": [
    {
     "name": "stdout",
     "output_type": "stream",
     "text": [
      "torch.Size([20, 1, 5, 5])\n",
      "torch.Size([20])\n",
      "torch.Size([50, 20, 5, 5])\n",
      "torch.Size([50])\n",
      "torch.Size([500, 800])\n",
      "torch.Size([500])\n",
      "torch.Size([10, 500])\n",
      "torch.Size([10])\n"
     ]
    }
   ],
   "source": [
    "for i in range(8):\n",
    "    print(params[i].size())"
   ]
  },
  {
   "cell_type": "markdown",
   "metadata": {},
   "source": [
    "# Training"
   ]
  },
  {
   "cell_type": "code",
   "execution_count": 26,
   "metadata": {},
   "outputs": [
    {
     "name": "stdout",
     "output_type": "stream",
     "text": [
      "Train Epoch: 1 [0/60000 (0%)]\tLoss: 0.482081\n",
      "Train Epoch: 1 [6400/60000 (11%)]\tLoss: 0.607491\n",
      "Train Epoch: 1 [12800/60000 (21%)]\tLoss: 0.351454\n",
      "Train Epoch: 1 [19200/60000 (32%)]\tLoss: 0.447347\n",
      "Train Epoch: 1 [25600/60000 (43%)]\tLoss: 0.322105\n",
      "Train Epoch: 1 [32000/60000 (53%)]\tLoss: 0.207067\n",
      "Train Epoch: 1 [38400/60000 (64%)]\tLoss: 0.399237\n",
      "Train Epoch: 1 [44800/60000 (75%)]\tLoss: 0.321698\n",
      "Train Epoch: 1 [51200/60000 (85%)]\tLoss: 0.317586\n",
      "Train Epoch: 1 [57600/60000 (96%)]\tLoss: 0.322681\n",
      "\n",
      "Test set: Average Loss: 0.2960, Accuracy: 9121/10000 (91)%\n",
      "\n"
     ]
    }
   ],
   "source": [
    "for epoch in range(1, epochs + 1):\n",
    "    # Train Mode\n",
    "    model.train()\n",
    "\n",
    "    for batch_idx, (data, target) in enumerate(train_loader):\n",
    "        data, target = data.to(device), target.to(device)\n",
    "        optimizer.zero_grad()  # backpropagation 계산하기 전에 0으로 기울기 계산\n",
    "        output = model(data)\n",
    "        loss = F.nll_loss(output, target)  # https://pytorch.org/docs/stable/nn.html#nll-loss\n",
    "        loss.backward()  # 계산한 기울기를 \n",
    "        optimizer.step()  \n",
    "\n",
    "        if batch_idx % log_interval == 0:\n",
    "            print('Train Epoch: {} [{}/{} ({:.0f}%)]\\tLoss: {:.6f}'.format(\n",
    "                epoch, batch_idx * len(data), len(train_loader.dataset),\n",
    "                100. * batch_idx / len(train_loader), loss.item()))\n",
    "    model.eval()\n",
    "\n",
    "    test_loss = 0\n",
    "    correct = 0\n",
    "\n",
    "    with torch.no_grad():\n",
    "        for data, target in test_loader:\n",
    "            data, target = data.to(device), target.to(device)\n",
    "            output = model(data)\n",
    "            test_loss += F.nll_loss(output, target, reduction='sum').item()\n",
    "            pred = output.argmax(dim=1,keepdim=True)\n",
    "            correct += pred.eq(target.view_as(pred)).sum().item()\n",
    "\n",
    "    test_loss /= len(test_loader.dataset)\n",
    "\n",
    "    print('\\nTest set: Average Loss: {:.4f}, Accuracy: {}/{} ({:.0f})%\\n'.format(\n",
    "        test_loss,correct,len(test_loader.dataset),100 * correct/len(test_loader.dataset)))\n",
    "\n",
    "    \n",
    "        "
   ]
  },
  {
   "cell_type": "markdown",
   "metadata": {},
   "source": [
    "# Evaluation"
   ]
  },
  {
   "cell_type": "markdown",
   "metadata": {},
   "source": [
    "- 앞에서 model.train() 모드로 변한 것처럼 평가 할 때는 model.eval()로 설정\n",
    "    - Batch Normalization이나 Drop Out 같은 Layer들을 잠금"
   ]
  },
  {
   "cell_type": "code",
   "execution_count": 10,
   "metadata": {},
   "outputs": [
    {
     "data": {
      "text/plain": [
       "Net(\n",
       "  (conv1): Conv2d(1, 20, kernel_size=(5, 5), stride=(1, 1))\n",
       "  (conv2): Conv2d(20, 50, kernel_size=(5, 5), stride=(1, 1))\n",
       "  (fc1): Linear(in_features=800, out_features=500, bias=True)\n",
       "  (fc2): Linear(in_features=500, out_features=10, bias=True)\n",
       ")"
      ]
     },
     "execution_count": 10,
     "metadata": {},
     "output_type": "execute_result"
    }
   ],
   "source": [
    "model.eval()"
   ]
  },
  {
   "cell_type": "markdown",
   "metadata": {},
   "source": [
    "- autograd engine, 즉 backpropagation이나 gradient 계산 등을 꺼서 memory usage를 줄이고 속도를 높임"
   ]
  },
  {
   "cell_type": "code",
   "execution_count": 12,
   "metadata": {},
   "outputs": [],
   "source": [
    "test_loss = 0\n",
    "correct = 0\n",
    "\n",
    "with torch.no_grad():\n",
    "    data, target=next(iter(test_loader))\n",
    "    data, target=data.to(device), target.to(device)\n",
    "    output = model(data)\n",
    "    \n",
    "    test_loss += F.nll_loss(output, target, reduction='sum').item()\n",
    "    \n",
    "    pred = output.argmax(dim = 1, keepdim = True)\n",
    "    correct = pred.eq(target.view_as(pred)).sum().item()"
   ]
  },
  {
   "cell_type": "code",
   "execution_count": 17,
   "metadata": {},
   "outputs": [
    {
     "data": {
      "text/plain": [
       "torch.Size([64, 10])"
      ]
     },
     "execution_count": 17,
     "metadata": {},
     "output_type": "execute_result"
    }
   ],
   "source": [
    "output.shape"
   ]
  },
  {
   "cell_type": "code",
   "execution_count": 18,
   "metadata": {},
   "outputs": [
    {
     "data": {
      "text/plain": [
       "torch.Size([64, 1])"
      ]
     },
     "execution_count": 18,
     "metadata": {},
     "output_type": "execute_result"
    }
   ],
   "source": [
    "pred.shape"
   ]
  },
  {
   "cell_type": "code",
   "execution_count": 19,
   "metadata": {},
   "outputs": [
    {
     "data": {
      "text/plain": [
       "28.20578956604004"
      ]
     },
     "execution_count": 19,
     "metadata": {},
     "output_type": "execute_result"
    }
   ],
   "source": [
    "test_loss"
   ]
  },
  {
   "cell_type": "code",
   "execution_count": 20,
   "metadata": {},
   "outputs": [
    {
     "data": {
      "text/plain": [
       "56"
      ]
     },
     "execution_count": 20,
     "metadata": {},
     "output_type": "execute_result"
    }
   ],
   "source": [
    "correct"
   ]
  },
  {
   "cell_type": "code",
   "execution_count": 21,
   "metadata": {},
   "outputs": [
    {
     "data": {
      "text/plain": [
       "0.0028205789566040037"
      ]
     },
     "execution_count": 21,
     "metadata": {},
     "output_type": "execute_result"
    }
   ],
   "source": [
    "test_loss /= len(test_loader.dataset)\n",
    "test_loss"
   ]
  },
  {
   "cell_type": "code",
   "execution_count": 25,
   "metadata": {},
   "outputs": [
    {
     "name": "stdout",
     "output_type": "stream",
     "text": [
      "\n",
      "Test set: Average Loss: 0.4822, Accuracy: 8651/10000 (87)%\n",
      "\n"
     ]
    }
   ],
   "source": [
    "model.eval()\n",
    "\n",
    "test_loss = 0\n",
    "correct = 0\n",
    "\n",
    "with torch.no_grad():\n",
    "    for data, target in test_loader:\n",
    "        data, target = data.to(device), target.to(device)\n",
    "        output = model(data)\n",
    "        test_loss += F.nll_loss(output, target, reduction='sum').item()\n",
    "        pred = output.argmax(dim=1,keepdim=True)\n",
    "        correct += pred.eq(target.view_as(pred)).sum().item()\n",
    "        \n",
    "test_loss /= len(test_loader.dataset)\n",
    "\n",
    "print('\\nTest set: Average Loss: {:.4f}, Accuracy: {}/{} ({:.0f})%\\n'.format(\n",
    "    test_loss,correct,len(test_loader.dataset),100 * correct/len(test_loader.dataset)))\n"
   ]
  },
  {
   "cell_type": "code",
   "execution_count": null,
   "metadata": {},
   "outputs": [],
   "source": []
  }
 ],
 "metadata": {
  "kernelspec": {
   "display_name": "Python 3",
   "language": "python",
   "name": "python3"
  },
  "language_info": {
   "codemirror_mode": {
    "name": "ipython",
    "version": 3
   },
   "file_extension": ".py",
   "mimetype": "text/x-python",
   "name": "python",
   "nbconvert_exporter": "python",
   "pygments_lexer": "ipython3",
   "version": "3.7.3"
  }
 },
 "nbformat": 4,
 "nbformat_minor": 2
}
