{
 "cells": [
  {
   "cell_type": "code",
   "execution_count": 2,
   "metadata": {},
   "outputs": [],
   "source": [
    "import os\n",
    "from glob import glob\n",
    "\n",
    "import numpy as np\n",
    "\n",
    "import tensorflow as tf\n",
    "from PIL import Image\n",
    "\n",
    "import matplotlib.pyplot as plt\n",
    "%matplotlib inline"
   ]
  },
  {
   "cell_type": "code",
   "execution_count": 3,
   "metadata": {},
   "outputs": [
    {
     "data": {
      "text/plain": [
       "'C:\\\\Users\\\\wlska\\\\Documents\\\\ML\\\\딥러닝_인공지능\\\\Chapter4'"
      ]
     },
     "execution_count": 3,
     "metadata": {},
     "output_type": "execute_result"
    }
   ],
   "source": [
    "os.getcwd()"
   ]
  },
  {
   "cell_type": "code",
   "execution_count": 4,
   "metadata": {},
   "outputs": [
    {
     "data": {
      "text/plain": [
       "['1.png',\n",
       " '1000.png',\n",
       " '10005.png',\n",
       " '10010.png',\n",
       " '10022.png',\n",
       " '10025.png',\n",
       " '10026.png',\n",
       " '10045.png',\n",
       " '10069.png',\n",
       " '10071.png',\n",
       " '10080.png',\n",
       " '10083.png',\n",
       " '10107.png',\n",
       " '10119.png',\n",
       " '10120.png',\n",
       " '10121.png',\n",
       " '10128.png',\n",
       " '10140.png',\n",
       " '1015.png',\n",
       " '10167.png',\n",
       " '10168.png',\n",
       " '10176.png',\n",
       " '1018.png',\n",
       " '10188.png',\n",
       " '10195.png',\n",
       " '10203.png',\n",
       " '10204.png',\n",
       " '10221.png',\n",
       " '10230.png',\n",
       " '10237.png',\n",
       " '10240.png',\n",
       " '10242.png',\n",
       " '10245.png',\n",
       " '10254.png',\n",
       " '10259.png',\n",
       " '10261.png',\n",
       " '10265.png',\n",
       " '10272.png',\n",
       " '10276.png',\n",
       " '1028.png',\n",
       " '10283.png',\n",
       " '1029.png',\n",
       " '10323.png',\n",
       " '10326.png',\n",
       " '10334.png',\n",
       " '10340.png',\n",
       " '10343.png',\n",
       " '10348.png',\n",
       " '10352.png',\n",
       " '10363.png',\n",
       " '10366.png',\n",
       " '10372.png',\n",
       " '10380.png',\n",
       " '10384.png',\n",
       " '1040.png',\n",
       " '10407.png',\n",
       " '10425.png',\n",
       " '10439.png',\n",
       " '10456.png',\n",
       " '1046.png',\n",
       " '10469.png',\n",
       " '10471.png',\n",
       " '10479.png',\n",
       " '10488.png',\n",
       " '1049.png',\n",
       " '10505.png',\n",
       " '10523.png',\n",
       " '10530.png',\n",
       " '10531.png',\n",
       " '10542.png',\n",
       " '10563.png',\n",
       " '10564.png',\n",
       " '10579.png',\n",
       " '10599.png',\n",
       " '10604.png',\n",
       " '10625.png',\n",
       " '10645.png',\n",
       " '10664.png',\n",
       " '10689.png',\n",
       " '10691.png',\n",
       " '10700.png',\n",
       " '10705.png',\n",
       " '10732.png',\n",
       " '10747.png',\n",
       " '10750.png',\n",
       " '10755.png',\n",
       " '1076.png',\n",
       " '10773.png',\n",
       " '1078.png',\n",
       " '10781.png',\n",
       " '108.png',\n",
       " '10801.png',\n",
       " '10806.png',\n",
       " '10821.png',\n",
       " '10840.png',\n",
       " '10844.png',\n",
       " '10849.png',\n",
       " '10859.png',\n",
       " '10861.png',\n",
       " '10874.png',\n",
       " '1090.png',\n",
       " '10909.png',\n",
       " '10914.png',\n",
       " '10916.png',\n",
       " '10919.png',\n",
       " '10924.png',\n",
       " '1093.png',\n",
       " '10938.png',\n",
       " '10974.png',\n",
       " '10975.png',\n",
       " '10992.png',\n",
       " '11003.png',\n",
       " '11014.png',\n",
       " '11019.png',\n",
       " '1102.png',\n",
       " '11022.png',\n",
       " '11026.png',\n",
       " '11027.png',\n",
       " '11029.png',\n",
       " '11036.png',\n",
       " '11041.png',\n",
       " '11045.png',\n",
       " '11052.png',\n",
       " '11060.png',\n",
       " '1107.png',\n",
       " '11071.png',\n",
       " '11072.png',\n",
       " '11077.png',\n",
       " '11091.png',\n",
       " '11105.png',\n",
       " '11116.png',\n",
       " '11129.png',\n",
       " '11133.png',\n",
       " '11162.png',\n",
       " '11172.png',\n",
       " '11187.png',\n",
       " '11217.png',\n",
       " '11222.png',\n",
       " '11231.png',\n",
       " '11240.png',\n",
       " '11267.png',\n",
       " '11269.png',\n",
       " '1128.png',\n",
       " '11281.png',\n",
       " '11295.png',\n",
       " '11304.png',\n",
       " '11315.png',\n",
       " '11318.png',\n",
       " '11320.png',\n",
       " '11330.png',\n",
       " '11335.png',\n",
       " '11340.png',\n",
       " '11354.png',\n",
       " '11361.png',\n",
       " '1137.png',\n",
       " '11379.png',\n",
       " '11391.png',\n",
       " '114.png',\n",
       " '11403.png',\n",
       " '11409.png',\n",
       " '11422.png',\n",
       " '11428.png',\n",
       " '11429.png',\n",
       " '11451.png',\n",
       " '11453.png',\n",
       " '11462.png',\n",
       " '11501.png',\n",
       " '11514.png',\n",
       " '1152.png',\n",
       " '11526.png',\n",
       " '11532.png',\n",
       " '11541.png',\n",
       " '11559.png',\n",
       " '11562.png',\n",
       " '11574.png',\n",
       " '11577.png',\n",
       " '11584.png',\n",
       " '11588.png',\n",
       " '11597.png',\n",
       " '11605.png',\n",
       " '11612.png',\n",
       " '11615.png',\n",
       " '11620.png',\n",
       " '11636.png',\n",
       " '11639.png',\n",
       " '11654.png',\n",
       " '11657.png',\n",
       " '11661.png',\n",
       " '11675.png',\n",
       " '1168.png',\n",
       " '11683.png',\n",
       " '11694.png',\n",
       " '11701.png',\n",
       " '11712.png',\n",
       " '11729.png',\n",
       " '11742.png',\n",
       " '11746.png',\n",
       " '11754.png',\n",
       " '11758.png',\n",
       " '11779.png',\n",
       " '11780.png',\n",
       " '1179.png',\n",
       " '11791.png',\n",
       " '11792.png',\n",
       " '11794.png',\n",
       " '118.png',\n",
       " '11807.png',\n",
       " '11833.png',\n",
       " '11834.png',\n",
       " '11845.png',\n",
       " '11846.png',\n",
       " '11848.png',\n",
       " '11851.png',\n",
       " '11860.png',\n",
       " '11887.png',\n",
       " '11888.png',\n",
       " '119.png',\n",
       " '11902.png',\n",
       " '11911.png',\n",
       " '11914.png',\n",
       " '11920.png',\n",
       " '11933.png',\n",
       " '11945.png',\n",
       " '11948.png',\n",
       " '1195.png',\n",
       " '11957.png',\n",
       " '11969.png',\n",
       " '11973.png',\n",
       " '11974.png',\n",
       " '11993.png',\n",
       " '12004.png',\n",
       " '12008.png',\n",
       " '12011.png',\n",
       " '12020.png',\n",
       " '12057.png',\n",
       " '1209.png',\n",
       " '12095.png',\n",
       " '121.png',\n",
       " '12103.png',\n",
       " '12107.png',\n",
       " '12115.png',\n",
       " '12119.png',\n",
       " '12134.png',\n",
       " '12140.png',\n",
       " '12142.png',\n",
       " '12144.png',\n",
       " '12150.png',\n",
       " '12168.png',\n",
       " '12180.png',\n",
       " '12184.png',\n",
       " '12193.png',\n",
       " '12195.png',\n",
       " '12205.png',\n",
       " '12217.png',\n",
       " '12219.png',\n",
       " '12239.png',\n",
       " '12259.png',\n",
       " '12264.png',\n",
       " '12266.png',\n",
       " '12276.png',\n",
       " '12313.png',\n",
       " '12321.png',\n",
       " '12324.png',\n",
       " '12325.png',\n",
       " '12337.png',\n",
       " '12339.png',\n",
       " '12351.png',\n",
       " '12357.png',\n",
       " '12360.png',\n",
       " '12374.png',\n",
       " '12387.png',\n",
       " '12414.png',\n",
       " '12421.png',\n",
       " '12456.png',\n",
       " '12457.png',\n",
       " '12477.png',\n",
       " '12497.png',\n",
       " '12500.png',\n",
       " '12504.png',\n",
       " '12516.png',\n",
       " '12533.png',\n",
       " '12542.png',\n",
       " '12550.png',\n",
       " '12553.png',\n",
       " '12554.png',\n",
       " '12555.png',\n",
       " '12568.png',\n",
       " '12573.png',\n",
       " '12575.png',\n",
       " '12584.png',\n",
       " '12605.png',\n",
       " '12635.png',\n",
       " '12652.png',\n",
       " '12653.png',\n",
       " '12662.png',\n",
       " '12665.png',\n",
       " '12666.png',\n",
       " '12670.png',\n",
       " '1268.png',\n",
       " '12686.png',\n",
       " '12690.png',\n",
       " '12691.png',\n",
       " '12703.png',\n",
       " '12716.png',\n",
       " '12723.png',\n",
       " '12732.png',\n",
       " '12741.png',\n",
       " '12748.png',\n",
       " '12764.png',\n",
       " '12765.png',\n",
       " '12776.png',\n",
       " '12785.png',\n",
       " '12796.png',\n",
       " '12799.png',\n",
       " '12837.png',\n",
       " '12839.png',\n",
       " '12869.png',\n",
       " '12872.png',\n",
       " '12880.png',\n",
       " '12888.png',\n",
       " '12897.png',\n",
       " '12907.png',\n",
       " '12926.png',\n",
       " '12927.png',\n",
       " '12947.png',\n",
       " '12992.png',\n",
       " '13005.png',\n",
       " '13013.png',\n",
       " '13029.png',\n",
       " '13030.png',\n",
       " '13033.png',\n",
       " '1304.png',\n",
       " '13044.png',\n",
       " '13054.png',\n",
       " '13066.png',\n",
       " '13074.png',\n",
       " '13075.png',\n",
       " '13076.png',\n",
       " '13077.png',\n",
       " '13081.png',\n",
       " '13097.png',\n",
       " '13098.png',\n",
       " '1310.png',\n",
       " '13117.png',\n",
       " '13126.png',\n",
       " '13135.png',\n",
       " '13155.png',\n",
       " '13164.png',\n",
       " '13175.png',\n",
       " '13184.png',\n",
       " '13196.png',\n",
       " '13197.png',\n",
       " '13203.png',\n",
       " '13206.png',\n",
       " '13211.png',\n",
       " '13214.png',\n",
       " '13215.png',\n",
       " '13216.png',\n",
       " '13217.png',\n",
       " '13230.png',\n",
       " '13231.png',\n",
       " '13233.png',\n",
       " '13238.png',\n",
       " '13240.png',\n",
       " '13268.png',\n",
       " '13280.png',\n",
       " '13286.png',\n",
       " '13314.png',\n",
       " '13335.png',\n",
       " '13344.png',\n",
       " '13347.png',\n",
       " '13366.png',\n",
       " '13371.png',\n",
       " '13377.png',\n",
       " '13397.png',\n",
       " '13408.png',\n",
       " '13411.png',\n",
       " '13450.png',\n",
       " '13454.png',\n",
       " '13459.png',\n",
       " '1346.png',\n",
       " '13464.png',\n",
       " '13467.png',\n",
       " '13483.png',\n",
       " '1349.png',\n",
       " '13492.png',\n",
       " '13497.png',\n",
       " '13521.png',\n",
       " '13528.png',\n",
       " '13544.png',\n",
       " '13545.png',\n",
       " '13547.png',\n",
       " '13582.png',\n",
       " '13583.png',\n",
       " '13589.png',\n",
       " '1359.png',\n",
       " '13609.png',\n",
       " '13623.png',\n",
       " '1363.png',\n",
       " '13641.png',\n",
       " '1367.png',\n",
       " '1368.png',\n",
       " '13685.png',\n",
       " '1371.png',\n",
       " '13719.png',\n",
       " '1372.png',\n",
       " '13726.png',\n",
       " '13729.png',\n",
       " '13730.png',\n",
       " '13734.png',\n",
       " '13738.png',\n",
       " '13751.png',\n",
       " '13764.png',\n",
       " '13769.png',\n",
       " '1377.png',\n",
       " '13777.png',\n",
       " '13779.png',\n",
       " '13798.png',\n",
       " '13799.png',\n",
       " '13807.png',\n",
       " '13808.png',\n",
       " '13816.png',\n",
       " '13822.png',\n",
       " '13826.png',\n",
       " '13830.png',\n",
       " '13833.png',\n",
       " '13853.png',\n",
       " '13854.png',\n",
       " '1386.png',\n",
       " '1387.png',\n",
       " '13872.png',\n",
       " '13873.png',\n",
       " '13874.png',\n",
       " '13880.png',\n",
       " '13889.png',\n",
       " '13896.png',\n",
       " '13911.png',\n",
       " '13913.png',\n",
       " '13916.png',\n",
       " '13918.png',\n",
       " '13921.png',\n",
       " '13926.png',\n",
       " '13955.png',\n",
       " '13962.png',\n",
       " '13989.png',\n",
       " '14012.png',\n",
       " '14019.png',\n",
       " '1403.png',\n",
       " '14034.png',\n",
       " '14039.png',\n",
       " '14052.png',\n",
       " '14059.png',\n",
       " '14089.png',\n",
       " '14092.png',\n",
       " '14097.png',\n",
       " '14102.png',\n",
       " '14110.png',\n",
       " '14131.png',\n",
       " '14137.png',\n",
       " '14148.png',\n",
       " '14153.png',\n",
       " '14157.png',\n",
       " '14158.png',\n",
       " '14160.png',\n",
       " '14161.png',\n",
       " '14165.png',\n",
       " '14179.png',\n",
       " '14202.png',\n",
       " '14229.png',\n",
       " '1423.png',\n",
       " '14258.png',\n",
       " '14269.png',\n",
       " '14276.png',\n",
       " '14278.png',\n",
       " '14282.png',\n",
       " '14291.png',\n",
       " '14311.png',\n",
       " '14319.png',\n",
       " '14323.png',\n",
       " '14325.png',\n",
       " '14329.png',\n",
       " '14334.png',\n",
       " '14356.png',\n",
       " '14384.png',\n",
       " '14393.png',\n",
       " '14402.png',\n",
       " '14412.png',\n",
       " '14419.png',\n",
       " '14425.png',\n",
       " '1443.png',\n",
       " '14430.png',\n",
       " '14445.png',\n",
       " '14461.png',\n",
       " '14472.png',\n",
       " '14481.png',\n",
       " '14491.png',\n",
       " '14511.png',\n",
       " '14513.png',\n",
       " '14518.png',\n",
       " '14530.png',\n",
       " '1454.png',\n",
       " '14545.png',\n",
       " '14557.png',\n",
       " '14559.png',\n",
       " '14564.png',\n",
       " '14574.png',\n",
       " '14589.png',\n",
       " '14613.png',\n",
       " '14629.png',\n",
       " '14644.png',\n",
       " '14649.png',\n",
       " '14668.png',\n",
       " '14675.png',\n",
       " '14693.png',\n",
       " '14705.png',\n",
       " '1471.png',\n",
       " '14712.png',\n",
       " '14717.png',\n",
       " '14722.png',\n",
       " '14723.png',\n",
       " '14729.png',\n",
       " '14746.png',\n",
       " '14749.png',\n",
       " '14752.png',\n",
       " '14773.png',\n",
       " '14775.png',\n",
       " '1479.png',\n",
       " '14817.png',\n",
       " '14820.png',\n",
       " '14840.png',\n",
       " '14857.png',\n",
       " '14877.png',\n",
       " '1489.png',\n",
       " '14890.png',\n",
       " '14897.png',\n",
       " '14919.png',\n",
       " '14937.png',\n",
       " '14944.png',\n",
       " '14949.png',\n",
       " '1495.png',\n",
       " '14959.png',\n",
       " '14965.png',\n",
       " '14971.png',\n",
       " '14991.png',\n",
       " '1501.png',\n",
       " '15015.png',\n",
       " '15017.png',\n",
       " '1502.png',\n",
       " '15028.png',\n",
       " '15042.png',\n",
       " '15046.png',\n",
       " '15060.png',\n",
       " '15064.png',\n",
       " '15065.png',\n",
       " '15103.png',\n",
       " '15108.png',\n",
       " '15119.png',\n",
       " '1512.png',\n",
       " '15120.png',\n",
       " '15130.png',\n",
       " '15133.png',\n",
       " '15142.png',\n",
       " '15150.png',\n",
       " '15156.png',\n",
       " '15160.png',\n",
       " '15169.png',\n",
       " '1517.png',\n",
       " '15189.png',\n",
       " '15191.png',\n",
       " '15198.png',\n",
       " '15208.png',\n",
       " '15237.png',\n",
       " '15242.png',\n",
       " '15249.png',\n",
       " '15275.png',\n",
       " '15288.png',\n",
       " '15291.png',\n",
       " '1530.png',\n",
       " '15311.png',\n",
       " '15318.png',\n",
       " '1532.png',\n",
       " '15325.png',\n",
       " '15329.png',\n",
       " '15330.png',\n",
       " '15344.png',\n",
       " '15382.png',\n",
       " '15383.png',\n",
       " '15399.png',\n",
       " '15407.png',\n",
       " '15442.png',\n",
       " '15445.png',\n",
       " '15454.png',\n",
       " '15471.png',\n",
       " '15480.png',\n",
       " '15491.png',\n",
       " '15492.png',\n",
       " '15504.png',\n",
       " '15505.png',\n",
       " '15508.png',\n",
       " '15516.png',\n",
       " '15520.png',\n",
       " '15524.png',\n",
       " '15530.png',\n",
       " '15542.png',\n",
       " '15559.png',\n",
       " '15564.png',\n",
       " '15566.png',\n",
       " '15567.png',\n",
       " '15580.png',\n",
       " '15581.png',\n",
       " '15582.png',\n",
       " '15583.png',\n",
       " '15590.png',\n",
       " '156.png',\n",
       " '15600.png',\n",
       " '15619.png',\n",
       " '15621.png',\n",
       " '15628.png',\n",
       " '15637.png',\n",
       " '15648.png',\n",
       " '15662.png',\n",
       " '15663.png',\n",
       " '15675.png',\n",
       " '15692.png',\n",
       " '15694.png',\n",
       " '15695.png',\n",
       " '15700.png',\n",
       " '15704.png',\n",
       " '1571.png',\n",
       " '15711.png',\n",
       " '15734.png',\n",
       " '15753.png',\n",
       " '15759.png',\n",
       " '15761.png',\n",
       " '15765.png',\n",
       " '15770.png',\n",
       " '15777.png',\n",
       " '15779.png',\n",
       " '1578.png',\n",
       " '15795.png',\n",
       " '15798.png',\n",
       " '15814.png',\n",
       " '15825.png',\n",
       " '15828.png',\n",
       " '15854.png',\n",
       " '15863.png',\n",
       " '15864.png',\n",
       " '15868.png',\n",
       " '15882.png',\n",
       " '15883.png',\n",
       " '15890.png',\n",
       " '1590.png',\n",
       " '15901.png',\n",
       " '15904.png',\n",
       " '15910.png',\n",
       " '15926.png',\n",
       " '15928.png',\n",
       " '15934.png',\n",
       " '15946.png',\n",
       " '15955.png',\n",
       " '1596.png',\n",
       " '15965.png',\n",
       " '15971.png',\n",
       " '15992.png',\n",
       " '15993.png',\n",
       " '1600.png',\n",
       " '16031.png',\n",
       " '16043.png',\n",
       " '16045.png',\n",
       " '1605.png',\n",
       " '1606.png',\n",
       " '16081.png',\n",
       " '16083.png',\n",
       " '16085.png',\n",
       " '16105.png',\n",
       " '16119.png',\n",
       " '16122.png',\n",
       " '16136.png',\n",
       " '16139.png',\n",
       " '16144.png',\n",
       " '16151.png',\n",
       " '16163.png',\n",
       " '16178.png',\n",
       " '16192.png',\n",
       " '16202.png',\n",
       " '16217.png',\n",
       " '16221.png',\n",
       " '16227.png',\n",
       " '16238.png',\n",
       " '16244.png',\n",
       " '1625.png',\n",
       " '1626.png',\n",
       " '16285.png',\n",
       " '16286.png',\n",
       " '16305.png',\n",
       " '16306.png',\n",
       " '16318.png',\n",
       " '16323.png',\n",
       " '16326.png',\n",
       " '16352.png',\n",
       " '16354.png',\n",
       " '16355.png',\n",
       " '16363.png',\n",
       " '16396.png',\n",
       " '16402.png',\n",
       " '16412.png',\n",
       " '16415.png',\n",
       " '16423.png',\n",
       " '16428.png',\n",
       " '16429.png',\n",
       " '16439.png',\n",
       " '1645.png',\n",
       " '16460.png',\n",
       " '16474.png',\n",
       " '16484.png',\n",
       " '16485.png',\n",
       " '16498.png',\n",
       " '16501.png',\n",
       " '16516.png',\n",
       " '16518.png',\n",
       " '16519.png',\n",
       " '16520.png',\n",
       " '16523.png',\n",
       " '16540.png',\n",
       " '16543.png',\n",
       " '16563.png',\n",
       " '16585.png',\n",
       " '16595.png',\n",
       " '16598.png',\n",
       " '16606.png',\n",
       " '16607.png',\n",
       " '16618.png',\n",
       " '16619.png',\n",
       " '16634.png',\n",
       " '1664.png',\n",
       " '16640.png',\n",
       " '16642.png',\n",
       " '16679.png',\n",
       " '16705.png',\n",
       " '16749.png',\n",
       " '16758.png',\n",
       " '16761.png',\n",
       " '16777.png',\n",
       " '1678.png',\n",
       " '16787.png',\n",
       " '16803.png',\n",
       " '16817.png',\n",
       " '1682.png',\n",
       " '16866.png',\n",
       " '16868.png',\n",
       " '16888.png',\n",
       " '169.png',\n",
       " '16903.png',\n",
       " '16905.png',\n",
       " '16921.png',\n",
       " '16928.png',\n",
       " '16941.png',\n",
       " '16961.png',\n",
       " '16975.png',\n",
       " '16987.png',\n",
       " '16997.png',\n",
       " '17003.png',\n",
       " '17009.png',\n",
       " '1701.png',\n",
       " '17025.png',\n",
       " '17048.png',\n",
       " '17049.png',\n",
       " '17050.png',\n",
       " '17051.png',\n",
       " '17064.png',\n",
       " '1709.png',\n",
       " '17095.png',\n",
       " '17106.png',\n",
       " '17108.png',\n",
       " '1712.png',\n",
       " '17122.png',\n",
       " '17124.png',\n",
       " '17133.png',\n",
       " '17134.png',\n",
       " '17149.png',\n",
       " '17169.png',\n",
       " '17187.png',\n",
       " '17200.png',\n",
       " '17210.png',\n",
       " '17214.png',\n",
       " '17223.png',\n",
       " '1723.png',\n",
       " '17236.png',\n",
       " '17245.png',\n",
       " '1725.png',\n",
       " '17285.png',\n",
       " '1729.png',\n",
       " '17293.png',\n",
       " '17304.png',\n",
       " '17314.png',\n",
       " '17322.png',\n",
       " '17327.png',\n",
       " '17334.png',\n",
       " '17335.png',\n",
       " '17349.png',\n",
       " '17360.png',\n",
       " '17365.png',\n",
       " '17376.png',\n",
       " '17379.png',\n",
       " '17381.png',\n",
       " '17392.png',\n",
       " '17411.png',\n",
       " '1742.png',\n",
       " '17449.png',\n",
       " '17452.png',\n",
       " '17454.png',\n",
       " '17458.png',\n",
       " '17462.png',\n",
       " '17466.png',\n",
       " '17476.png',\n",
       " '17479.png',\n",
       " '17485.png',\n",
       " '17503.png',\n",
       " '17508.png',\n",
       " '17518.png',\n",
       " '17519.png',\n",
       " '17534.png',\n",
       " '17535.png',\n",
       " '17539.png',\n",
       " '17549.png',\n",
       " '17581.png',\n",
       " '17585.png',\n",
       " '17603.png',\n",
       " '17606.png',\n",
       " '17611.png',\n",
       " '17620.png',\n",
       " '17625.png',\n",
       " '17648.png',\n",
       " '17655.png',\n",
       " '1769.png',\n",
       " '17693.png',\n",
       " '17709.png',\n",
       " '1771.png',\n",
       " '17725.png',\n",
       " '17726.png',\n",
       " '17738.png',\n",
       " '17741.png',\n",
       " '1775.png',\n",
       " '17755.png',\n",
       " '17761.png',\n",
       " '17770.png',\n",
       " '17779.png',\n",
       " '17797.png',\n",
       " '17828.png',\n",
       " '17838.png',\n",
       " '17871.png',\n",
       " '17877.png',\n",
       " '17881.png',\n",
       " '17905.png',\n",
       " '17923.png',\n",
       " '17930.png',\n",
       " '17932.png',\n",
       " '17941.png',\n",
       " '17956.png',\n",
       " '1796.png',\n",
       " '17968.png',\n",
       " '1797.png',\n",
       " '17977.png',\n",
       " '1798.png',\n",
       " '17987.png',\n",
       " '18022.png',\n",
       " '18028.png',\n",
       " '18029.png',\n",
       " '18042.png',\n",
       " '18055.png',\n",
       " '18064.png',\n",
       " '18073.png',\n",
       " '18093.png',\n",
       " '18102.png',\n",
       " '18112.png',\n",
       " '18113.png',\n",
       " '18124.png',\n",
       " '18132.png',\n",
       " '18137.png',\n",
       " '18159.png',\n",
       " '18171.png',\n",
       " '18178.png',\n",
       " '1819.png',\n",
       " '18208.png',\n",
       " '18212.png',\n",
       " '18219.png',\n",
       " '18222.png',\n",
       " '18232.png',\n",
       " '18247.png',\n",
       " '18253.png',\n",
       " '18263.png',\n",
       " '18273.png',\n",
       " '18278.png',\n",
       " '1828.png',\n",
       " '18284.png',\n",
       " '18295.png',\n",
       " '18301.png',\n",
       " '18319.png',\n",
       " '18324.png',\n",
       " '18337.png',\n",
       " '18357.png',\n",
       " '1837.png',\n",
       " '18371.png',\n",
       " '18412.png',\n",
       " '18424.png',\n",
       " '18425.png',\n",
       " '18443.png',\n",
       " '18461.png',\n",
       " '18462.png',\n",
       " '18464.png',\n",
       " '18471.png',\n",
       " '18486.png',\n",
       " '18505.png',\n",
       " '18507.png',\n",
       " '18509.png',\n",
       " '18515.png',\n",
       " '18538.png',\n",
       " '18543.png',\n",
       " '18563.png',\n",
       " '18564.png',\n",
       " '1857.png',\n",
       " '18572.png',\n",
       " '18581.png',\n",
       " '18586.png',\n",
       " '18590.png',\n",
       " '18599.png',\n",
       " '18603.png',\n",
       " '18606.png',\n",
       " '18641.png',\n",
       " '18645.png',\n",
       " '18650.png',\n",
       " '18658.png',\n",
       " '18665.png',\n",
       " '1868.png',\n",
       " '18703.png',\n",
       " '18712.png',\n",
       " '18715.png',\n",
       " '18718.png',\n",
       " '18725.png',\n",
       " '18737.png',\n",
       " '18743.png',\n",
       " '18750.png',\n",
       " '18759.png',\n",
       " '1876.png',\n",
       " '1877.png',\n",
       " '18779.png',\n",
       " '18794.png',\n",
       " '18799.png',\n",
       " '18832.png',\n",
       " '18836.png',\n",
       " '18837.png',\n",
       " '18858.png',\n",
       " '18868.png',\n",
       " '18878.png',\n",
       " '18881.png',\n",
       " '18889.png',\n",
       " '18892.png',\n",
       " '18893.png',\n",
       " '18896.png',\n",
       " '18909.png',\n",
       " '18914.png',\n",
       " '18921.png',\n",
       " '18923.png',\n",
       " '18926.png',\n",
       " '18936.png',\n",
       " '1897.png',\n",
       " '18970.png',\n",
       " '18989.png',\n",
       " '18991.png',\n",
       " '19004.png',\n",
       " '19006.png',\n",
       " '19008.png',\n",
       " '19009.png',\n",
       " '19012.png',\n",
       " '19027.png',\n",
       " '19038.png',\n",
       " '1904.png',\n",
       " '19049.png',\n",
       " '19060.png',\n",
       " '19061.png',\n",
       " '1907.png',\n",
       " '19072.png',\n",
       " '19074.png',\n",
       " '19080.png',\n",
       " '19082.png',\n",
       " '19104.png',\n",
       " '19117.png',\n",
       " '19119.png',\n",
       " '19127.png',\n",
       " '19133.png',\n",
       " '19156.png',\n",
       " '1916.png',\n",
       " '19166.png',\n",
       " '19171.png',\n",
       " '19179.png',\n",
       " '19180.png',\n",
       " '19189.png',\n",
       " '192.png',\n",
       " '19203.png',\n",
       " '19209.png',\n",
       " ...]"
      ]
     },
     "execution_count": 4,
     "metadata": {},
     "output_type": "execute_result"
    }
   ],
   "source": [
    "os.listdir(\"../../../FastCampusDataSet/3. dataset/mnist_png/training/0\")"
   ]
  },
  {
   "cell_type": "code",
   "execution_count": 5,
   "metadata": {},
   "outputs": [],
   "source": [
    "data_paths = glob(\"../../../FastCampusDataSet/3. dataset/mnist_png/training/*/*.png\")"
   ]
  },
  {
   "cell_type": "code",
   "execution_count": 6,
   "metadata": {},
   "outputs": [
    {
     "data": {
      "text/plain": [
       "60000"
      ]
     },
     "execution_count": 6,
     "metadata": {},
     "output_type": "execute_result"
    }
   ],
   "source": [
    "len(data_paths)"
   ]
  },
  {
   "cell_type": "code",
   "execution_count": 7,
   "metadata": {},
   "outputs": [
    {
     "data": {
      "text/plain": [
       "'../../../FastCampusDataSet/3. dataset/mnist_png/training\\\\0\\\\1.png'"
      ]
     },
     "execution_count": 7,
     "metadata": {},
     "output_type": "execute_result"
    }
   ],
   "source": [
    "data_paths[0]"
   ]
  },
  {
   "cell_type": "code",
   "execution_count": 8,
   "metadata": {},
   "outputs": [
    {
     "data": {
      "text/plain": [
       "'../../../FastCampusDataSet/3. dataset/mnist_png/training\\\\0\\\\1.png'"
      ]
     },
     "execution_count": 8,
     "metadata": {},
     "output_type": "execute_result"
    }
   ],
   "source": [
    "path = data_paths[0]\n",
    "path"
   ]
  },
  {
   "cell_type": "markdown",
   "metadata": {},
   "source": [
    "# 데이터 분석 (MNIST)"
   ]
  },
  {
   "cell_type": "code",
   "execution_count": 9,
   "metadata": {},
   "outputs": [
    {
     "data": {
      "text/plain": [
       "['0', '1', '2', '3', '4', '5', '6', '7', '8', '9']"
      ]
     },
     "execution_count": 9,
     "metadata": {},
     "output_type": "execute_result"
    }
   ],
   "source": [
    "os.listdir(\"../../../FastCampusDataSet/3. dataset/mnist_png/training\")"
   ]
  },
  {
   "cell_type": "code",
   "execution_count": 11,
   "metadata": {},
   "outputs": [
    {
     "data": {
      "text/plain": [
       "10"
      ]
     },
     "execution_count": 11,
     "metadata": {},
     "output_type": "execute_result"
    }
   ],
   "source": [
    "len(os.listdir(\"../../../FastCampusDataSet/3. dataset/mnist_png/training\"))"
   ]
  },
  {
   "cell_type": "code",
   "execution_count": 12,
   "metadata": {},
   "outputs": [
    {
     "data": {
      "text/plain": [
       "['0', '1', '2', '3', '4', '5', '6', '7', '8', '9']"
      ]
     },
     "execution_count": 12,
     "metadata": {},
     "output_type": "execute_result"
    }
   ],
   "source": [
    "label_nums = os.listdir(\"../../../FastCampusDataSet/3. dataset/mnist_png/training\")\n",
    "label_nums"
   ]
  },
  {
   "cell_type": "markdown",
   "metadata": {},
   "source": [
    "Label 0의 데이터 갯수 확인"
   ]
  },
  {
   "cell_type": "code",
   "execution_count": 14,
   "metadata": {},
   "outputs": [
    {
     "data": {
      "text/plain": [
       "10"
      ]
     },
     "execution_count": 14,
     "metadata": {},
     "output_type": "execute_result"
    }
   ],
   "source": [
    "len(label_nums)"
   ]
  },
  {
   "cell_type": "markdown",
   "metadata": {},
   "source": [
    "### 데이터 별 갯수 비교"
   ]
  },
  {
   "cell_type": "code",
   "execution_count": 17,
   "metadata": {},
   "outputs": [
    {
     "data": {
      "text/plain": [
       "'../../../FastCampusDataSet/3. dataset/mnist_png/training/0'"
      ]
     },
     "execution_count": 17,
     "metadata": {},
     "output_type": "execute_result"
    }
   ],
   "source": [
    "lbl_n = label_nums[0]\n",
    "\"../../../FastCampusDataSet/3. dataset/mnist_png/training/\" + lbl_n"
   ]
  },
  {
   "cell_type": "code",
   "execution_count": 19,
   "metadata": {},
   "outputs": [],
   "source": [
    "nums_dataset=[]\n",
    "\n",
    "for lbl_n in label_nums:\n",
    "    data_per_class = os.listdir(\"../../../FastCampusDataSet/3. dataset/mnist_png/training/\"+lbl_n)\n",
    "    nums_dataset.append(len(data_per_class))"
   ]
  },
  {
   "cell_type": "code",
   "execution_count": 20,
   "metadata": {},
   "outputs": [
    {
     "data": {
      "text/plain": [
       "['0', '1', '2', '3', '4', '5', '6', '7', '8', '9']"
      ]
     },
     "execution_count": 20,
     "metadata": {},
     "output_type": "execute_result"
    }
   ],
   "source": [
    "label_nums"
   ]
  },
  {
   "cell_type": "code",
   "execution_count": 21,
   "metadata": {},
   "outputs": [
    {
     "data": {
      "text/plain": [
       "[5923, 6742, 5958, 6131, 5842, 5421, 5918, 6265, 5851, 5949]"
      ]
     },
     "execution_count": 21,
     "metadata": {},
     "output_type": "execute_result"
    }
   ],
   "source": [
    "nums_dataset"
   ]
  },
  {
   "cell_type": "code",
   "execution_count": 22,
   "metadata": {},
   "outputs": [
    {
     "data": {
      "image/png": "[encoded data removed]",
      "text/plain": [
       "<Figure size 432x288 with 1 Axes>"
      ]
     },
     "metadata": {
      "needs_background": "light"
     },
     "output_type": "display_data"
    }
   ],
   "source": [
    "plt.bar(label_nums,nums_dataset)\n",
    "plt.title(\"Number of Dataset per class\")\n",
    "plt.show()"
   ]
  },
  {
   "cell_type": "markdown",
   "metadata": {},
   "source": [
    "# Pillow로 열기"
   ]
  },
  {
   "cell_type": "code",
   "execution_count": 23,
   "metadata": {},
   "outputs": [
    {
     "data": {
      "text/plain": [
       "'../../../FastCampusDataSet/3. dataset/mnist_png/training\\\\0\\\\1.png'"
      ]
     },
     "execution_count": 23,
     "metadata": {},
     "output_type": "execute_result"
    }
   ],
   "source": [
    "path"
   ]
  },
  {
   "cell_type": "code",
   "execution_count": 27,
   "metadata": {},
   "outputs": [],
   "source": [
    "image_pil = Image.open(path)\n",
    "image_pil\n",
    "image = np.array(image_pil)"
   ]
  },
  {
   "cell_type": "code",
   "execution_count": 28,
   "metadata": {},
   "outputs": [
    {
     "data": {
      "text/plain": [
       "(28, 28)"
      ]
     },
     "execution_count": 28,
     "metadata": {},
     "output_type": "execute_result"
    }
   ],
   "source": [
    "image.shape"
   ]
  },
  {
   "cell_type": "code",
   "execution_count": 29,
   "metadata": {},
   "outputs": [
    {
     "data": {
      "image/png": "[encoded data removed]",
      "text/plain": [
       "<Figure size 432x288 with 1 Axes>"
      ]
     },
     "metadata": {
      "needs_background": "light"
     },
     "output_type": "display_data"
    }
   ],
   "source": [
    "plt.imshow(image,'gray')\n",
    "plt.show()"
   ]
  },
  {
   "cell_type": "markdown",
   "metadata": {},
   "source": [
    "# TensorFlow로 열기"
   ]
  },
  {
   "cell_type": "code",
   "execution_count": 30,
   "metadata": {},
   "outputs": [],
   "source": [
    "gfile = tf.io.read_file(path)\n",
    "image = tf.io.decode_image(gfile)"
   ]
  },
  {
   "cell_type": "code",
   "execution_count": 31,
   "metadata": {},
   "outputs": [
    {
     "data": {
      "text/plain": [
       "TensorShape([28, 28, 1])"
      ]
     },
     "execution_count": 31,
     "metadata": {},
     "output_type": "execute_result"
    }
   ],
   "source": [
    "image.shape"
   ]
  },
  {
   "cell_type": "code",
   "execution_count": 32,
   "metadata": {
    "scrolled": true
   },
   "outputs": [
    {
     "data": {
      "text/plain": [
       "<matplotlib.image.AxesImage at 0x1fb29c07588>"
      ]
     },
     "execution_count": 32,
     "metadata": {},
     "output_type": "execute_result"
    },
    {
     "data": {
      "image/png": "[encoded data removed]",
      "text/plain": [
       "<Figure size 432x288 with 1 Axes>"
      ]
     },
     "metadata": {
      "needs_background": "light"
     },
     "output_type": "display_data"
    }
   ],
   "source": [
    "plt.imshow(image[:,:,0],'gray')"
   ]
  },
  {
   "cell_type": "markdown",
   "metadata": {},
   "source": [
    "# Label 얻기"
   ]
  },
  {
   "cell_type": "code",
   "execution_count": 36,
   "metadata": {},
   "outputs": [
    {
     "data": {
      "text/plain": [
       "'../../../FastCampusDataSet/3. dataset/mnist_png/training\\\\0\\\\1.png'"
      ]
     },
     "execution_count": 36,
     "metadata": {},
     "output_type": "execute_result"
    }
   ],
   "source": [
    "path"
   ]
  },
  {
   "cell_type": "code",
   "execution_count": 37,
   "metadata": {},
   "outputs": [],
   "source": [
    "label = path.split(\"\\\\\")[-2]"
   ]
  },
  {
   "cell_type": "code",
   "execution_count": 38,
   "metadata": {},
   "outputs": [
    {
     "data": {
      "text/plain": [
       "str"
      ]
     },
     "execution_count": 38,
     "metadata": {},
     "output_type": "execute_result"
    }
   ],
   "source": [
    "type(label)"
   ]
  },
  {
   "cell_type": "code",
   "execution_count": 39,
   "metadata": {},
   "outputs": [
    {
     "data": {
      "text/plain": [
       "0"
      ]
     },
     "execution_count": 39,
     "metadata": {},
     "output_type": "execute_result"
    }
   ],
   "source": [
    "int(label)"
   ]
  },
  {
   "cell_type": "code",
   "execution_count": 40,
   "metadata": {},
   "outputs": [],
   "source": [
    "def get_label(path):\n",
    "    class_name = path.split(\"\\\\\")[-2]\n",
    "    label = int(class_name)\n",
    "    return label"
   ]
  },
  {
   "cell_type": "code",
   "execution_count": 41,
   "metadata": {},
   "outputs": [
    {
     "data": {
      "text/plain": [
       "('../../../FastCampusDataSet/3. dataset/mnist_png/training\\\\0\\\\1.png', 0)"
      ]
     },
     "execution_count": 41,
     "metadata": {},
     "output_type": "execute_result"
    }
   ],
   "source": [
    "path, get_label(path)"
   ]
  },
  {
   "cell_type": "markdown",
   "metadata": {},
   "source": [
    "# 데이터 이미지 사이즈 알기"
   ]
  },
  {
   "cell_type": "code",
   "execution_count": null,
   "metadata": {},
   "outputs": [],
   "source": [
    "from tqdm import tqdm_notebook"
   ]
  },
  {
   "cell_type": "code",
   "execution_count": null,
   "metadata": {},
   "outputs": [],
   "source": []
  },
  {
   "cell_type": "code",
   "execution_count": null,
   "metadata": {},
   "outputs": [],
   "source": []
  }
 ],
 "metadata": {
  "kernelspec": {
   "display_name": "Python 3",
   "language": "python",
   "name": "python3"
  },
  "language_info": {
   "codemirror_mode": {
    "name": "ipython",
    "version": 3
   },
   "file_extension": ".py",
   "mimetype": "text/x-python",
   "name": "python",
   "nbconvert_exporter": "python",
   "pygments_lexer": "ipython3",
   "version": "3.7.3"
  }
 },
 "nbformat": 4,
 "nbformat_minor": 2
}
