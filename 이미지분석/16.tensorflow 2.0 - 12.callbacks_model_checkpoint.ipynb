{
 "cells": [
  {
   "cell_type": "markdown",
   "metadata": {},
   "source": [
    "# TensorFlow 2.0"
   ]
  },
  {
   "cell_type": "code",
   "execution_count": 1,
   "metadata": {},
   "outputs": [],
   "source": [
    "import os\n",
    "from glob import glob\n",
    "from datetime import datetime\n",
    "\n",
    "import numpy as np\n",
    "\n",
    "import tensorflow as tf\n",
    "from tensorflow.keras import layers\n",
    "\n",
    "from tensorflow.keras import datasets \n",
    "\n",
    "import matplotlib.pyplot as plt\n",
    "\n",
    "%matplotlib inline"
   ]
  },
  {
   "cell_type": "markdown",
   "metadata": {},
   "source": [
    "## Hyperparameter Tunning"
   ]
  },
  {
   "cell_type": "code",
   "execution_count": 2,
   "metadata": {},
   "outputs": [],
   "source": [
    "num_epochs = 20\n",
    "batch_size = 32\n",
    "\n",
    "learning_rate = 0.001\n",
    "\n",
    "dropout_rate = 0.5\n",
    "\n",
    "input_shape = (32, 32, 3)\n",
    "num_classes = 10"
   ]
  },
  {
   "cell_type": "markdown",
   "metadata": {},
   "source": [
    "## Build Model"
   ]
  },
  {
   "cell_type": "code",
   "execution_count": 3,
   "metadata": {},
   "outputs": [],
   "source": [
    "inputs = layers.Input(input_shape)\n",
    "\n",
    "net = layers.Conv2D(32, (3, 3), padding='SAME')(inputs)\n",
    "net = layers.Activation('relu')(net)\n",
    "net = layers.Conv2D(32, (3, 3), padding='SAME')(net)\n",
    "net = layers.Activation('relu')(net)\n",
    "net = layers.MaxPooling2D(pool_size=(2, 2))(net)\n",
    "net = layers.Dropout(dropout_rate)(net)\n",
    "\n",
    "net = layers.Conv2D(64, (3, 3), padding='SAME')(net)\n",
    "net = layers.Activation('relu')(net)\n",
    "net = layers.Conv2D(64, (3, 3), padding='SAME')(net)\n",
    "net = layers.Activation('relu')(net)\n",
    "net = layers.MaxPooling2D(pool_size=(2, 2))(net)\n",
    "net = layers.Dropout(dropout_rate)(net)\n",
    "\n",
    "net = layers.Flatten()(net)\n",
    "net = layers.Dense(512)(net)\n",
    "net = layers.Activation('relu')(net)\n",
    "net = layers.Dropout(dropout_rate)(net)\n",
    "net = layers.Dense(num_classes)(net)\n",
    "net = layers.Activation('softmax')(net)\n",
    "\n",
    "model = tf.keras.Model(inputs=inputs, outputs=net, name='Basic_CNN')"
   ]
  },
  {
   "cell_type": "code",
   "execution_count": 4,
   "metadata": {},
   "outputs": [],
   "source": [
    "# Model is the full model w/o custom layers\n",
    "model.compile(optimizer=tf.keras.optimizers.Adam(learning_rate),  # Optimization\n",
    "              loss='sparse_categorical_crossentropy',  # Loss Function \n",
    "              metrics=['accuracy'])  # Metrics / Accuracy"
   ]
  },
  {
   "cell_type": "markdown",
   "metadata": {},
   "source": [
    "# Data Preprocess"
   ]
  },
  {
   "cell_type": "code",
   "execution_count": 5,
   "metadata": {},
   "outputs": [],
   "source": [
    "train_paths = glob('dataset/cifar/train/*.png')[:1000]\n",
    "test_paths = glob('dataset/cifar/test/*.png')[:1000]"
   ]
  },
  {
   "cell_type": "code",
   "execution_count": 6,
   "metadata": {},
   "outputs": [
    {
     "output_type": "execute_result",
     "data": {
      "text/plain": [
       "1000"
      ]
     },
     "metadata": {},
     "execution_count": 6
    }
   ],
   "source": [
    "len(train_paths)"
   ]
  },
  {
   "cell_type": "code",
   "execution_count": 7,
   "metadata": {},
   "outputs": [],
   "source": [
    "def get_class_name(path):\n",
    "    return path.split('_')[-1].replace('.png', '')"
   ]
  },
  {
   "cell_type": "code",
   "execution_count": 8,
   "metadata": {},
   "outputs": [],
   "source": [
    "train_labels = [get_class_name(path) for path in train_paths]\n",
    "class_names = np.unique(train_labels)"
   ]
  },
  {
   "cell_type": "code",
   "execution_count": 9,
   "metadata": {},
   "outputs": [],
   "source": [
    "def get_label(path):\n",
    "    fname = tf.strings.split(path, '_')[-1]\n",
    "    lbl_name = tf.strings.regex_replace(fname, '.png', '')\n",
    "    onehot = tf.cast(lbl_name == class_names, tf.uint8)\n",
    "    return tf.argmax(onehot)  # 이번에는 onehot이 아닌 label 번호로"
   ]
  },
  {
   "cell_type": "code",
   "execution_count": 10,
   "metadata": {},
   "outputs": [],
   "source": [
    "def load_image_label(path):\n",
    "    gfile = tf.io.read_file(path)\n",
    "    image = tf.io.decode_image(gfile)\n",
    "    image = tf.cast(image, tf.float32) / 255.  # rescale\n",
    "    \n",
    "    label = get_label(path)\n",
    "    return image, label"
   ]
  },
  {
   "cell_type": "code",
   "execution_count": 11,
   "metadata": {},
   "outputs": [],
   "source": [
    "def image_preprocess(image, label):\n",
    "    image = tf.image.random_flip_up_down(image)\n",
    "    image = tf.image.random_flip_left_right(image)\n",
    "    return image, label"
   ]
  },
  {
   "cell_type": "code",
   "execution_count": 12,
   "metadata": {},
   "outputs": [],
   "source": [
    "AUTOTUNE = tf.data.experimental.AUTOTUNE"
   ]
  },
  {
   "cell_type": "code",
   "execution_count": 13,
   "metadata": {
    "scrolled": false
   },
   "outputs": [],
   "source": [
    "train_dataset = tf.data.Dataset.from_tensor_slices(train_paths)\n",
    "train_dataset = train_dataset.map(load_image_label, num_parallel_calls=AUTOTUNE)\n",
    "train_dataset = train_dataset.map(image_preprocess, num_parallel_calls=AUTOTUNE)\n",
    "train_dataset = train_dataset.batch(batch_size)\n",
    "train_dataset = train_dataset.shuffle(buffer_size=len(train_paths))\n",
    "train_dataset = train_dataset.repeat()"
   ]
  },
  {
   "cell_type": "code",
   "execution_count": 14,
   "metadata": {},
   "outputs": [],
   "source": [
    "test_dataset = tf.data.Dataset.from_tensor_slices(test_paths)\n",
    "test_dataset = test_dataset.map(load_image_label, num_parallel_calls=AUTOTUNE)\n",
    "test_dataset = test_dataset.batch(batch_size)\n",
    "test_dataset = test_dataset.repeat()"
   ]
  },
  {
   "cell_type": "markdown",
   "metadata": {},
   "source": [
    "# Checkpoint"
   ]
  },
  {
   "cell_type": "code",
   "execution_count": 15,
   "metadata": {},
   "outputs": [],
   "source": [
    "save_path = \"checkpoints\""
   ]
  },
  {
   "cell_type": "code",
   "execution_count": 20,
   "metadata": {},
   "outputs": [],
   "source": [
    "checkpoint_callback = tf.keras.callbacks.ModelCheckpoint(save_path, monitor=\"val_accuarcy\",verbose=1,save_best_only=True)"
   ]
  },
  {
   "cell_type": "code",
   "execution_count": null,
   "metadata": {},
   "outputs": [],
   "source": []
  },
  {
   "cell_type": "code",
   "execution_count": null,
   "metadata": {},
   "outputs": [],
   "source": []
  },
  {
   "cell_type": "markdown",
   "metadata": {},
   "source": [
    "## Training"
   ]
  },
  {
   "cell_type": "code",
   "execution_count": 21,
   "metadata": {},
   "outputs": [
    {
     "output_type": "stream",
     "name": "stdout",
     "text": [
      "Epoch 1/20\n",
      "28/31 [==========================>...] - ETA: 0s - loss: 1.2261 - accuracy: 0.5459WARNING:tensorflow:Can save best model only with val_accuarcy available, skipping.\n",
      "31/31 [==============================] - 0s 13ms/step - loss: 1.2328 - accuracy: 0.5362 - val_loss: 1.6762 - val_accuracy: 0.4254\n",
      "Epoch 2/20\n",
      "27/31 [=========================>....] - ETA: 0s - loss: 1.1827 - accuracy: 0.5607WARNING:tensorflow:Can save best model only with val_accuarcy available, skipping.\n",
      "31/31 [==============================] - 0s 13ms/step - loss: 1.1704 - accuracy: 0.5589 - val_loss: 1.6150 - val_accuracy: 0.4415\n",
      "Epoch 3/20\n",
      "27/31 [=========================>....] - ETA: 0s - loss: 1.1206 - accuracy: 0.5964WARNING:tensorflow:Can save best model only with val_accuarcy available, skipping.\n",
      "31/31 [==============================] - 0s 13ms/step - loss: 1.1277 - accuracy: 0.5950 - val_loss: 1.7094 - val_accuracy: 0.4345\n",
      "Epoch 4/20\n",
      "26/31 [========================>.....] - ETA: 0s - loss: 1.1981 - accuracy: 0.5668WARNING:tensorflow:Can save best model only with val_accuarcy available, skipping.\n",
      "31/31 [==============================] - 0s 13ms/step - loss: 1.1857 - accuracy: 0.5775 - val_loss: 1.5853 - val_accuracy: 0.4506\n",
      "Epoch 5/20\n",
      "26/31 [========================>.....] - ETA: 0s - loss: 1.1199 - accuracy: 0.6022WARNING:tensorflow:Can save best model only with val_accuarcy available, skipping.\n",
      "31/31 [==============================] - 0s 13ms/step - loss: 1.1454 - accuracy: 0.5857 - val_loss: 1.7203 - val_accuracy: 0.4395\n",
      "Epoch 6/20\n",
      "28/31 [==========================>...] - ETA: 0s - loss: 1.0873 - accuracy: 0.6044WARNING:tensorflow:Can save best model only with val_accuarcy available, skipping.\n",
      "31/31 [==============================] - 0s 13ms/step - loss: 1.0868 - accuracy: 0.6017 - val_loss: 1.6631 - val_accuracy: 0.4254\n",
      "Epoch 7/20\n",
      "27/31 [=========================>....] - ETA: 0s - loss: 1.1577 - accuracy: 0.5750WARNING:tensorflow:Can save best model only with val_accuarcy available, skipping.\n",
      "31/31 [==============================] - 0s 13ms/step - loss: 1.1419 - accuracy: 0.5826 - val_loss: 1.7862 - val_accuracy: 0.4214\n",
      "Epoch 8/20\n",
      "28/31 [==========================>...] - ETA: 0s - loss: 1.0956 - accuracy: 0.5926WARNING:tensorflow:Can save best model only with val_accuarcy available, skipping.\n",
      "31/31 [==============================] - 0s 13ms/step - loss: 1.1101 - accuracy: 0.5927 - val_loss: 1.6705 - val_accuracy: 0.4395\n",
      "Epoch 9/20\n",
      "28/31 [==========================>...] - ETA: 0s - loss: 1.0329 - accuracy: 0.6415WARNING:tensorflow:Can save best model only with val_accuarcy available, skipping.\n",
      "31/31 [==============================] - 0s 13ms/step - loss: 1.0352 - accuracy: 0.6356 - val_loss: 1.7094 - val_accuracy: 0.4415\n",
      "Epoch 10/20\n",
      "27/31 [=========================>....] - ETA: 0s - loss: 1.0457 - accuracy: 0.6202WARNING:tensorflow:Can save best model only with val_accuarcy available, skipping.\n",
      "31/31 [==============================] - 0s 13ms/step - loss: 1.0423 - accuracy: 0.6188 - val_loss: 1.6541 - val_accuracy: 0.4425\n",
      "Epoch 11/20\n",
      "29/31 [===========================>..] - ETA: 0s - loss: 1.0354 - accuracy: 0.6164WARNING:tensorflow:Can save best model only with val_accuarcy available, skipping.\n",
      "31/31 [==============================] - 0s 13ms/step - loss: 1.0305 - accuracy: 0.6149 - val_loss: 1.7101 - val_accuracy: 0.4667\n",
      "Epoch 12/20\n",
      "28/31 [==========================>...] - ETA: 0s - loss: 1.0212 - accuracy: 0.6330WARNING:tensorflow:Can save best model only with val_accuarcy available, skipping.\n",
      "31/31 [==============================] - 0s 13ms/step - loss: 1.0176 - accuracy: 0.6374 - val_loss: 1.7432 - val_accuracy: 0.4294\n",
      "Epoch 13/20\n",
      "24/31 [======================>.......] - ETA: 0s - loss: 0.9529 - accuracy: 0.6586WARNING:tensorflow:Can save best model only with val_accuarcy available, skipping.\n",
      "31/31 [==============================] - 0s 14ms/step - loss: 0.9553 - accuracy: 0.6504 - val_loss: 1.8632 - val_accuracy: 0.4355\n",
      "Epoch 14/20\n",
      "27/31 [=========================>....] - ETA: 0s - loss: 1.0000 - accuracy: 0.6274WARNING:tensorflow:Can save best model only with val_accuarcy available, skipping.\n",
      "31/31 [==============================] - 0s 13ms/step - loss: 0.9939 - accuracy: 0.6353 - val_loss: 1.6751 - val_accuracy: 0.4526\n",
      "Epoch 15/20\n",
      "27/31 [=========================>....] - ETA: 0s - loss: 0.9549 - accuracy: 0.6607WARNING:tensorflow:Can save best model only with val_accuarcy available, skipping.\n",
      "31/31 [==============================] - 0s 13ms/step - loss: 0.9535 - accuracy: 0.6601 - val_loss: 1.7016 - val_accuracy: 0.4647\n",
      "Epoch 16/20\n",
      "27/31 [=========================>....] - ETA: 0s - loss: 0.8962 - accuracy: 0.6940WARNING:tensorflow:Can save best model only with val_accuarcy available, skipping.\n",
      "31/31 [==============================] - 0s 13ms/step - loss: 0.9064 - accuracy: 0.6870 - val_loss: 1.8561 - val_accuracy: 0.4446\n",
      "Epoch 17/20\n",
      "27/31 [=========================>....] - ETA: 0s - loss: 0.9430 - accuracy: 0.6447WARNING:tensorflow:Can save best model only with val_accuarcy available, skipping.\n",
      "31/31 [==============================] - 0s 13ms/step - loss: 0.9412 - accuracy: 0.6462 - val_loss: 1.6960 - val_accuracy: 0.4577\n",
      "Epoch 18/20\n",
      "28/31 [==========================>...] - ETA: 0s - loss: 0.9121 - accuracy: 0.6778WARNING:tensorflow:Can save best model only with val_accuarcy available, skipping.\n",
      "31/31 [==============================] - 0s 13ms/step - loss: 0.9126 - accuracy: 0.6777 - val_loss: 1.7819 - val_accuracy: 0.4486\n",
      "Epoch 19/20\n",
      "28/31 [==========================>...] - ETA: 0s - loss: 0.9335 - accuracy: 0.6732WARNING:tensorflow:Can save best model only with val_accuarcy available, skipping.\n",
      "31/31 [==============================] - 0s 13ms/step - loss: 0.9128 - accuracy: 0.6833 - val_loss: 1.7247 - val_accuracy: 0.4385\n",
      "Epoch 20/20\n",
      "27/31 [=========================>....] - ETA: 0s - loss: 0.9143 - accuracy: 0.6644WARNING:tensorflow:Can save best model only with val_accuarcy available, skipping.\n",
      "31/31 [==============================] - 0s 13ms/step - loss: 0.9079 - accuracy: 0.6623 - val_loss: 1.7432 - val_accuracy: 0.4688\n"
     ]
    },
    {
     "output_type": "execute_result",
     "data": {
      "text/plain": [
       "<tensorflow.python.keras.callbacks.History at 0x21d04e499e8>"
      ]
     },
     "metadata": {},
     "execution_count": 21
    }
   ],
   "source": [
    "steps_per_epoch = len(train_paths) // batch_size\n",
    "validation_steps = len(test_paths) // batch_size\n",
    "\n",
    "model.fit_generator(\n",
    "    train_dataset,\n",
    "    steps_per_epoch=steps_per_epoch,\n",
    "    validation_data=test_dataset,\n",
    "    validation_steps=validation_steps,\n",
    "    epochs=num_epochs,\n",
    "    callbacks=checkpoint_callback\n",
    ")"
   ]
  },
  {
   "cell_type": "markdown",
   "metadata": {},
   "source": [
    "https://www.tensorflow.org/tensorboard/r2/image_summaries#setup"
   ]
  }
 ],
 "metadata": {
  "kernelspec": {
   "display_name": "Python 3",
   "language": "python",
   "name": "python3"
  },
  "language_info": {
   "codemirror_mode": {
    "name": "ipython",
    "version": 3
   },
   "file_extension": ".py",
   "mimetype": "text/x-python",
   "name": "python",
   "nbconvert_exporter": "python",
   "pygments_lexer": "ipython3",
   "version": "3.7.3-final"
  }
 },
 "nbformat": 4,
 "nbformat_minor": 2
}