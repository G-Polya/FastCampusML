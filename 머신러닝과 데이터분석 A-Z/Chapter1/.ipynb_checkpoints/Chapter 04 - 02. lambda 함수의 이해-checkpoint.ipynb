{
 "cells": [
  {
   "cell_type": "markdown",
   "metadata": {},
   "source": [
    "\n",
    "\n",
    "### 학습목표\n",
    " 2. Lambda 함수 이해 및 사용"
   ]
  },
  {
   "cell_type": "markdown",
   "metadata": {},
   "source": [
    "* **Lambda 함수**\n",
    " + 단일문으로 표현되는 익명함수\n",
    " + 익명함수란 이름이 없는 구현체만 존재하는 간단한 함수를 의미\n",
    " + 코드 상에서 한번만 사용되는 기능이 있을 때, 굳이 함수로 만들지 않고 1회성으로 만들어서 쓸 때 사용."
   ]
  },
  {
   "cell_type": "code",
   "execution_count": 3,
   "metadata": {},
   "outputs": [
    {
     "data": {
      "text/plain": [
       "25"
      ]
     },
     "execution_count": 3,
     "metadata": {},
     "output_type": "execute_result"
    }
   ],
   "source": [
    "square = lambda x: x ** 2\n",
    "square(5)"
   ]
  },
  {
   "cell_type": "code",
   "execution_count": 7,
   "metadata": {},
   "outputs": [
    {
     "data": {
      "text/plain": [
       "30"
      ]
     },
     "execution_count": 7,
     "metadata": {},
     "output_type": "execute_result"
    }
   ],
   "source": [
    "def add(x , y):\n",
    "    return x + y\n",
    "\n",
    "add2 = lambda x, y : x + y\n",
    "add2(10, 20)"
   ]
  },
  {
   "cell_type": "code",
   "execution_count": 11,
   "metadata": {},
   "outputs": [
    {
     "data": {
      "text/plain": [
       "4"
      ]
     },
     "execution_count": 11,
     "metadata": {},
     "output_type": "execute_result"
    }
   ],
   "source": [
    "def str_len(s):\n",
    "    return len(s)\n",
    "\n",
    "str_len('test')"
   ]
  },
  {
   "cell_type": "code",
   "execution_count": 1,
   "metadata": {},
   "outputs": [
    {
     "name": "stdout",
     "output_type": "stream",
     "text": [
      "['bob', 'teddy', 'charles', 'alexander']\n"
     ]
    }
   ],
   "source": [
    "strings = ['bob', 'charles', 'alexander', 'teddy']\n",
    "# strings.sort(key=str_len)\n",
    "strings.sort(key = lambda s: len(s))\n",
    "\n",
    "print(strings)"
   ]
  },
  {
   "cell_type": "markdown",
   "metadata": {},
   "source": [
    "#### **filter, map, reduce**\n",
    " + lambda가 유용하게 사용되는 3가지 대표적 함수\n",
    " + 함수형 프로그래밍의 기본 요소이기도 함\n",
    " + filter : 특정 조건을 만족하는 요소만 남기고 필터링\n",
    " + map    : 각 원소를 주어진 수식에 따라 변형하여 새로운 리스트를 반환\n",
    " + reduce : 차례대로 앞 2개의 원소를 가지고 연산. 연산의 결과가 또 다음 연산의 입력으로 진행됨. 따라서 마지막까지 진행되면 최종 출력은 한개의 값만 남게 됨"
   ]
  },
  {
   "cell_type": "code",
   "execution_count": 8,
   "metadata": {},
   "outputs": [
    {
     "name": "stdout",
     "output_type": "stream",
     "text": [
      "[2, 6, 8, 10]\n"
     ]
    }
   ],
   "source": [
    "# filter\n",
    "# def even(n):\n",
    "#     return n % 2 == 0\n",
    "\n",
    "\n",
    "nums = [1,2,3,6,8,9,10,11,13,15]\n",
    "even = list(filter(lambda x : x % 2 == 0,nums))\n",
    "print(even)"
   ]
  },
  {
   "cell_type": "code",
   "execution_count": 9,
   "metadata": {},
   "outputs": [
    {
     "data": {
      "text/plain": [
       "[1, 4, 9, 36, 64, 81, 100, 121, 169, 225]"
      ]
     },
     "execution_count": 9,
     "metadata": {},
     "output_type": "execute_result"
    }
   ],
   "source": [
    "# map\n",
    "# 주어진 리스트, 리스트의 원소들을 제곱한 숫자로 이루어진 새로운 리스트만들기\n",
    "nums = [1,2,3,6,8,9,10,11,13,15]\n",
    "\n",
    "list(map(lambda n : n ** 2, nums))"
   ]
  },
  {
   "cell_type": "code",
   "execution_count": 10,
   "metadata": {},
   "outputs": [
    {
     "data": {
      "text/plain": [
       "[False, True, False, True, True, False, True, False, False, False]"
      ]
     },
     "execution_count": 10,
     "metadata": {},
     "output_type": "execute_result"
    }
   ],
   "source": [
    "list(map(lambda x : x % 2 ==0, nums))"
   ]
  },
  {
   "cell_type": "code",
   "execution_count": 12,
   "metadata": {},
   "outputs": [
    {
     "data": {
      "text/plain": [
       "120"
      ]
     },
     "execution_count": 12,
     "metadata": {},
     "output_type": "execute_result"
    }
   ],
   "source": [
    "# reduce\n",
    "import functools \n",
    "\n",
    "a = [1,3,5,8]\n",
    "\n",
    "functools.reduce(lambda x, y: x+y, a)"
   ]
  },
  {
   "cell_type": "markdown",
   "metadata": {},
   "source": [
    "\n",
    "#### 함수 연습문제\n",
    " 1. 주어진 숫자 리스트의 평균을 구하는 함수를 출력하시오\n",
    " 1. 해당 숫자가 소수인지 아닌지 판별하시오.\n",
    " 2. 2부터 해당 숫자사이에 소수가 몇개인지 출력하는 함수를 구하시오 "
   ]
  },
  {
   "cell_type": "code",
   "execution_count": 23,
   "metadata": {},
   "outputs": [
    {
     "name": "stdout",
     "output_type": "stream",
     "text": [
      "2.0\n",
      "3.0\n"
     ]
    }
   ],
   "source": [
    "# 입력: 숫자 리스트\n",
    "# 출력: 숫자리스트의 평균값\n",
    "\n",
    "def mean(nums):\n",
    "#     _sum = 0\n",
    "#     for i in nums:\n",
    "#         _sum += i\n",
    "    return sum(nums) / len(nums)\n",
    "\n",
    "print(mean([1,2,3]))\n",
    "print(mean([1,2,3,4,5]))\n",
    "\n"
   ]
  },
  {
   "cell_type": "code",
   "execution_count": 51,
   "metadata": {},
   "outputs": [
    {
     "name": "stdout",
     "output_type": "stream",
     "text": [
      "False\n",
      "True\n",
      "True\n",
      "True\n"
     ]
    }
   ],
   "source": [
    "# 소수 판별\n",
    "# 입력 : 양의 정수\n",
    "# 출력 : boolean\n",
    "def is_prime(num):\n",
    "\n",
    "    for i in range(2, num):\n",
    "        if num % i == 0:\n",
    "            return False\n",
    "  \n",
    "    return True\n",
    "\n",
    "\n",
    "print(is_prime(100))\n",
    "print(is_prime(89))\n",
    "print(is_prime(17))    \n",
    "print(is_prime(2))"
   ]
  },
  {
   "cell_type": "code",
   "execution_count": 59,
   "metadata": {},
   "outputs": [
    {
     "name": "stdout",
     "output_type": "stream",
     "text": [
      "4\n"
     ]
    }
   ],
   "source": [
    "def num_prime(num):\n",
    "    count = 0\n",
    "#     if num == 2:\n",
    "#         prime_nubmber += 1\n",
    "    for i in range(2, num + 1):\n",
    "        if is_prime(i):\n",
    "            count += 1\n",
    "    \n",
    "    return count\n",
    "            \n",
    "print(num_prime(7))\n",
    "\n"
   ]
  },
  {
   "cell_type": "code",
   "execution_count": null,
   "metadata": {},
   "outputs": [],
   "source": []
  }
 ],
 "metadata": {
  "kernelspec": {
   "display_name": "Python 3",
   "language": "python",
   "name": "python3"
  },
  "language_info": {
   "codemirror_mode": {
    "name": "ipython",
    "version": 3
   },
   "file_extension": ".py",
   "mimetype": "text/x-python",
   "name": "python",
   "nbconvert_exporter": "python",
   "pygments_lexer": "ipython3",
   "version": "3.7.3"
  }
 },
 "nbformat": 4,
 "nbformat_minor": 1
}
