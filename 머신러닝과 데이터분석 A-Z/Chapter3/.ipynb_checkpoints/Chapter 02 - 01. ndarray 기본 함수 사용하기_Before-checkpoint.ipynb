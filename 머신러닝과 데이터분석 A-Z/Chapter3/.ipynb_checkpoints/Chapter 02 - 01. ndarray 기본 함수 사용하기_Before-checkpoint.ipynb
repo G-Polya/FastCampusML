{
 "cells": [
  {
   "cell_type": "markdown",
   "metadata": {},
   "source": [
    "## 학습목표\n",
    " 1. numpy에서 자주 사용되는 함수들을 사용해보기"
   ]
  },
  {
   "cell_type": "code",
   "execution_count": 8,
   "metadata": {},
   "outputs": [],
   "source": [
    "import numpy as np"
   ]
  },
  {
   "cell_type": "code",
   "execution_count": 10,
   "metadata": {},
   "outputs": [
    {
     "name": "stdout",
     "output_type": "stream",
     "text": [
      "[[ 0  1  2  3  4]\n",
      " [ 5  6  7  8  9]\n",
      " [10 11 12 13 14]]\n",
      "[[0.06220946 0.28808427 0.84748296 0.08705655 0.8067618 ]\n",
      " [0.99498925 0.31850192 0.03664344 0.90700037 0.53666728]\n",
      " [0.3883057  0.07361183 0.40231785 0.12641948 0.32194279]]\n"
     ]
    }
   ],
   "source": [
    "x = np.arange(15).reshape(3, 5)\n",
    "y = np.random.rand(15).reshape(3, 5)\n",
    "print(x)\n",
    "print(y)"
   ]
  },
  {
   "cell_type": "markdown",
   "metadata": {},
   "source": [
    "#### numpy documentation\n",
    " - [numpy 공식 문서 링크](https://www.numpy.org/devdocs/reference/)\n",
    " - numpy에서 제공되는 함수등에 대한 문서"
   ]
  },
  {
   "cell_type": "markdown",
   "metadata": {},
   "source": [
    "#### 연산 함수 # 두 array간의 shape이 같아야한다\n",
    " - add, substract, multiply, divide"
   ]
  },
  {
   "cell_type": "code",
   "execution_count": 19,
   "metadata": {},
   "outputs": [
    {
     "data": {
      "text/plain": [
       "array([[ 0.06220946,  1.28808427,  2.84748296,  3.08705655,  4.8067618 ],\n",
       "       [ 5.99498925,  6.31850192,  7.03664344,  8.90700037,  9.53666728],\n",
       "       [10.3883057 , 11.07361183, 12.40231785, 13.12641948, 14.32194279]])"
      ]
     },
     "execution_count": 19,
     "metadata": {},
     "output_type": "execute_result"
    }
   ],
   "source": [
    "np.add(x, y)"
   ]
  },
  {
   "cell_type": "code",
   "execution_count": 14,
   "metadata": {},
   "outputs": [
    {
     "data": {
      "text/plain": [
       "array([[ 0.06220946,  1.28808427,  2.84748296,  3.08705655,  4.8067618 ],\n",
       "       [ 5.99498925,  6.31850192,  7.03664344,  8.90700037,  9.53666728],\n",
       "       [10.3883057 , 11.07361183, 12.40231785, 13.12641948, 14.32194279]])"
      ]
     },
     "execution_count": 14,
     "metadata": {},
     "output_type": "execute_result"
    }
   ],
   "source": [
    "x + y"
   ]
  },
  {
   "cell_type": "code",
   "execution_count": 15,
   "metadata": {},
   "outputs": [
    {
     "data": {
      "text/plain": [
       "array([[-0.06220946,  0.71191573,  1.15251704,  2.91294345,  3.1932382 ],\n",
       "       [ 4.00501075,  5.68149808,  6.96335656,  7.09299963,  8.46333272],\n",
       "       [ 9.6116943 , 10.92638817, 11.59768215, 12.87358052, 13.67805721]])"
      ]
     },
     "execution_count": 15,
     "metadata": {},
     "output_type": "execute_result"
    }
   ],
   "source": [
    "x - y"
   ]
  },
  {
   "cell_type": "code",
   "execution_count": 17,
   "metadata": {},
   "outputs": [
    {
     "data": {
      "text/plain": [
       "array([[0.        , 0.28808427, 1.69496592, 0.26116964, 3.22704718],\n",
       "       [4.97494623, 1.91101154, 0.25650411, 7.25600294, 4.83000555],\n",
       "       [3.88305702, 0.80973018, 4.82781416, 1.64345323, 4.50719909]])"
      ]
     },
     "execution_count": 17,
     "metadata": {},
     "output_type": "execute_result"
    }
   ],
   "source": [
    "x * y"
   ]
  },
  {
   "cell_type": "code",
   "execution_count": 18,
   "metadata": {},
   "outputs": [
    {
     "data": {
      "text/plain": [
       "array([[  0.        ,   3.47120648,   2.35992946,  34.46036044,\n",
       "          4.95809299],\n",
       "       [  5.02517994,  18.83819078, 191.03008076,   8.82028308,\n",
       "         16.77016708],\n",
       "       [ 25.75290539, 149.43249432,  29.82716303, 102.83225406,\n",
       "         43.48598676]])"
      ]
     },
     "execution_count": 18,
     "metadata": {},
     "output_type": "execute_result"
    }
   ],
   "source": [
    "x / y"
   ]
  },
  {
   "cell_type": "markdown",
   "metadata": {},
   "source": [
    "#### 통계 함수\n",
    " - 평균, 분산, 중앙, 최대, 최소값 등등 통계 관련된 함수가 내장"
   ]
  },
  {
   "cell_type": "code",
   "execution_count": 20,
   "metadata": {},
   "outputs": [
    {
     "name": "stdout",
     "output_type": "stream",
     "text": [
      "[[0.06220946 0.28808427 0.84748296 0.08705655 0.8067618 ]\n",
      " [0.99498925 0.31850192 0.03664344 0.90700037 0.53666728]\n",
      " [0.3883057  0.07361183 0.40231785 0.12641948 0.32194279]]\n"
     ]
    }
   ],
   "source": [
    "print(y)"
   ]
  },
  {
   "cell_type": "code",
   "execution_count": 21,
   "metadata": {},
   "outputs": [
    {
     "data": {
      "text/plain": [
       "0.4131996637649758"
      ]
     },
     "execution_count": 21,
     "metadata": {},
     "output_type": "execute_result"
    }
   ],
   "source": [
    "np.mean(y)"
   ]
  },
  {
   "cell_type": "code",
   "execution_count": 22,
   "metadata": {},
   "outputs": [
    {
     "data": {
      "text/plain": [
       "0.4131996637649758"
      ]
     },
     "execution_count": 22,
     "metadata": {},
     "output_type": "execute_result"
    }
   ],
   "source": [
    "y.mean()"
   ]
  },
  {
   "cell_type": "code",
   "execution_count": 23,
   "metadata": {},
   "outputs": [
    {
     "data": {
      "text/plain": [
       "0.9949892458532515"
      ]
     },
     "execution_count": 23,
     "metadata": {},
     "output_type": "execute_result"
    }
   ],
   "source": [
    "np.max(y)"
   ]
  },
  {
   "cell_type": "code",
   "execution_count": 25,
   "metadata": {},
   "outputs": [
    {
     "data": {
      "text/plain": [
       "5"
      ]
     },
     "execution_count": 25,
     "metadata": {},
     "output_type": "execute_result"
    }
   ],
   "source": [
    "np.argmax(y) # flatten한 상태로 가정하고 인덱스를 가져옴"
   ]
  },
  {
   "cell_type": "code",
   "execution_count": 26,
   "metadata": {},
   "outputs": [
    {
     "data": {
      "text/plain": [
       "(0.10291092736076593, 0.3219427922031335, 0.3207973306634049)"
      ]
     },
     "execution_count": 26,
     "metadata": {},
     "output_type": "execute_result"
    }
   ],
   "source": [
    "np.var(y), np.median(y), np.std(y)"
   ]
  },
  {
   "cell_type": "markdown",
   "metadata": {},
   "source": [
    "#### 집계함수\n",
    " - 합계(sum), 누적합계(cumsum) 등등 계산 가능"
   ]
  },
  {
   "cell_type": "code",
   "execution_count": 27,
   "metadata": {},
   "outputs": [
    {
     "data": {
      "text/plain": [
       "array([[0.06220946, 0.28808427, 0.84748296, 0.08705655, 0.8067618 ],\n",
       "       [0.99498925, 0.31850192, 0.03664344, 0.90700037, 0.53666728],\n",
       "       [0.3883057 , 0.07361183, 0.40231785, 0.12641948, 0.32194279]])"
      ]
     },
     "execution_count": 27,
     "metadata": {},
     "output_type": "execute_result"
    }
   ],
   "source": [
    "y"
   ]
  },
  {
   "cell_type": "code",
   "execution_count": 30,
   "metadata": {},
   "outputs": [
    {
     "data": {
      "text/plain": [
       "6.197994956474637"
      ]
     },
     "execution_count": 30,
     "metadata": {},
     "output_type": "execute_result"
    }
   ],
   "source": [
    "np.sum(y)"
   ]
  },
  {
   "cell_type": "code",
   "execution_count": 31,
   "metadata": {},
   "outputs": [
    {
     "data": {
      "text/plain": [
       "array([0.06220946, 0.35029374, 1.1977767 , 1.28483324, 2.09159504,\n",
       "       3.08658428, 3.40508621, 3.44172965, 4.34873002, 4.8853973 ,\n",
       "       5.273703  , 5.34731484, 5.74963269, 5.87605216, 6.19799496])"
      ]
     },
     "execution_count": 31,
     "metadata": {},
     "output_type": "execute_result"
    }
   ],
   "source": [
    "np.cumsum(y)"
   ]
  },
  {
   "cell_type": "markdown",
   "metadata": {},
   "source": [
    "#### any, all 함수\n",
    " - any: 특정 조건을 만족하는 것이 하나라도 있으면 True, 아니면 False\n",
    " - all: 모든 원소가 특정 조건을 만족한다면 True, 아니면 False"
   ]
  },
  {
   "cell_type": "code",
   "execution_count": 33,
   "metadata": {},
   "outputs": [
    {
     "name": "stdout",
     "output_type": "stream",
     "text": [
      "[ 1.20453484  0.53562005 -1.0443294   0.98410499  0.80706781  0.66131896\n",
      "  0.22305543 -2.01996973  1.00619384  0.98757022]\n"
     ]
    }
   ],
   "source": [
    "z = np.random.randn(10)\n",
    "print(z)"
   ]
  },
  {
   "cell_type": "code",
   "execution_count": 34,
   "metadata": {},
   "outputs": [
    {
     "data": {
      "text/plain": [
       "True"
      ]
     },
     "execution_count": 34,
     "metadata": {},
     "output_type": "execute_result"
    }
   ],
   "source": [
    "np.any(z > 0)"
   ]
  },
  {
   "cell_type": "code",
   "execution_count": 38,
   "metadata": {},
   "outputs": [
    {
     "data": {
      "text/plain": [
       "True"
      ]
     },
     "execution_count": 38,
     "metadata": {},
     "output_type": "execute_result"
    }
   ],
   "source": [
    "np.all(z != 0)"
   ]
  },
  {
   "cell_type": "code",
   "execution_count": 39,
   "metadata": {},
   "outputs": [
    {
     "data": {
      "text/plain": [
       "1.118033988749895"
      ]
     },
     "execution_count": 39,
     "metadata": {},
     "output_type": "execute_result"
    }
   ],
   "source": [
    "np.std(np.arange(1, 5))"
   ]
  },
  {
   "cell_type": "markdown",
   "metadata": {},
   "source": [
    "#### where 함수\n",
    " - 조건에 따라 선별적으로 값을 선택 가능\n",
    " - 사용 예) 음수인경우는 0, 나머지는 그대로 값을 쓰는 경우"
   ]
  },
  {
   "cell_type": "code",
   "execution_count": 40,
   "metadata": {},
   "outputs": [
    {
     "name": "stdout",
     "output_type": "stream",
     "text": [
      "[ 1.30517321 -1.14538098  0.18104777  0.06041516 -0.27354847 -1.73273736\n",
      " -2.31832762  1.15397856  0.48692833 -0.47369105]\n"
     ]
    }
   ],
   "source": [
    "z = np.random.randn(10)\n",
    "print(z)"
   ]
  },
  {
   "cell_type": "code",
   "execution_count": 43,
   "metadata": {},
   "outputs": [
    {
     "data": {
      "text/plain": [
       "array([1.30517321, 0.        , 0.18104777, 0.06041516, 0.        ,\n",
       "       0.        , 0.        , 1.15397856, 0.48692833, 0.        ])"
      ]
     },
     "execution_count": 43,
     "metadata": {},
     "output_type": "execute_result"
    }
   ],
   "source": [
    "np.where(z > 0, z, 0) # 첫번째 : 조건, 두번쨰: 조건이 참인경우의 값, 세번째: 거짓인 경우의 값"
   ]
  },
  {
   "cell_type": "code",
   "execution_count": null,
   "metadata": {},
   "outputs": [],
   "source": []
  }
 ],
 "metadata": {
  "kernelspec": {
   "display_name": "Python 3",
   "language": "python",
   "name": "python3"
  },
  "language_info": {
   "codemirror_mode": {
    "name": "ipython",
    "version": 3
   },
   "file_extension": ".py",
   "mimetype": "text/x-python",
   "name": "python",
   "nbconvert_exporter": "python",
   "pygments_lexer": "ipython3",
   "version": "3.7.3"
  }
 },
 "nbformat": 4,
 "nbformat_minor": 1
}
