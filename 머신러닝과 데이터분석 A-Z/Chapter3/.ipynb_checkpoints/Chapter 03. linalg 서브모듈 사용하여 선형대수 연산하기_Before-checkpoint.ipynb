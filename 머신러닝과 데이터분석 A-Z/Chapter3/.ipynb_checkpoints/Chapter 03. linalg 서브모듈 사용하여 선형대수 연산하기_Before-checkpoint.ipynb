{
 "cells": [
  {
   "cell_type": "markdown",
   "metadata": {},
   "source": [
    "## 학습목표\n",
    " 1. linalg 서브모듈 함수 활용여 선형대수 연산하기"
   ]
  },
  {
   "cell_type": "code",
   "execution_count": 1,
   "metadata": {},
   "outputs": [],
   "source": [
    "import numpy as np"
   ]
  },
  {
   "cell_type": "markdown",
   "metadata": {},
   "source": [
    "#### np.linalg.inv\n",
    " - 역행렬을 구할 때 사용\n",
    " - 모든 차원의 값이 같아야 함"
   ]
  },
  {
   "cell_type": "code",
   "execution_count": 6,
   "metadata": {},
   "outputs": [
    {
     "name": "stdout",
     "output_type": "stream",
     "text": [
      "[[0.81020443 0.41537307 0.99030305]\n",
      " [0.57273381 0.59900096 0.74725465]\n",
      " [0.63968102 0.40417111 0.15073523]]\n",
      "[[ 1.33104879 -2.12260826  1.7778672 ]\n",
      " [-2.4622912   3.2146596   0.24045574]\n",
      " [ 0.9535948   0.3882282  -1.55539732]]\n",
      "[[ 1.00000000e+00  3.33066907e-16  0.00000000e+00]\n",
      " [-1.11022302e-16  1.00000000e+00  0.00000000e+00]\n",
      " [-1.66533454e-16  2.91433544e-16  1.00000000e+00]]\n",
      "[[ 1.00000000e+00  3.33066907e-16  0.00000000e+00]\n",
      " [-1.11022302e-16  1.00000000e+00  0.00000000e+00]\n",
      " [-1.66533454e-16  2.91433544e-16  1.00000000e+00]]\n"
     ]
    }
   ],
   "source": [
    "x = np.random.rand(3, 3)\n",
    "print(x)\n",
    "print(np.linalg.inv(x)) # 역행렬\n",
    "\n",
    "print(x @ np.linalg.inv(x)) # 행렬 곱은 @\n",
    "print(np.matmul(x, np.linalg.inv(x))) # np.matmul 행렬 곱 메소드\n"
   ]
  },
  {
   "cell_type": "markdown",
   "metadata": {},
   "source": [
    "#### np.linalg.solve\n",
    " - Ax = B 형태의 선형대수식 솔루션을 제공\n",
    " - 예제) 호랑이와 홍합의 합 : 25 호랑이 다리와 홍합 다리의 합은 64\n",
    "   - x + y = 25\n",
    "   - 2x + 4y = 64\n",
    "   \n",
    " $$\\begin{pmatrix} 1 & 1 \\\\ 2 & 4 \\end{pmatrix}\\begin{pmatrix} x \\\\ y \\end{pmatrix}= \\begin{pmatrix} 25 \\\\ 64 \\end{pmatrix}$$\n"
   ]
  },
  {
   "cell_type": "code",
   "execution_count": 11,
   "metadata": {},
   "outputs": [
    {
     "name": "stdout",
     "output_type": "stream",
     "text": [
      "[18.  7.]\n",
      "[18.  7.]\n"
     ]
    },
    {
     "data": {
      "text/plain": [
       "True"
      ]
     },
     "execution_count": 11,
     "metadata": {},
     "output_type": "execute_result"
    }
   ],
   "source": [
    "A = np.array([[1,1],[2,4]])\n",
    "B = np.array([25, 64])\n",
    "\n",
    "inverse_A  = np.linalg.inv(A)\n",
    "\n",
    "print( inverse_A@ B)\n",
    "\n",
    "x = np.linalg.solve(A, B) # 자동으로 역행렬을 구해서 풀어준다\n",
    "print(x)\n",
    "np.allclose(A@x, B) # 행렬의 비교할 때 쓰는 함수"
   ]
  },
  {
   "cell_type": "code",
   "execution_count": null,
   "metadata": {},
   "outputs": [],
   "source": []
  }
 ],
 "metadata": {
  "kernelspec": {
   "display_name": "Python 3",
   "language": "python",
   "name": "python3"
  },
  "language_info": {
   "codemirror_mode": {
    "name": "ipython",
    "version": 3
   },
   "file_extension": ".py",
   "mimetype": "text/x-python",
   "name": "python",
   "nbconvert_exporter": "python",
   "pygments_lexer": "ipython3",
   "version": "3.7.3"
  }
 },
 "nbformat": 4,
 "nbformat_minor": 1
}
