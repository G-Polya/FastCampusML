{
 "cells": [
  {
   "cell_type": "markdown",
   "metadata": {},
   "source": [
    "### 학습목표\n",
    " - random 서브모듈 함수를 통해 ndarray 생성하기"
   ]
  },
  {
   "cell_type": "code",
   "execution_count": 1,
   "metadata": {},
   "outputs": [],
   "source": [
    "import numpy as np"
   ]
  },
  {
   "cell_type": "markdown",
   "metadata": {},
   "source": [
    "#### random 서브모듈"
   ]
  },
  {
   "cell_type": "markdown",
   "metadata": {},
   "source": [
    "#### rand 함수\n",
    " - 0, 1사이의 분포로 랜덤한 ndarray 생성"
   ]
  },
  {
   "cell_type": "code",
   "execution_count": 7,
   "metadata": {},
   "outputs": [
    {
     "data": {
      "text/plain": [
       "array([[[0.60235718, 0.05776706, 0.75017374],\n",
       "        [0.98195917, 0.44799636, 0.05738096],\n",
       "        [0.73376332, 0.87478274, 0.416062  ],\n",
       "        [0.22856326, 0.30163944, 0.5945715 ],\n",
       "        [0.90788746, 0.65904073, 0.69343671]],\n",
       "\n",
       "       [[0.30422842, 0.19142426, 0.02123962],\n",
       "        [0.30017147, 0.62205724, 0.12938621],\n",
       "        [0.84583303, 0.34977576, 0.55385639],\n",
       "        [0.09923812, 0.78366351, 0.35131474],\n",
       "        [0.46605488, 0.94634913, 0.09044889]],\n",
       "\n",
       "       [[0.51171081, 0.82567602, 0.75789102],\n",
       "        [0.93563101, 0.47628704, 0.1586529 ],\n",
       "        [0.08840552, 0.37174638, 0.5708893 ],\n",
       "        [0.12117333, 0.16894673, 0.9928354 ],\n",
       "        [0.13878909, 0.15080152, 0.55363675]],\n",
       "\n",
       "       [[0.19878516, 0.67298154, 0.446261  ],\n",
       "        [0.21073761, 0.77347609, 0.19446872],\n",
       "        [0.7471045 , 0.6140874 , 0.12167932],\n",
       "        [0.48431654, 0.58412276, 0.2913004 ],\n",
       "        [0.99171615, 0.94527788, 0.05419171]]])"
      ]
     },
     "execution_count": 7,
     "metadata": {},
     "output_type": "execute_result"
    }
   ],
   "source": [
    "np.random.rand(4, 5, 3)"
   ]
  },
  {
   "cell_type": "markdown",
   "metadata": {},
   "source": [
    "#### randn함수\n",
    " - n: normal distribution(정규분포)\n",
    " - 정규분포로 샘플링된 랜덤 ndarray 생성"
   ]
  },
  {
   "cell_type": "code",
   "execution_count": 9,
   "metadata": {},
   "outputs": [
    {
     "data": {
      "text/plain": [
       "array([[[ 0.01789563,  0.04936059],\n",
       "        [ 0.54157725,  0.39109782],\n",
       "        [-0.48329246,  1.45931774],\n",
       "        [-0.62351442, -1.04322763]],\n",
       "\n",
       "       [[-0.99816946,  0.34450984],\n",
       "        [ 1.56491741, -0.22695221],\n",
       "        [-0.18082738, -0.35234784],\n",
       "        [-0.62236332,  0.04381116]],\n",
       "\n",
       "       [[-1.3872349 ,  0.98943047],\n",
       "        [ 0.46195128,  0.66435049],\n",
       "        [ 0.7356    ,  0.02024973],\n",
       "        [ 0.19348263,  0.79737736]]])"
      ]
     },
     "execution_count": 9,
     "metadata": {},
     "output_type": "execute_result"
    }
   ],
   "source": [
    "np.random.randn(3,4,2)"
   ]
  },
  {
   "cell_type": "code",
   "execution_count": 10,
   "metadata": {},
   "outputs": [
    {
     "data": {
      "text/plain": [
       "array([0.12757276, 0.17419489, 0.65647757, 0.37166025, 1.34040332])"
      ]
     },
     "execution_count": 10,
     "metadata": {},
     "output_type": "execute_result"
    }
   ],
   "source": [
    "np.random.randn(5)"
   ]
  },
  {
   "cell_type": "markdown",
   "metadata": {},
   "source": [
    "#### randint 함수\n",
    " - 특정 정수 사이에서 랜덤하게 샘플링"
   ]
  },
  {
   "cell_type": "code",
   "execution_count": 11,
   "metadata": {},
   "outputs": [
    {
     "data": {
      "text/plain": [
       "array([[47, 18, 90, 48, 62],\n",
       "       [11, 26, 28, 53, 33],\n",
       "       [15, 54, 81, 89, 53]])"
      ]
     },
     "execution_count": 11,
     "metadata": {},
     "output_type": "execute_result"
    }
   ],
   "source": [
    "np.random.randint(1, 100, size = (3,5))"
   ]
  },
  {
   "cell_type": "markdown",
   "metadata": {},
   "source": [
    "#### seed 함수\n",
    " - 랜덤한 값을 동일하게 다시 생성하고자 할때 사용"
   ]
  },
  {
   "cell_type": "code",
   "execution_count": 29,
   "metadata": {},
   "outputs": [
    {
     "data": {
      "text/plain": [
       "array([[-1.74976547,  0.3426804 ,  1.1530358 , -0.25243604],\n",
       "       [ 0.98132079,  0.51421884,  0.22117967, -1.07004333],\n",
       "       [-0.18949583,  0.25500144, -0.45802699,  0.43516349]])"
      ]
     },
     "execution_count": 29,
     "metadata": {},
     "output_type": "execute_result"
    }
   ],
   "source": [
    "np.random.seed(100)\n",
    "np.random.randn(3,4)"
   ]
  },
  {
   "cell_type": "markdown",
   "metadata": {},
   "source": [
    "#### choice\n",
    " - 주어진 1차원 ndarray로 부터 랜덤으로 샘플링\n",
    " - 정수가 주어진 경우, np.arange(해당숫자)로 간주"
   ]
  },
  {
   "cell_type": "code",
   "execution_count": 30,
   "metadata": {},
   "outputs": [
    {
     "data": {
      "text/plain": [
       "array([[83,  4, 91, 59],\n",
       "       [67,  7, 49, 47],\n",
       "       [65, 61, 14, 55]])"
      ]
     },
     "execution_count": 30,
     "metadata": {},
     "output_type": "execute_result"
    }
   ],
   "source": [
    "np.random.choice(100, (3, 4))"
   ]
  },
  {
   "cell_type": "code",
   "execution_count": 37,
   "metadata": {},
   "outputs": [
    {
     "data": {
      "text/plain": [
       "array([[3. , 4.9],\n",
       "       [2. , 2.6]])"
      ]
     },
     "execution_count": 37,
     "metadata": {},
     "output_type": "execute_result"
    }
   ],
   "source": [
    "x = np.array([1,2,3,1.5,2.6,4.9])\n",
    "np.random.choice(x,size=(2,2),replace = False)"
   ]
  },
  {
   "cell_type": "markdown",
   "metadata": {},
   "source": [
    "#### 확률분포에 따른 ndarray 생성\n",
    " - uniform\n",
    " - normal 등등"
   ]
  },
  {
   "cell_type": "code",
   "execution_count": 40,
   "metadata": {},
   "outputs": [
    {
     "data": {
      "text/plain": [
       "array([[1.15078982, 1.02280158, 1.09684114, 1.71424542, 2.33138675],\n",
       "       [1.02277922, 1.21583553, 2.8020262 , 2.58975752, 2.62292196],\n",
       "       [2.28055611, 2.24955902, 1.29101502, 2.1404318 , 1.130225  ],\n",
       "       [1.62682514, 1.43413153, 2.05390078, 1.85421676, 2.96526085]])"
      ]
     },
     "execution_count": 40,
     "metadata": {},
     "output_type": "execute_result"
    }
   ],
   "source": [
    "np.random.uniform(1.0, 3.0, size=(4,5))"
   ]
  },
  {
   "cell_type": "code",
   "execution_count": 43,
   "metadata": {},
   "outputs": [
    {
     "data": {
      "text/plain": [
       "array([[ 0.16602374,  1.03809509, -1.05805624,  1.45086346],\n",
       "       [-0.57988297,  2.52392365, -1.59535921, -0.3121006 ],\n",
       "       [-0.29710829,  1.43256018,  0.89627646,  0.55865884]])"
      ]
     },
     "execution_count": 43,
     "metadata": {},
     "output_type": "execute_result"
    }
   ],
   "source": [
    "np.random.normal(size=(3,4))\n",
    "np.random.randn(3,4)"
   ]
  },
  {
   "cell_type": "code",
   "execution_count": null,
   "metadata": {},
   "outputs": [],
   "source": []
  }
 ],
 "metadata": {
  "kernelspec": {
   "display_name": "Python 3",
   "language": "python",
   "name": "python3"
  },
  "language_info": {
   "codemirror_mode": {
    "name": "ipython",
    "version": 3
   },
   "file_extension": ".py",
   "mimetype": "text/x-python",
   "name": "python",
   "nbconvert_exporter": "python",
   "pygments_lexer": "ipython3",
   "version": "3.7.3"
  }
 },
 "nbformat": 4,
 "nbformat_minor": 2
}
