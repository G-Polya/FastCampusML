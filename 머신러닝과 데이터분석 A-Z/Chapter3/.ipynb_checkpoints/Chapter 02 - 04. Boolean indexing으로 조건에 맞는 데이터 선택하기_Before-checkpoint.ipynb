{
 "cells": [
  {
   "cell_type": "markdown",
   "metadata": {},
   "source": [
    "## 학습목표\n",
    "1. boolean indexing의 이해"
   ]
  },
  {
   "cell_type": "markdown",
   "metadata": {},
   "source": [
    "#### Boolean indexing\n",
    "  - ndarry 인덱싱 시, bool 리스트를 전달하여 True인 경우만 필터링"
   ]
  },
  {
   "cell_type": "markdown",
   "metadata": {},
   "source": [
    "* 브로드캐스팅을 활용하여 ndarray로 부터 bool list 얻기\n",
    " - 예) 짝수인 경우만 찾아보기"
   ]
  },
  {
   "cell_type": "code",
   "execution_count": 18,
   "metadata": {},
   "outputs": [],
   "source": [
    "import numpy as np"
   ]
  },
  {
   "cell_type": "code",
   "execution_count": 19,
   "metadata": {},
   "outputs": [
    {
     "name": "stdout",
     "output_type": "stream",
     "text": [
      "[77 67 67  6 92 60 53 40 19 34]\n"
     ]
    }
   ],
   "source": [
    "x = np.random.randint(1, 100, size = 10)\n",
    "print(x)"
   ]
  },
  {
   "cell_type": "code",
   "execution_count": 20,
   "metadata": {},
   "outputs": [
    {
     "name": "stdout",
     "output_type": "stream",
     "text": [
      "[False False False  True  True  True False  True False  True]\n"
     ]
    }
   ],
   "source": [
    "even_mask = x % 2 == 0\n",
    "print(even_mask)"
   ]
  },
  {
   "cell_type": "markdown",
   "metadata": {},
   "source": [
    "- bool 리스트를 인덱스로 전달"
   ]
  },
  {
   "cell_type": "code",
   "execution_count": 21,
   "metadata": {},
   "outputs": [
    {
     "data": {
      "text/plain": [
       "array([ 6, 92, 60, 40, 34])"
      ]
     },
     "execution_count": 21,
     "metadata": {},
     "output_type": "execute_result"
    }
   ],
   "source": [
    "x[even_mask] # True인 위치만 값이 왔다."
   ]
  },
  {
   "cell_type": "code",
   "execution_count": 22,
   "metadata": {},
   "outputs": [
    {
     "data": {
      "text/plain": [
       "array([ 6, 92, 60, 40, 34])"
      ]
     },
     "execution_count": 22,
     "metadata": {},
     "output_type": "execute_result"
    }
   ],
   "source": [
    "x[x % 2 == 0]"
   ]
  },
  {
   "cell_type": "code",
   "execution_count": 23,
   "metadata": {},
   "outputs": [
    {
     "data": {
      "text/plain": [
       "array([77, 67, 67, 92, 60, 53, 40, 34])"
      ]
     },
     "execution_count": 23,
     "metadata": {},
     "output_type": "execute_result"
    }
   ],
   "source": [
    "x[x > 30]"
   ]
  },
  {
   "cell_type": "markdown",
   "metadata": {},
   "source": [
    "####  다중조건 사용하기\n",
    " - 파이썬 논리 연산지인 and, or, not 키워드 사용 불가\n",
    " - & - AND \n",
    " - | - OR "
   ]
  },
  {
   "cell_type": "code",
   "execution_count": 25,
   "metadata": {},
   "outputs": [
    {
     "data": {
      "text/plain": [
       "array([6])"
      ]
     },
     "execution_count": 25,
     "metadata": {},
     "output_type": "execute_result"
    }
   ],
   "source": [
    "x % 2 == 0\n",
    "x < 30\n",
    "\n",
    "x[(x % 2 == 0) & (x < 30)]"
   ]
  },
  {
   "cell_type": "code",
   "execution_count": 27,
   "metadata": {},
   "outputs": [
    {
     "data": {
      "text/plain": [
       "array([77, 67, 67,  6, 92, 60, 53, 19])"
      ]
     },
     "execution_count": 27,
     "metadata": {},
     "output_type": "execute_result"
    }
   ],
   "source": [
    "x < 30\n",
    "x > 50\n",
    "x[(x<30) | (x>50)]"
   ]
  },
  {
   "cell_type": "markdown",
   "metadata": {},
   "source": [
    "#### 예제) 2019년 7월 서울 평균기온 데이터\n",
    " - 평균기온이 25도를 넘는 날수는?\n",
    " - 평균기온이 25를 넘는 날의 평균 기온은?"
   ]
  },
  {
   "cell_type": "code",
   "execution_count": 29,
   "metadata": {},
   "outputs": [],
   "source": [
    "temp = np.array(\n",
    "        [23.9, 24.4, 24.1, 25.4, 27.6, 29.7,\n",
    "         26.7, 25.1, 25.0, 22.7, 21.9, 23.6, \n",
    "         24.9, 25.9, 23.8, 24.7, 25.6, 26.9, \n",
    "         28.6, 28.0, 25.1, 26.7, 28.1, 26.5, \n",
    "         26.3, 25.9, 28.4, 26.1, 27.5, 28.1, 25.8])"
   ]
  },
  {
   "cell_type": "code",
   "execution_count": 35,
   "metadata": {},
   "outputs": [
    {
     "name": "stdout",
     "output_type": "stream",
     "text": [
      "[False False False  True  True  True  True  True False False False False\n",
      " False  True False False  True  True  True  True  True  True  True  True\n",
      "  True  True  True  True  True  True  True]\n",
      "21\n"
     ]
    }
   ],
   "source": [
    "print(temp> 25.0)\n",
    "print(len(temp[temp > 25.0]))   "
   ]
  },
  {
   "cell_type": "code",
   "execution_count": 36,
   "metadata": {},
   "outputs": [
    {
     "data": {
      "text/plain": [
       "21"
      ]
     },
     "execution_count": 36,
     "metadata": {},
     "output_type": "execute_result"
    }
   ],
   "source": [
    "np.sum(temp>25.0)"
   ]
  },
  {
   "cell_type": "code",
   "execution_count": 38,
   "metadata": {},
   "outputs": [
    {
     "name": "stdout",
     "output_type": "stream",
     "text": [
      "26.857142857142858\n"
     ]
    }
   ],
   "source": [
    "print(np.mean(temp[temp>25.0]))"
   ]
  },
  {
   "cell_type": "code",
   "execution_count": null,
   "metadata": {},
   "outputs": [],
   "source": []
  }
 ],
 "metadata": {
  "kernelspec": {
   "display_name": "Python 3",
   "language": "python",
   "name": "python3"
  },
  "language_info": {
   "codemirror_mode": {
    "name": "ipython",
    "version": 3
   },
   "file_extension": ".py",
   "mimetype": "text/x-python",
   "name": "python",
   "nbconvert_exporter": "python",
   "pygments_lexer": "ipython3",
   "version": "3.7.3"
  }
 },
 "nbformat": 4,
 "nbformat_minor": 1
}
