{
  "nbformat": 4,
  "nbformat_minor": 0,
  "metadata": {
    "colab": {
      "name": "Python Programming 기초 2~6강.ipynb",
      "version": "0.3.2",
      "provenance": [],
      "collapsed_sections": [],
      "include_colab_link": true
    },
    "kernelspec": {
      "name": "python3",
      "display_name": "Python 3"
    }
  },
  "cells": [
    {
      "cell_type": "markdown",
      "metadata": {
        "id": "view-in-github",
        "colab_type": "text"
      },
      "source": [
        "<a href=\"https://colab.research.google.com/github/G-Polya/ML/blob/master/Python_Programming_%EA%B8%B0%EC%B4%88_2~6%EA%B0%95.ipynb\" target=\"_parent\"><img src=\"https://colab.research.google.com/assets/colab-badge.svg\" alt=\"Open In Colab\"/></a>"
      ]
    },
    {
      "cell_type": "markdown",
      "metadata": {
        "id": "pFl_wuoCW-0f",
        "colab_type": "text"
      },
      "source": [
        "#파이썬 기본 데이터 타입\n",
        " - 정수 int\n",
        " - 실수 float\n",
        " - 문자열 str\n",
        " - 불리언 boolean\n",
        " \n",
        "# type함수\n",
        " - 해당 변수, 값의 타입(type)을 알고자 할 떄 사용\n",
        " "
      ]
    },
    {
      "cell_type": "code",
      "metadata": {
        "id": "BqMBY_MZXrCt",
        "colab_type": "code",
        "colab": {
          "base_uri": "https://localhost:8080/",
          "height": 35
        },
        "outputId": "ec4fb330-eefd-4801-fd54-e240df506938"
      },
      "source": [
        "a = 10\n",
        "b = 11.45\n",
        "\n",
        "type(b)"
      ],
      "execution_count": 1,
      "outputs": [
        {
          "output_type": "execute_result",
          "data": {
            "text/plain": [
              "float"
            ]
          },
          "metadata": {
            "tags": []
          },
          "execution_count": 1
        }
      ]
    },
    {
      "cell_type": "markdown",
      "metadata": {
        "id": "h_iSFmLqXttr",
        "colab_type": "text"
      },
      "source": [
        "# None\n",
        "- 아무런 값을 갖지 않을 때 사용\n",
        "- 일반적으로 변수가 초기값을 갖지 않게 하여 해당 변수를 생성할 때 사용\n",
        "- 기타 언어의 NULL, nil 등과 같은 의미로 사용\n"
      ]
    },
    {
      "cell_type": "code",
      "metadata": {
        "id": "PLxixpvYYgvW",
        "colab_type": "code",
        "colab": {
          "base_uri": "https://localhost:8080/",
          "height": 35
        },
        "outputId": "8ed1e08a-063f-40b9-f30a-5329c48d5ebe"
      },
      "source": [
        "c = None\n",
        "print(c)"
      ],
      "execution_count": 6,
      "outputs": [
        {
          "output_type": "stream",
          "text": [
            "None\n"
          ],
          "name": "stdout"
        }
      ]
    },
    {
      "cell_type": "code",
      "metadata": {
        "id": "idwjjE8nYpdW",
        "colab_type": "code",
        "colab": {
          "base_uri": "https://localhost:8080/",
          "height": 125
        },
        "outputId": "835d5c39-c411-4fc6-8006-b72ccde3a925"
      },
      "source": [
        "a = 5\n",
        "b = 4\n",
        "\n",
        "print(a > b)  #True\n",
        "print(a<b)    #False\n",
        "print(a>=b)   #True\n",
        "print(a<=b)   #False\n",
        "print(a==b)   #False\n",
        "\n",
        "c = a > b\n",
        "print(type(c))"
      ],
      "execution_count": 8,
      "outputs": [
        {
          "output_type": "stream",
          "text": [
            "True\n",
            "False\n",
            "True\n",
            "False\n",
            "False\n",
            "<class 'bool'>\n"
          ],
          "name": "stdout"
        }
      ]
    },
    {
      "cell_type": "markdown",
      "metadata": {
        "id": "l8lWfMvIY_Zm",
        "colab_type": "text"
      },
      "source": [
        "비교 연산자의 결과는 boolean\n",
        "\n",
        "#operator priorities(연산자 우선순위)\n",
        "- 기본적인 수학의 연산자와 동일\n",
        "- 강제로 연산을 먼저하게 하기 위해선, 괄호()를 사용"
      ]
    },
    {
      "cell_type": "code",
      "metadata": {
        "id": "zX_BD63LoVm9",
        "colab_type": "code",
        "colab": {
          "base_uri": "https://localhost:8080/",
          "height": 53
        },
        "outputId": "165d8b5c-a4c7-4ed7-942a-4761bb188d4b"
      },
      "source": [
        "a = 5\n",
        "b = 4\n",
        "\n",
        "print(a+b*4)\n",
        "print((a+b) * 4)"
      ],
      "execution_count": 12,
      "outputs": [
        {
          "output_type": "stream",
          "text": [
            "21\n",
            "36\n"
          ],
          "name": "stdout"
        }
      ]
    },
    {
      "cell_type": "code",
      "metadata": {
        "id": "mfHDMOpQpLxp",
        "colab_type": "code",
        "colab": {
          "base_uri": "https://localhost:8080/",
          "height": 71
        },
        "outputId": "e699330f-9c8f-480e-a9f3-5e8ac15c71d2"
      },
      "source": [
        "a = 9\n",
        "print(a)\n",
        "print(a-3)\n",
        "print(a)"
      ],
      "execution_count": 13,
      "outputs": [
        {
          "output_type": "stream",
          "text": [
            "9\n",
            "6\n",
            "9\n"
          ],
          "name": "stdout"
        }
      ]
    },
    {
      "cell_type": "markdown",
      "metadata": {
        "id": "JEGutsmwon7F",
        "colab_type": "text"
      },
      "source": [
        "#expressiont evaluation & assignment(식평가 & 대입)\n",
        "- 변수의 값이 변경되기 위해서는 =를 사용하여 대입이 발생하는 경우에만 해당"
      ]
    },
    {
      "cell_type": "code",
      "metadata": {
        "id": "QlINjILEpJRl",
        "colab_type": "code",
        "colab": {
          "base_uri": "https://localhost:8080/",
          "height": 35
        },
        "outputId": "9ef939a2-93d2-4fa7-8b5c-4d2cbcad8f40"
      },
      "source": [
        "a = 9\n",
        "a = a-3\n",
        "print(a)\n"
      ],
      "execution_count": 15,
      "outputs": [
        {
          "output_type": "stream",
          "text": [
            "6\n"
          ],
          "name": "stdout"
        }
      ]
    },
    {
      "cell_type": "markdown",
      "metadata": {
        "id": "8cyrSUETpw0U",
        "colab_type": "text"
      },
      "source": [
        "#string(문자열)\n",
        "- 복수개의 문자를 순서대로 나열한 것\n",
        "- 문자열은 '(작은따옴표)' 혹은 \"큰따옴표\" 사이에 문자를 넣어서 생성\n",
        "- 문자열 자체에', \"\"가 있는 경우에는 각각 그 반대의 기호로 생성\n",
        "\n",
        "#''' '''사용하여 표현가능\n",
        "-차이점\n",
        " - '', \"\" -> 한줄 문자열 표현\n",
        " - ''' ''' -> 여러줄에 걸쳐 문자열 표현가능"
      ]
    },
    {
      "cell_type": "code",
      "metadata": {
        "id": "cR-oz1xirfhL",
        "colab_type": "code",
        "colab": {
          "base_uri": "https://localhost:8080/",
          "height": 53
        },
        "outputId": "f249ca33-7e7d-4af4-b99e-8910b1cd90fe"
      },
      "source": [
        "a = ' \"Hello\" world'\n",
        "b = \"'Hello' world\" #\n",
        "\n",
        "\n",
        "\n",
        "print(a)\n",
        "print(b)\n"
      ],
      "execution_count": 19,
      "outputs": [
        {
          "output_type": "stream",
          "text": [
            " \"Hello\" world\n",
            "'Hello' world\n"
          ],
          "name": "stdout"
        }
      ]
    },
    {
      "cell_type": "code",
      "metadata": {
        "id": "ZpRBA-7Xrr7T",
        "colab_type": "code",
        "colab": {
          "base_uri": "https://localhost:8080/",
          "height": 107
        },
        "outputId": "8b1a1064-2198-42d6-abd1-a1c8b55906c2"
      },
      "source": [
        "c = '''Hello \n",
        "\n",
        "World'''\n",
        "d = \"\"\"Hello \n",
        "World\"\"\"\n",
        "\n",
        "print(c)\n",
        "print(d)"
      ],
      "execution_count": 20,
      "outputs": [
        {
          "output_type": "stream",
          "text": [
            "Hello \n",
            "\n",
            "World\n",
            "Hello \n",
            "World\n"
          ],
          "name": "stdout"
        }
      ]
    },
    {
      "cell_type": "markdown",
      "metadata": {
        "id": "qGGQFrNUsUuU",
        "colab_type": "text"
      },
      "source": [
        "#escape string(이스케이프 문자)\n",
        "-문자열 내의 일부 문자의 의미를 달리하여 특정한 효과를 주는 것\n",
        "- \\n: new line \\t: tab"
      ]
    },
    {
      "cell_type": "code",
      "metadata": {
        "id": "MbaajCRsskfc",
        "colab_type": "code",
        "colab": {
          "base_uri": "https://localhost:8080/",
          "height": 89
        },
        "outputId": "7e0d7d25-d260-4390-ac43-1dc04bd51bb6"
      },
      "source": [
        "print('hello World \\n\\n')\n",
        "print('Ha\\thahah')"
      ],
      "execution_count": 21,
      "outputs": [
        {
          "output_type": "stream",
          "text": [
            "hello World \n",
            "\n",
            "\n",
            "Ha\thahah\n"
          ],
          "name": "stdout"
        }
      ]
    },
    {
      "cell_type": "markdown",
      "metadata": {
        "id": "9AGvNz5jso4s",
        "colab_type": "text"
      },
      "source": [
        "indexing & slicing string(문자열 인덱스 및 추출)\n",
        "- 문자열의 각 문자는 순서가 있음\n",
        "- 이 때 각 문자열의 순서를 인덱스라고 함\n",
        "- 첫번째 문자부터 마지막까지 차레대로의 순서를 가짐\n",
        "- 첫번째 시작문자의 순서는 0으로 시작 "
      ]
    },
    {
      "cell_type": "code",
      "metadata": {
        "id": "Zq72-9NitP5M",
        "colab_type": "code",
        "colab": {
          "base_uri": "https://localhost:8080/",
          "height": 71
        },
        "outputId": "f29d6818-2a13-4fab-9140-b5773f6aa6d8"
      },
      "source": [
        "a = 'Hello World' #길이 : 11\n",
        "print(a[0])\n",
        "print(a[-1])\n",
        "print(a[-11])"
      ],
      "execution_count": 26,
      "outputs": [
        {
          "output_type": "stream",
          "text": [
            "H\n",
            "d\n",
            "H\n"
          ],
          "name": "stdout"
        }
      ]
    },
    {
      "cell_type": "markdown",
      "metadata": {
        "id": "wXVA03ovtSmc",
        "colab_type": "text"
      },
      "source": [
        "# -1 인덱스\n",
        "- 다른 언어와는 달리, python의 경우 음수 인덱스를 지원\n",
        "- -1이 가장 마지막 인덱스를, -2가 마지막에서 두번째 인덱스를 의미\n",
        "## 인덱스의 범위\n",
        " - 인덱스는 [0, 문자열의길이)의 범위만 유효\n",
        " - 음수 인덱스를 사용할 경우, [-문자열의 길이,-1]\n",
        " - 범위를 넘어갈 경우 에러 발생"
      ]
    },
    {
      "cell_type": "markdown",
      "metadata": {
        "id": "KX0Qvei9taO8",
        "colab_type": "text"
      },
      "source": [
        "#문자열 slicing\n",
        "- 인덱스가 하나의 문자만을 추출한다면, slicing은 부분 문다열을 추출\n",
        "- [시작:끝]와 같이 명시하여 [시작,끝)에 해당하는 부분 문자열을 추출\n",
        "- 시작, 끝 인덱스가 생략이 되어있다면, 0부터 혹은 끝까지로 간주"
      ]
    },
    {
      "cell_type": "code",
      "metadata": {
        "id": "VCgju9JsuL4U",
        "colab_type": "code",
        "colab": {
          "base_uri": "https://localhost:8080/",
          "height": 89
        },
        "outputId": "651d89e5-588b-4330-b0bd-14291e20de32"
      },
      "source": [
        "a = 'Hello World'\n",
        "print(a[0:4])\n",
        "print(a[:5])\n",
        "print(a[3:])\n",
        "print(a[:])"
      ],
      "execution_count": 31,
      "outputs": [
        {
          "output_type": "stream",
          "text": [
            "Hell\n",
            "Hello\n",
            "lo World\n",
            "Hello World\n"
          ],
          "name": "stdout"
        }
      ]
    },
    {
      "cell_type": "markdown",
      "metadata": {
        "id": "wFWyvxuDuo1s",
        "colab_type": "text"
      },
      "source": [
        "# 문자열 함수\n",
        "- 문자열은 여러가지 기능 제공을 위한 함수를 내장\n",
        "- 함수란 특정 기능을 하는 코드로 언제든지 호출하여 해당 기능을 사용가능하도록 구성한 코드\n"
      ]
    },
    {
      "cell_type": "code",
      "metadata": {
        "id": "RNXLGfe3vbjk",
        "colab_type": "code",
        "colab": {
          "base_uri": "https://localhost:8080/",
          "height": 35
        },
        "outputId": "cb3bd0c7-a1da-4b4a-b024-2931b1aeff5f"
      },
      "source": [
        "a = 'hello world'\n",
        "a.upper()"
      ],
      "execution_count": 32,
      "outputs": [
        {
          "output_type": "execute_result",
          "data": {
            "text/plain": [
              "'HELLO WORLD'"
            ]
          },
          "metadata": {
            "tags": []
          },
          "execution_count": 32
        }
      ]
    },
    {
      "cell_type": "markdown",
      "metadata": {
        "id": "VVIkkFPfvej1",
        "colab_type": "text"
      },
      "source": [
        "- replace\n",
        " - 문자열 내의 특정 문자를 치환\n",
        " "
      ]
    },
    {
      "cell_type": "code",
      "metadata": {
        "id": "nTPtXeiJvkzM",
        "colab_type": "code",
        "colab": {
          "base_uri": "https://localhost:8080/",
          "height": 35
        },
        "outputId": "4c9abec2-b3b3-47ee-a8ff-afd6bf6892d9"
      },
      "source": [
        "a = 'hello world'\n",
        "a.replace('h', 'j') #모든 'h'를 'j'로 바꿔라"
      ],
      "execution_count": 33,
      "outputs": [
        {
          "output_type": "execute_result",
          "data": {
            "text/plain": [
              "'jello world'"
            ]
          },
          "metadata": {
            "tags": []
          },
          "execution_count": 33
        }
      ]
    },
    {
      "cell_type": "markdown",
      "metadata": {
        "id": "Mrh9n0Arvxil",
        "colab_type": "text"
      },
      "source": [
        "- format\n",
        " - 문자열 내의 특정한 값을 변수로 초기화하여 동적으로 문자열을 생성"
      ]
    },
    {
      "cell_type": "code",
      "metadata": {
        "id": "9ig1CPCGv2Fg",
        "colab_type": "code",
        "colab": {
          "base_uri": "https://localhost:8080/",
          "height": 35
        },
        "outputId": "c67710fe-2739-4e69-fdd0-5ab02c4e53aa"
      },
      "source": [
        "temperature =  25.5\n",
        "probability = 80\n",
        "a = '오늘 기온은 {0}도 이고, 비올 확률은 {1}% 입니다.'.format(temperature, probability)\n",
        "\n",
        "print(a)\n"
      ],
      "execution_count": 39,
      "outputs": [
        {
          "output_type": "stream",
          "text": [
            "오늘 기온은 25.5도 이고, 비올 확률은 80% 입니다.\n"
          ],
          "name": "stdout"
        }
      ]
    },
    {
      "cell_type": "markdown",
      "metadata": {
        "id": "38n_1lIEv-xV",
        "colab_type": "text"
      },
      "source": [
        "- split\n",
        " - 문자열을 특정한 문자로 구분하여(delimiter) 문자열의 리스트로 치환\n"
      ]
    },
    {
      "cell_type": "code",
      "metadata": {
        "id": "fk7AArq9wVzA",
        "colab_type": "code",
        "colab": {
          "base_uri": "https://localhost:8080/",
          "height": 35
        },
        "outputId": "f985d1e4-c8d4-4ea0-a384-339de6fe6d55"
      },
      "source": [
        "a = 'hello world what a nice weather'\n",
        "a.split()"
      ],
      "execution_count": 40,
      "outputs": [
        {
          "output_type": "execute_result",
          "data": {
            "text/plain": [
              "['hello', 'world', 'what', 'a', 'nice', 'weather']"
            ]
          },
          "metadata": {
            "tags": []
          },
          "execution_count": 40
        }
      ]
    },
    {
      "cell_type": "code",
      "metadata": {
        "id": "X2XNci1uwYfE",
        "colab_type": "code",
        "colab": {}
      },
      "source": [
        ""
      ],
      "execution_count": 0,
      "outputs": []
    }
  ]
}