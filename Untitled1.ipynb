{
 "cells": [
  {
   "cell_type": "code",
   "execution_count": 2,
   "metadata": {},
   "outputs": [],
   "source": [
    "# 네이버 영화 데이터 수집\n",
    "\n",
    "import requests\n",
    "from bs4 import BeautifulSoup\n",
    "\n",
    "raw = requests.get(\"https://search.naver.com/search.naver?sm=top_hty&fbm=1&ie=utf8&query=%EB%84%A4%EC%9D%B4%EB%B2%84+%EC%98%81%ED%99%94\",\n",
    "                   headers={\"User-Agent\":\"Mozilla/5.0\"})\n",
    "\n",
    "html = BeautifulSoup(raw.text,'html.parser')\n",
    "\n",
    "# 컨테이너 dl.lst_dsc\n",
    "# ul.lst_detail_t1 li는 왜 아닐까?  오히려 이쪽이 영화포스터도 포함하는데\n",
    "movies = html.select(\"dl.lst_dsc\")\n",
    "\n",
    "for m in movies:\n",
    "    # 제목 dl.lst_dsc\n",
    "    title = m.selcet_one(\"dt.tit > a\").text\n",
    "    # 평점\n",
    "    score = m.selcet_one(\"div.star_t1 a span.num\").text\n",
    "    # 장르\n",
    "    # 감독\n",
    "    # 배우\n",
    "    print(title)\n",
    "    print(score)"
   ]
  },
  {
   "cell_type": "code",
   "execution_count": null,
   "metadata": {},
   "outputs": [],
   "source": []
  }
 ],
 "metadata": {
  "kernelspec": {
   "display_name": "Python 3",
   "language": "python",
   "name": "python3"
  },
  "language_info": {
   "codemirror_mode": {
    "name": "ipython",
    "version": 3
   },
   "file_extension": ".py",
   "mimetype": "text/x-python",
   "name": "python",
   "nbconvert_exporter": "python",
   "pygments_lexer": "ipython3",
   "version": "3.7.3"
  }
 },
 "nbformat": 4,
 "nbformat_minor": 2
}
