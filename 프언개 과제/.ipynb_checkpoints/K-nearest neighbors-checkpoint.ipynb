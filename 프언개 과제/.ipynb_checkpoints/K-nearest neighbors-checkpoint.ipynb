{
 "cells": [
  {
   "cell_type": "markdown",
   "metadata": {},
   "source": [
    "# K-Nearest Neighbors Algorithm(KNN, k-최근접 이웃법)\n",
    "- KNN이론은 지도학습 중 분류 문제에 사용하는 알고리즘이다.\n",
    "- 분류문제란, 새로운 데이터가 들어왔을 때 기존 데이터의 그룹 중 어떤 그룹에 속하는지를 분류하는 문제를 말한다.\n"
   ]
  },
  {
   "cell_type": "markdown",
   "metadata": {},
   "source": [
    "![KNN_example](img/example1.PNG)"
   ]
  },
  {
   "cell_type": "markdown",
   "metadata": {},
   "source": [
    "- 저 물음표는 세모와 동그라미 중 어느 그룹에 속할까?\n",
    "- 최근접 이웃법에서는 \"?\"의 주변에 있는것이 세모이기 때문에 세모라고 판단한다.\n",
    "- 하지만 과연 단순히 가장 가까이 있는 것과 같게 선택하는 것이 올바른 분류일까?"
   ]
  },
  {
   "cell_type": "markdown",
   "metadata": {},
   "source": [
    "![exampl2](img/example2.png)"
   ]
  },
  {
   "cell_type": "markdown",
   "metadata": {},
   "source": [
    "- \"?\"에서 가장 가까운것은 파란 동그라미이지만, 조금 넓혀서 본다면 뭔가 부적절하다는 것이 느껴질것이다\n",
    "- 따라서 단순히 주변에 무엇이 가장 가까이 있는가를 보는 것이 아니라 주변에 있는 몇 개의 것들을 같이 봐서 가장 많은 것의 그룹에 주어진 데이터를 분류하는 방식을 사용하게 된다\n",
    "- 이것이 K-Nearest Neighbors(KNN)방법이다. 이 때, k는 주변의 개수를 의미한다"
   ]
  },
  {
   "cell_type": "markdown",
   "metadata": {},
   "source": [
    "![example3](img/example3.png)"
   ]
  },
  {
   "cell_type": "markdown",
   "metadata": {},
   "source": [
    "- K가 1일 때는 \"?\"를 파란 동그라미라고 판단하겠지만 K를 4로 변경한다면 빨간 세모라고 판단할 것이다.\n",
    "- 그렇다면 최선의 K값은 무엇일까? K값이 커질수록 분류에서 이상치(위 그림에서는 파란동그라미)의 영향이 줄어들지만 K가 계속 커진다면 분류자체를 못하게 되는 상황이 발생한다."
   ]
  },
  {
   "cell_type": "markdown",
   "metadata": {},
   "source": [
    "## 구체적인 예시를 들어보자\n",
    "- 아래와 같이 6개의 기존 데이터 A~F와 1개의 신규 데이터 N이 있다고 하자\n",
    "![example4](img/example4.png) ![example4_1](img/example4_1.png) "
   ]
  },
  {
   "cell_type": "markdown",
   "metadata": {},
   "source": [
    "- 만약에 k = 1이라면 거리가 1번째로 가까운 C만을 보고 신규 데이터를 분류한다.\n",
    "- 따라서 N은 C와 같은 그룹인 ●로 분류된다.\n",
    "![example5](img/example5.png)"
   ]
  },
  {
   "cell_type": "markdown",
   "metadata": {},
   "source": [
    "- 만약에 k = 3이라면, 거리가 3번째로 가까운 C,D,E까지 보고 신규 데이터를 분류한다\n",
    "- 이 때 그룹이 갈리면 다수결의 원칙에 따른다\n",
    "- 여기서는 ▲이 2개, ●이 1개이므로 ▲로 분류된다\n",
    "![example6](img/example6.png)"
   ]
  },
  {
   "cell_type": "markdown",
   "metadata": {},
   "source": [
    "- 만약에 k = 5라면 거리가 5번째로 가까운 C,D,E,B,A까지 보고 신규데이터를 분류한다\n",
    "- 이번에는 ▲이 2개, ●이 3개이므로 ●로 분류된다\n",
    "![example7](img/example7.png)"
   ]
  },
  {
   "cell_type": "markdown",
   "metadata": {},
   "source": [
    "**이처럼 같은 데이터임에도 k가 얼마냐에 따라 N이 ●로 분류되기도 하고 ▲로 분류되기도 한다.\n",
    "그만큼 적절한 k를 정해주는 게 중요하다**"
   ]
  },
  {
   "cell_type": "markdown",
   "metadata": {},
   "source": [
    "## 거리척도의 단위문제 -  유클리드 거리\n",
    "- KNN에서 가깝다는 개념은 유클리드 거리(Euclidean Distance)로 정의하는데, 유클리드 거리를 계산할 때는 단위가 매우중요하다\n",
    "- 일단 유클리드 거리는 아래와 같이 계산한다\n",
    "![Euclid](img/Euclid.png)"
   ]
  },
  {
   "cell_type": "markdown",
   "metadata": {},
   "source": [
    "- 에를 들어 앞에서 다뤘던 데이터에서 y좌표의 단위가 달러다고 가정하자\n",
    "![dollar](img/dollar.png)\n",
    "- 이 때 A-N 간의 유클리드 거리는 3.162이고 B-N간의 유클리드 거리는 2.828로, **B가 더 가깝다**"
   ]
  },
  {
   "cell_type": "markdown",
   "metadata": {},
   "source": [
    "- 그런데 만약 y좌표의 단위가 원으로 바뀌었다고 가정하자, 1달러 = 1,000원이라고 한다면 그래프가 아래처럼 바뀔 것이다\n",
    "![won](img/won.png)\n",
    "- 이 때 A-N 간의 유클리드 거리는 1000.004이고 B-N간의 유클리드 거리는 2000.001로 **A가 더 가깝다**\n",
    "\n",
    "- 이렇게 변수별 단위가 무엇이냐에 따라 거리가 달라지고, 가까운 순서도 달라진다.\n",
    "- 순서가 달라지면 KNN에서의 분류결과도 달라진다는 뜻이다.\n",
    "- **그래서 반드시 KNN 알고리즘을 적용할 때에는 데이터의 단위를 통일시켜주어야 한다**\n"
   ]
  },
  {
   "cell_type": "markdown",
   "metadata": {},
   "source": [
    "## python 코드를 이용한 예제"
   ]
  },
  {
   "cell_type": "markdown",
   "metadata": {},
   "source": []
  },
  {
   "cell_type": "markdown",
   "metadata": {},
   "source": []
  },
  {
   "cell_type": "markdown",
   "metadata": {},
   "source": []
  },
  {
   "cell_type": "markdown",
   "metadata": {},
   "source": []
  },
  {
   "cell_type": "markdown",
   "metadata": {},
   "source": []
  }
 ],
 "metadata": {
  "kernelspec": {
   "display_name": "Python 3",
   "language": "python",
   "name": "python3"
  },
  "language_info": {
   "codemirror_mode": {
    "name": "ipython",
    "version": 3
   },
   "file_extension": ".py",
   "mimetype": "text/x-python",
   "name": "python",
   "nbconvert_exporter": "python",
   "pygments_lexer": "ipython3",
   "version": "3.7.3"
  }
 },
 "nbformat": 4,
 "nbformat_minor": 2
}
